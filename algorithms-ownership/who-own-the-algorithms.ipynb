{
 "cells": [
  {
   "cell_type": "code",
   "execution_count": null,
   "metadata": {
    "collapsed": true
   },
   "outputs": [],
   "source": [
    "import pandas as pd\n",
    "import numpy as np\n",
    "import pygal"
   ]
  },
  {
   "cell_type": "code",
   "execution_count": null,
   "metadata": {
    "collapsed": true
   },
   "outputs": [],
   "source": [
    "def fetch_ownership(project_name):\n",
    "    ownership = pd.read_csv('./drilled-informations/' + project_name + '-ownership.csv', sep = ';')\n",
    "    ownership['FILE_OWNERSHIP'] = ownership['AUTHOR_LINES'] / ownership['FILE_LINES']\n",
    "    \n",
    "    algorithms = pd.read_csv('./drilled-informations/' + project_name + '-algorithms.csv', sep = ';')['ALGORITHM']\n",
    "    \n",
    "    return ownership[ownership['FILE_NAME'].isin(algorithms)], algorithms\n",
    "\n",
    "scikit_learn, scikit_learn_algorithms = fetch_ownership('scikit-learn')\n",
    "scikit_image, scikit_image_algorithms = fetch_ownership('scikit-image')\n",
    "nltk, nltk_algorithms = fetch_ownership('nltk')"
   ]
  },
  {
   "cell_type": "markdown",
   "metadata": {},
   "source": [
    "## La majorité des algorithmes sont maintenus par un contributeur majeur."
   ]
  },
  {
   "cell_type": "code",
   "execution_count": null,
   "metadata": {},
   "outputs": [],
   "source": [
    "chart = pygal.Bar(legend_at_bottom = True)\n",
    "\n",
    "chart.title = 'Proportion of algorithms with a major contributor in function of the owned lines threshold'\n",
    "chart.x_title = 'Major contributor threshold (in % of owned lines)'\n",
    "chart.y_title = 'Proportion of algorithms with a major contributor'\n",
    "\n",
    "chart.x_labels = [str(i * 10) + '%' for i in range(1, 10)]\n",
    "\n",
    "chart.add('scikit-learn', [len(scikit_learn[scikit_learn['FILE_OWNERSHIP'] >= i / 10].drop_duplicates('FILE_NAME')) / len(scikit_learn_algorithms) for i in range(1, 10)])\n",
    "chart.add('scikit-image', [len(scikit_image[scikit_image['FILE_OWNERSHIP'] >= i / 10].drop_duplicates('FILE_NAME')) / len(scikit_image_algorithms) for i in range(1, 10)])\n",
    "chart.add('nltk', [len(nltk[nltk['FILE_OWNERSHIP'] >= i / 10].drop_duplicates('FILE_NAME')) / len(nltk_algorithms) for i in range(1, 10)])"
   ]
  },
  {
   "cell_type": "markdown",
   "metadata": {},
   "source": [
    "## Un contributeur majeur d'un algorithme n'est contributeur majeur que de cet algorithme"
   ]
  },
  {
   "cell_type": "code",
   "execution_count": null,
   "metadata": {},
   "outputs": [],
   "source": [
    "def major_owner_on_several_files(dataset, threshold):\n",
    "    major = dataset[dataset['FILE_OWNERSHIP'] >= threshold]['AUTHOR_NAME']\n",
    "    \n",
    "    owned = pd.Series(major.value_counts().values)\n",
    "    \n",
    "    return len(owned[owned != 1])\n",
    "\n",
    "chart = pygal.Bar(legend_at_bottom = True)\n",
    "\n",
    "chart.title = 'Normalized number of contributors which are major on several files in function of the owned lines threshold'\n",
    "chart.x_title = 'Major contributor threshold (in % of owned lines)'\n",
    "chart.y_title = 'Normalized number of contributors which are major on several files'\n",
    "\n",
    "chart.x_labels = [str(i * 10) + '%' for i in range(1, 10)]\n",
    "\n",
    "# The hardcoded values are the number of contributors in the project.\n",
    "chart.add('scikit-learn', [major_owner_on_several_files(scikit_learn, i / 10) / 1025 for i in range(1, 10)])\n",
    "chart.add('scikit-image', [major_owner_on_several_files(scikit_image, i / 10) / 247 for i in range(1, 10)])\n",
    "chart.add('nltk', [major_owner_on_several_files(nltk, i / 10) / 229 for i in range(1, 10)])"
   ]
  }
 ],
 "metadata": {
  "kernelspec": {
   "display_name": "Python 3",
   "language": "python",
   "name": "python3"
  },
  "language_info": {
   "codemirror_mode": {
    "name": "ipython",
    "version": 3
   },
   "file_extension": ".py",
   "mimetype": "text/x-python",
   "name": "python",
   "nbconvert_exporter": "python",
   "pygments_lexer": "ipython3",
   "version": "3.6.4"
  }
 },
 "nbformat": 4,
 "nbformat_minor": 2
}
