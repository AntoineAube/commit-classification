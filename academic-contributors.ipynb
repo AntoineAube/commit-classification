{
 "cells": [
  {
   "cell_type": "markdown",
   "metadata": {},
   "source": [
    "# Présence du monde académique dans les projets Open Source de Machine Learning : ces projets sont-ils faits par des chercheurs ?\n",
    "\n",
    "Dans le cadre de nos recherches, nous nous interrogeons sur la participation du monde académique au sein des projets Open Source de Machine Learning.\n",
    "\n",
    "Nos hypothèses sur la question sont les suivantes :\n",
    "* Les contributeurs ne sont pas majoritairement académique.\n",
    "* Les contributions viennent majoritairement de contributeurs académiques (en nombre de *commits* et en nombre de lignes).\n",
    "* Les contributeurs académiques sont les contributeurs qui contribuent le plus individuellement (en nombre de *commits* et en nombre de lignes).\n",
    "* La majorité des *commits* ajoutant des fonctionnalités proviennent de contributeurs académiques.\n",
    "\n",
    "Les hypothèses de travail que nous posons concernent la bonne foi des contributeurs dans les informations de *commit*. En particulier :\n",
    "* Le nom/prénom est celui de l'auteur.\n",
    "* L'adresse mail appartient à l'auteur. Le domaine de l'adresse est celui d'une académie si il est contributeur académique ou d'une entreprise si le contributeur contribue dans le cadre de son travail en entreprise.\n",
    "\n",
    "Pour étudier ces hypothèses et tenter de les réfuter, nous allons nous pencher sur les contributions de trois projets :\n",
    "* [Scikit-Learn](http://scikit-learn.org/stable/) ([dépôt GitHub](https://github.com/scikit-learn/scikit-learn)).\n",
    "* [Keras](https://keras.io/) ([dépôt GitHub](https://github.com/keras-team/keras)).\n",
    "* [Theano](http://deeplearning.net/software/theano/) ([dépôt GitHub](https://github.com/Theano/Theano)).\n",
    "\n",
    "Les données que nous allons exploiter dans ce document sont issues d'une extraction depuis leur dépôt Git respectif grâce à Repodriller. L'étude est reproductible avec le code disponible sur [notre dépôt GitHub](https://github.com/AntoineAube/reace-study)."
   ]
  },
  {
   "cell_type": "code",
   "execution_count": 1,
   "metadata": {
    "collapsed": true
   },
   "outputs": [],
   "source": [
    "# Let us import some awesome libraries!\n",
    "import pandas as pd\n",
    "import seaborn as sns\n",
    "import matplotlib.pyplot as plt\n",
    "import numpy as np\n",
    "\n",
    "%matplotlib inline\n",
    "\n",
    "# Just a bit of style. ;)\n",
    "sns.set_palette(sns.color_palette('hls', 8))"
   ]
  },
  {
   "cell_type": "code",
   "execution_count": 2,
   "metadata": {},
   "outputs": [
    {
     "data": {
      "text/html": [
       "<div>\n",
       "<style scoped>\n",
       "    .dataframe tbody tr th:only-of-type {\n",
       "        vertical-align: middle;\n",
       "    }\n",
       "\n",
       "    .dataframe tbody tr th {\n",
       "        vertical-align: top;\n",
       "    }\n",
       "\n",
       "    .dataframe thead th {\n",
       "        text-align: right;\n",
       "    }\n",
       "</style>\n",
       "<table border=\"1\" class=\"dataframe\">\n",
       "  <thead>\n",
       "    <tr style=\"text-align: right;\">\n",
       "      <th></th>\n",
       "      <th>COMMIT_HASH</th>\n",
       "      <th>AUTHOR_NAME</th>\n",
       "      <th>AUTHOR_EMAIL</th>\n",
       "      <th>MODIFICATIONS_COUNT</th>\n",
       "      <th>TIMESTAMP</th>\n",
       "      <th>ADDED_LINES</th>\n",
       "      <th>DELETED_LINES</th>\n",
       "      <th>DELETED_FILES</th>\n",
       "    </tr>\n",
       "  </thead>\n",
       "  <tbody>\n",
       "    <tr>\n",
       "      <th>18196</th>\n",
       "      <td>a2d7f89901927d3feabfdc2f44606db82312487f</td>\n",
       "      <td>Danny Sullivan</td>\n",
       "      <td>dsullivan7@hotmail.com</td>\n",
       "      <td>1</td>\n",
       "      <td>1413357456000</td>\n",
       "      <td>2</td>\n",
       "      <td>2</td>\n",
       "      <td>0</td>\n",
       "    </tr>\n",
       "    <tr>\n",
       "      <th>519</th>\n",
       "      <td>7df0e835406f8857b153daada6aad14567a00fa8</td>\n",
       "      <td>Fabian Pedregosa</td>\n",
       "      <td>fabian.pedregosa@inria.fr</td>\n",
       "      <td>0</td>\n",
       "      <td>1268406400000</td>\n",
       "      <td>0</td>\n",
       "      <td>0</td>\n",
       "      <td>0</td>\n",
       "    </tr>\n",
       "    <tr>\n",
       "      <th>12811</th>\n",
       "      <td>3bf53c84669d40112ce53146b6fd4033a4aaeec3</td>\n",
       "      <td>Jake Vanderplas</td>\n",
       "      <td>vanderplas@astro.washington.edu</td>\n",
       "      <td>17</td>\n",
       "      <td>1362343896000</td>\n",
       "      <td>4016</td>\n",
       "      <td>1606</td>\n",
       "      <td>0</td>\n",
       "    </tr>\n",
       "    <tr>\n",
       "      <th>75</th>\n",
       "      <td>5c17a83794a5794cfd60f520eab1c905204dfa9f</td>\n",
       "      <td>Fabian Pedregosa</td>\n",
       "      <td>fabian.pedregosa@inria.fr</td>\n",
       "      <td>1</td>\n",
       "      <td>1262704474000</td>\n",
       "      <td>15</td>\n",
       "      <td>15</td>\n",
       "      <td>0</td>\n",
       "    </tr>\n",
       "    <tr>\n",
       "      <th>4657</th>\n",
       "      <td>6af817934aebc09e9f927071724728a3dbed8cba</td>\n",
       "      <td>Jake Vanderplas</td>\n",
       "      <td>vanderplas@astro.washington.edu</td>\n",
       "      <td>5</td>\n",
       "      <td>1309319365000</td>\n",
       "      <td>39</td>\n",
       "      <td>44</td>\n",
       "      <td>0</td>\n",
       "    </tr>\n",
       "    <tr>\n",
       "      <th>3801</th>\n",
       "      <td>42b40c65286df9698406b50cf805a73f08dc9100</td>\n",
       "      <td>Alexandre Passos</td>\n",
       "      <td>alexandre.tp@gmail.com</td>\n",
       "      <td>1</td>\n",
       "      <td>1303381057000</td>\n",
       "      <td>8</td>\n",
       "      <td>4</td>\n",
       "      <td>0</td>\n",
       "    </tr>\n",
       "    <tr>\n",
       "      <th>14298</th>\n",
       "      <td>57963598ac2e470177afe5a08bb281c272d86650</td>\n",
       "      <td>Andreas Mueller</td>\n",
       "      <td>amueller@ais.uni-bonn.de</td>\n",
       "      <td>3</td>\n",
       "      <td>1374859993000</td>\n",
       "      <td>11</td>\n",
       "      <td>3</td>\n",
       "      <td>0</td>\n",
       "    </tr>\n",
       "    <tr>\n",
       "      <th>7434</th>\n",
       "      <td>4a78deaa287ee5bb91c77396dcd0c19c6a196b5e</td>\n",
       "      <td>Andreas Mueller</td>\n",
       "      <td>amueller@ais.uni-bonn.de</td>\n",
       "      <td>1</td>\n",
       "      <td>1324448803000</td>\n",
       "      <td>1</td>\n",
       "      <td>1</td>\n",
       "      <td>0</td>\n",
       "    </tr>\n",
       "    <tr>\n",
       "      <th>20979</th>\n",
       "      <td>95c54b2ea0a8e72b586d665393e367e492704d1c</td>\n",
       "      <td>Arnaud Rachez</td>\n",
       "      <td>arnaud.rachez@gmail.com</td>\n",
       "      <td>2</td>\n",
       "      <td>1445415816000</td>\n",
       "      <td>8</td>\n",
       "      <td>6</td>\n",
       "      <td>0</td>\n",
       "    </tr>\n",
       "    <tr>\n",
       "      <th>3366</th>\n",
       "      <td>321fc8b5860b54e032efe14b7df17e3f09c07dd5</td>\n",
       "      <td>vene</td>\n",
       "      <td>vlad@vene.ro</td>\n",
       "      <td>1</td>\n",
       "      <td>1301659894000</td>\n",
       "      <td>13</td>\n",
       "      <td>7</td>\n",
       "      <td>0</td>\n",
       "    </tr>\n",
       "  </tbody>\n",
       "</table>\n",
       "</div>"
      ],
      "text/plain": [
       "                                    COMMIT_HASH       AUTHOR_NAME  \\\n",
       "18196  a2d7f89901927d3feabfdc2f44606db82312487f    Danny Sullivan   \n",
       "519    7df0e835406f8857b153daada6aad14567a00fa8  Fabian Pedregosa   \n",
       "12811  3bf53c84669d40112ce53146b6fd4033a4aaeec3   Jake Vanderplas   \n",
       "75     5c17a83794a5794cfd60f520eab1c905204dfa9f  Fabian Pedregosa   \n",
       "4657   6af817934aebc09e9f927071724728a3dbed8cba   Jake Vanderplas   \n",
       "3801   42b40c65286df9698406b50cf805a73f08dc9100  Alexandre Passos   \n",
       "14298  57963598ac2e470177afe5a08bb281c272d86650   Andreas Mueller   \n",
       "7434   4a78deaa287ee5bb91c77396dcd0c19c6a196b5e   Andreas Mueller   \n",
       "20979  95c54b2ea0a8e72b586d665393e367e492704d1c     Arnaud Rachez   \n",
       "3366   321fc8b5860b54e032efe14b7df17e3f09c07dd5              vene   \n",
       "\n",
       "                          AUTHOR_EMAIL  MODIFICATIONS_COUNT      TIMESTAMP  \\\n",
       "18196           dsullivan7@hotmail.com                    1  1413357456000   \n",
       "519          fabian.pedregosa@inria.fr                    0  1268406400000   \n",
       "12811  vanderplas@astro.washington.edu                   17  1362343896000   \n",
       "75           fabian.pedregosa@inria.fr                    1  1262704474000   \n",
       "4657   vanderplas@astro.washington.edu                    5  1309319365000   \n",
       "3801            alexandre.tp@gmail.com                    1  1303381057000   \n",
       "14298         amueller@ais.uni-bonn.de                    3  1374859993000   \n",
       "7434          amueller@ais.uni-bonn.de                    1  1324448803000   \n",
       "20979          arnaud.rachez@gmail.com                    2  1445415816000   \n",
       "3366                      vlad@vene.ro                    1  1301659894000   \n",
       "\n",
       "       ADDED_LINES  DELETED_LINES  DELETED_FILES  \n",
       "18196            2              2              0  \n",
       "519              0              0              0  \n",
       "12811         4016           1606              0  \n",
       "75              15             15              0  \n",
       "4657            39             44              0  \n",
       "3801             8              4              0  \n",
       "14298           11              3              0  \n",
       "7434             1              1              0  \n",
       "20979            8              6              0  \n",
       "3366            13              7              0  "
      ]
     },
     "execution_count": 2,
     "metadata": {},
     "output_type": "execute_result"
    }
   ],
   "source": [
    "# Let us load the datasets.\n",
    "scikit_dataset = pd.read_csv('study-results/scikit-learn/exploration.csv')\n",
    "keras_dataset = pd.read_csv('study-results/keras/exploration.csv')\n",
    "theano_dataset = pd.read_csv('study-results/theano/exploration.csv')\n",
    "\n",
    "# For example, let us take a look to the Scikit-Learn dataset.\n",
    "scikit_dataset.sample(10)"
   ]
  },
  {
   "cell_type": "markdown",
   "metadata": {},
   "source": [
    "## Quels sont les contributeurs académiques ?\n",
    "\n",
    "Pour répondre à cette question, nous allons classifier les contributeurs à l'aide de leur adresse mail (information suffisante d'après nos hypothèses de travail).\n",
    "\n",
    "D'autres options ont été envisagées :\n",
    "* Rechercher le nom du contributeur sur un moteur de recherche de publications scientifiques. Au point où nous sommes de nos recherches, les sites trouvés sont soit très incomplets (arXiv.org), soit spécifiques à d'autres domaines (notamment le médical), soit ils ne proposent pas d'API (ResearchGate).\n",
    "* Rechercher au cas par cas. Cette solution serait fastidieuse car les projets étudiés comptent un grand nombre de contributeurs.\n",
    "\n",
    "Dans la méthode choisie, nous étudions le domaine de l'adresse mail en procédant itérativement pour chaque dépôt étudié :\n",
    "* Pour les contributions qui n'ont pas été marquées \"académique\" à l'étape précédente, nous extrayons le domaine.\n",
    "* Nous listons ces domaines et les observons un à un (éventuellement, nous cherchons sur Internet). Nous l'ajoutons à notre liste blanche si elle correspond à un laboratoire de recherche ou à un chercheur en particulier.\n",
    "\n",
    "Cette méthode est fastidieuse mais permet de coller au mieux à notre hypothèse de travail. Comme elle est essentiellement manuelle, elle est sensible aux erreurs humaines..."
   ]
  },
  {
   "cell_type": "code",
   "execution_count": 3,
   "metadata": {
    "collapsed": true
   },
   "outputs": [],
   "source": [
    "def address_domain(address):\n",
    "    split = address.split('@')\n",
    "    \n",
    "    if len(split) == 2:\n",
    "        return split[1]\n",
    "    else:\n",
    "        return address\n",
    "    \n",
    "academic_domains = ['inria.fr', 'cnes.fr', 'normalesup.org', 'ensta.org', 'jnphilipp.org',\n",
    "                    'vene.ro', 'cern.ch', 'uva.nl', 'cea.fr', 'heig-vd.ch', 'wxs.ca', 'smerity.com',\n",
    "                    'nsup.org', 'esciencecenter.nl', 'centraliens.net', 'acm.org', 'fu-berlin.de', \n",
    "                    'fit.vutbr.cz', 'hec.ca', 'barvinograd.com', 'jakelee.net', 'maluuba.com',\n",
    "                    'nicta.com.au', 'poli.ufrj.br', 'barkalov.ru', 'allenai.org', 'usherbrooke.ca',\n",
    "                    'taehoonlee.com', 'bioinf.jku.at', 'nerdluecht.de', 'yosinski.com', 'tum.de',\n",
    "                    'enlnt.com', 'kottalam.net', 'jan-schlueter.de', 'iupr.com', 'uoguelph.ca',\n",
    "                    'marcodena.it', 'esimon.eu', 'stophr.be', 'jan-matthis.de', 'josephpcohen.com',\n",
    "                    'cwi.nl']\n",
    "academic_domains_ends = ['edu', 'ens-cachan.fr', 'intra.cea.fr', 'ntnu.no', 'umontreal.ca', 'mcgill.ca', 'epita.fr']\n",
    "academic_domains_contents = ['.ca.', 'research', '.ac.', '.uu.', 'edu', 'student', 'uni', 'etu']\n",
    "\n",
    "def is_academic_address(domain):\n",
    "    for end in academic_domains_ends:\n",
    "        if domain.endswith(end):\n",
    "            return True\n",
    "    \n",
    "    for content in academic_domains_contents:\n",
    "        if content in domain:\n",
    "            return True\n",
    "        \n",
    "    return domain in academic_domains\n",
    "\n",
    "def add_is_academic(df):\n",
    "    df['IS_ACADEMIC'] = df['AUTHOR_EMAIL'].apply(address_domain).apply(is_academic_address)"
   ]
  },
  {
   "cell_type": "markdown",
   "metadata": {},
   "source": [
    "## Enrichissons les données\n",
    "\n",
    "Pour pouvoir répondre aux questions suivantes, il va nous falloir enrichir les sets de données que nous avons chargé.\n",
    "\n",
    "Nous allons ajouter les champs suivants :\n",
    "* **PROJECT** : le nom du projet (utile pour fusionner les sets de données pour comparaison).\n",
    "* **IS_ACADEMIC** : la contribution est-elle présumée venir d'un contributeur académique ?"
   ]
  },
  {
   "cell_type": "code",
   "execution_count": 4,
   "metadata": {
    "collapsed": true
   },
   "outputs": [],
   "source": [
    "# Add PROJECT.\n",
    "scikit_dataset['PROJECT'] = 'Scikit-Learn'\n",
    "keras_dataset['PROJECT'] = 'Keras'\n",
    "theano_dataset['PROJECT'] = 'Theano'"
   ]
  },
  {
   "cell_type": "code",
   "execution_count": 5,
   "metadata": {
    "collapsed": true
   },
   "outputs": [],
   "source": [
    "# Add IS_ACADEMIC.\n",
    "add_is_academic(scikit_dataset)\n",
    "add_is_academic(keras_dataset)\n",
    "add_is_academic(theano_dataset)"
   ]
  },
  {
   "cell_type": "markdown",
   "metadata": {},
   "source": [
    "Nous créons un set de données collectant les données pour tous les projets étudiés."
   ]
  },
  {
   "cell_type": "code",
   "execution_count": 6,
   "metadata": {
    "collapsed": true
   },
   "outputs": [],
   "source": [
    "all_datasets = pd.concat([scikit_dataset, keras_dataset, theano_dataset])"
   ]
  },
  {
   "cell_type": "code",
   "execution_count": 7,
   "metadata": {},
   "outputs": [
    {
     "data": {
      "text/html": [
       "<div>\n",
       "<style scoped>\n",
       "    .dataframe tbody tr th:only-of-type {\n",
       "        vertical-align: middle;\n",
       "    }\n",
       "\n",
       "    .dataframe tbody tr th {\n",
       "        vertical-align: top;\n",
       "    }\n",
       "\n",
       "    .dataframe thead th {\n",
       "        text-align: right;\n",
       "    }\n",
       "</style>\n",
       "<table border=\"1\" class=\"dataframe\">\n",
       "  <thead>\n",
       "    <tr style=\"text-align: right;\">\n",
       "      <th></th>\n",
       "      <th>COMMIT_HASH</th>\n",
       "      <th>AUTHOR_NAME</th>\n",
       "      <th>AUTHOR_EMAIL</th>\n",
       "      <th>MODIFICATIONS_COUNT</th>\n",
       "      <th>TIMESTAMP</th>\n",
       "      <th>ADDED_LINES</th>\n",
       "      <th>DELETED_LINES</th>\n",
       "      <th>DELETED_FILES</th>\n",
       "      <th>PROJECT</th>\n",
       "      <th>IS_ACADEMIC</th>\n",
       "    </tr>\n",
       "  </thead>\n",
       "  <tbody>\n",
       "    <tr>\n",
       "      <th>12043</th>\n",
       "      <td>491379d99473bbfd4cb20173fb54e46cc8978228</td>\n",
       "      <td>Noel Dawe</td>\n",
       "      <td>noel.dawe@gmail.com</td>\n",
       "      <td>1</td>\n",
       "      <td>1354868641000</td>\n",
       "      <td>0</td>\n",
       "      <td>2</td>\n",
       "      <td>0</td>\n",
       "      <td>Scikit-Learn</td>\n",
       "      <td>False</td>\n",
       "    </tr>\n",
       "    <tr>\n",
       "      <th>22860</th>\n",
       "      <td>9ad763b9b1f3eb45dbeaf8ecb95b5e8c88219789</td>\n",
       "      <td>Caglar</td>\n",
       "      <td>ca9lar@gmail.com</td>\n",
       "      <td>1</td>\n",
       "      <td>1465412377000</td>\n",
       "      <td>1</td>\n",
       "      <td>1</td>\n",
       "      <td>0</td>\n",
       "      <td>Theano</td>\n",
       "      <td>False</td>\n",
       "    </tr>\n",
       "    <tr>\n",
       "      <th>11751</th>\n",
       "      <td>5aef6b21045e550cb97c181d661d70b0175426e2</td>\n",
       "      <td>Arnaud Joly</td>\n",
       "      <td>arnaud.joly@yahoo.com</td>\n",
       "      <td>2</td>\n",
       "      <td>1354543843000</td>\n",
       "      <td>20</td>\n",
       "      <td>3</td>\n",
       "      <td>0</td>\n",
       "      <td>Scikit-Learn</td>\n",
       "      <td>False</td>\n",
       "    </tr>\n",
       "    <tr>\n",
       "      <th>26757</th>\n",
       "      <td>30116c1eea755e7d1dade6431e461587d10e6892</td>\n",
       "      <td>Pascal Lamblin</td>\n",
       "      <td>lamblinp@iro.umontreal.ca</td>\n",
       "      <td>1</td>\n",
       "      <td>1500488542000</td>\n",
       "      <td>14</td>\n",
       "      <td>9</td>\n",
       "      <td>0</td>\n",
       "      <td>Theano</td>\n",
       "      <td>True</td>\n",
       "    </tr>\n",
       "    <tr>\n",
       "      <th>26601</th>\n",
       "      <td>020fd553de673e047ca32d810bf4979083b583d2</td>\n",
       "      <td>Alexander Matyasko</td>\n",
       "      <td>alexander.matyasko@gmail.com</td>\n",
       "      <td>6</td>\n",
       "      <td>1499939150000</td>\n",
       "      <td>42</td>\n",
       "      <td>46</td>\n",
       "      <td>0</td>\n",
       "      <td>Theano</td>\n",
       "      <td>False</td>\n",
       "    </tr>\n",
       "  </tbody>\n",
       "</table>\n",
       "</div>"
      ],
      "text/plain": [
       "                                    COMMIT_HASH         AUTHOR_NAME  \\\n",
       "12043  491379d99473bbfd4cb20173fb54e46cc8978228           Noel Dawe   \n",
       "22860  9ad763b9b1f3eb45dbeaf8ecb95b5e8c88219789              Caglar   \n",
       "11751  5aef6b21045e550cb97c181d661d70b0175426e2         Arnaud Joly   \n",
       "26757  30116c1eea755e7d1dade6431e461587d10e6892      Pascal Lamblin   \n",
       "26601  020fd553de673e047ca32d810bf4979083b583d2  Alexander Matyasko   \n",
       "\n",
       "                       AUTHOR_EMAIL  MODIFICATIONS_COUNT      TIMESTAMP  \\\n",
       "12043           noel.dawe@gmail.com                    1  1354868641000   \n",
       "22860              ca9lar@gmail.com                    1  1465412377000   \n",
       "11751         arnaud.joly@yahoo.com                    2  1354543843000   \n",
       "26757     lamblinp@iro.umontreal.ca                    1  1500488542000   \n",
       "26601  alexander.matyasko@gmail.com                    6  1499939150000   \n",
       "\n",
       "       ADDED_LINES  DELETED_LINES  DELETED_FILES       PROJECT  IS_ACADEMIC  \n",
       "12043            0              2              0  Scikit-Learn        False  \n",
       "22860            1              1              0        Theano        False  \n",
       "11751           20              3              0  Scikit-Learn        False  \n",
       "26757           14              9              0        Theano         True  \n",
       "26601           42             46              0        Theano        False  "
      ]
     },
     "execution_count": 7,
     "metadata": {},
     "output_type": "execute_result"
    }
   ],
   "source": [
    "# For example, let us take a look to the Scikit-Learn dataset after the change.\n",
    "all_datasets.sample(5)"
   ]
  },
  {
   "cell_type": "markdown",
   "metadata": {},
   "source": [
    "## Les contributeurs académiques sont-ils majoritaires ?"
   ]
  },
  {
   "cell_type": "code",
   "execution_count": 105,
   "metadata": {},
   "outputs": [
    {
     "data": {
      "image/png": "[encoded data removed]",
      "text/plain": [
       "<matplotlib.figure.Figure at 0x7fb4af22cef0>"
      ]
     },
     "metadata": {},
     "output_type": "display_data"
    }
   ],
   "source": [
    "sns.countplot('IS_ACADEMIC', hue = 'PROJECT', data = all_datasets.drop_duplicates(['PROJECT', 'AUTHOR_NAME']))\n",
    "\n",
    "plt.title('Number of academic contributors per project')\n",
    "plt.xlabel('Is the contributor academic?')\n",
    "plt.ylabel('Number of contributors');"
   ]
  },
  {
   "cell_type": "code",
   "execution_count": 107,
   "metadata": {},
   "outputs": [
    {
     "name": "stdout",
     "output_type": "stream",
     "text": [
      "Participation (in # of contributors) for project 'Scikit', there has been:\n",
      " -     Academic contributors: 11.23%\n",
      " - Non academic contributors: 88.77%\n",
      "\n",
      "Participation (in # of contributors) for project 'Keras', there has been:\n",
      " -     Academic contributors: 9.68%\n",
      " - Non academic contributors: 90.32%\n",
      "\n",
      "Participation (in # of contributors) for project 'Theano', there has been:\n",
      " -     Academic contributors: 20.17%\n",
      " - Non academic contributors: 79.83%\n"
     ]
    }
   ],
   "source": [
    "def academic_contributors(project_name, project_dataset):\n",
    "    without_duplicates = project_dataset.drop_duplicates(['AUTHOR_NAME'])\n",
    "    percents = 100 * without_duplicates.groupby(['IS_ACADEMIC'])['COMMIT_HASH'].count() / len(without_duplicates)\n",
    "    \n",
    "    academic_contributors = '%.2f' % percents[True]\n",
    "    non_academic_contributors = '%.2f' % percents[False]\n",
    "    \n",
    "    print('Participation (in # of contributors) for project \\'' + project_name + '\\', there has been:')\n",
    "    print(' -     Academic contributors:', academic_contributors + '%')\n",
    "    print(' - Non academic contributors:', non_academic_contributors + '%')\n",
    "\n",
    "academic_contributors('Scikit', scikit_dataset)\n",
    "print()\n",
    "academic_contributors('Keras', keras_dataset)\n",
    "print()\n",
    "academic_contributors('Theano', theano_dataset)"
   ]
  },
  {
   "cell_type": "markdown",
   "metadata": {},
   "source": [
    "## Les contributions viennent-elles majoritairement de contributeurs académiques ?"
   ]
  },
  {
   "cell_type": "markdown",
   "metadata": {},
   "source": [
    "### En nombre de *commits*"
   ]
  },
  {
   "cell_type": "code",
   "execution_count": 8,
   "metadata": {},
   "outputs": [
    {
     "data": {
      "image/png": "[encoded data removed]",
      "text/plain": [
       "<matplotlib.figure.Figure at 0x7fb4b07d7a58>"
      ]
     },
     "metadata": {},
     "output_type": "display_data"
    }
   ],
   "source": [
    "sns.countplot('IS_ACADEMIC', hue = 'PROJECT', data = all_datasets)\n",
    "\n",
    "plt.title('Number of academic contributions per project')\n",
    "plt.xlabel('Is the contribution academic?')\n",
    "plt.ylabel('Number of contributions');"
   ]
  },
  {
   "cell_type": "code",
   "execution_count": 72,
   "metadata": {},
   "outputs": [
    {
     "name": "stdout",
     "output_type": "stream",
     "text": [
      "Participation (in # of commits) for project 'Scikit', there has been:\n",
      " -     Academic contributors: 45.45%\n",
      " - Non academic contributors: 54.55%\n",
      "\n",
      "Participation (in # of commits) for project 'Keras', there has been:\n",
      " -     Academic contributors: 5.45%\n",
      " - Non academic contributors: 94.55%\n",
      "\n",
      "Participation (in # of commits) for project 'Theano', there has been:\n",
      " -     Academic contributors: 25.11%\n",
      " - Non academic contributors: 74.89%\n"
     ]
    }
   ],
   "source": [
    "def academic_commits_contributions(project_name, project_dataset):\n",
    "    percents = 100 * project_dataset.groupby(['IS_ACADEMIC']).size() / len(project_dataset)\n",
    "    \n",
    "    academic_contribution = '%.2f' % percents[True]\n",
    "    non_academic_contribution = '%.2f' % percents[False]\n",
    "    \n",
    "    print('Participation (in # of commits) for project \\'' + project_name + '\\', there has been:')\n",
    "    print(' -     Academic contributors:', academic_contribution + '%')\n",
    "    print(' - Non academic contributors:', non_academic_contribution + '%')\n",
    "\n",
    "academic_commits_contributions('Scikit', scikit_dataset)\n",
    "print()\n",
    "academic_commits_contributions('Keras', keras_dataset)\n",
    "print()\n",
    "academic_commits_contributions('Theano', theano_dataset)"
   ]
  },
  {
   "cell_type": "markdown",
   "metadata": {},
   "source": [
    "### En nombre de lignes ajoutées/retirées"
   ]
  },
  {
   "cell_type": "code",
   "execution_count": 86,
   "metadata": {},
   "outputs": [
    {
     "name": "stdout",
     "output_type": "stream",
     "text": [
      "Participation (in # of ADDED_LINES) for project 'Scikit', there has been:\n",
      " -     Academic contributors: 28.81%\n",
      " - Non academic contributors: 71.19%\n",
      "\n",
      "Participation (in # of ADDED_LINES) for project 'Keras', there has been:\n",
      " -     Academic contributors: 3.62%\n",
      " - Non academic contributors: 96.38%\n",
      "\n",
      "Participation (in # of ADDED_LINES) for project 'Theano', there has been:\n",
      " -     Academic contributors: 29.77%\n",
      " - Non academic contributors: 70.23%\n",
      "\n",
      "\n",
      "Participation (in # of DELETED_LINES) for project 'Scikit', there has been:\n",
      " -     Academic contributors: 32.07%\n",
      " - Non academic contributors: 67.93%\n",
      "\n",
      "Participation (in # of DELETED_LINES) for project 'Keras', there has been:\n",
      " -     Academic contributors: 3.93%\n",
      " - Non academic contributors: 96.07%\n",
      "\n",
      "Participation (in # of DELETED_LINES) for project 'Theano', there has been:\n",
      " -     Academic contributors: 30.28%\n",
      " - Non academic contributors: 69.72%\n"
     ]
    }
   ],
   "source": [
    "def academic_lines_contributions(project_name, project_dataset, field):\n",
    "    percents = 100 * project_dataset.groupby(['IS_ACADEMIC'])[field].sum() / project_dataset[field].sum()\n",
    "    \n",
    "    academic_contribution = '%.2f' % percents[True]\n",
    "    non_academic_contribution = '%.2f' % percents[False]\n",
    "    \n",
    "    print('Participation (in # of ' + field + ') for project \\'' + project_name + '\\', there has been:')\n",
    "    print(' -     Academic contributors:', academic_contribution + '%')\n",
    "    print(' - Non academic contributors:', non_academic_contribution + '%')\n",
    "\n",
    "def academic_added_lines_contributions(project_name, project_dataset):\n",
    "    academic_lines_contributions(project_name, project_dataset, 'ADDED_LINES')\n",
    "    \n",
    "def academic_deleted_lines_contributions(project_name, project_dataset):\n",
    "    academic_lines_contributions(project_name, project_dataset, 'DELETED_LINES')\n",
    "    \n",
    "academic_added_lines_contributions('Scikit', scikit_dataset)\n",
    "print()\n",
    "academic_added_lines_contributions('Keras', keras_dataset)\n",
    "print()\n",
    "academic_added_lines_contributions('Theano', theano_dataset)\n",
    "\n",
    "print()\n",
    "print()\n",
    "\n",
    "academic_deleted_lines_contributions('Scikit', scikit_dataset)\n",
    "print()\n",
    "academic_deleted_lines_contributions('Keras', keras_dataset)\n",
    "print()\n",
    "academic_deleted_lines_contributions('Theano', theano_dataset)"
   ]
  },
  {
   "cell_type": "markdown",
   "metadata": {},
   "source": [
    "## Les contributeurs académiques sont-ils les contributeurs qui contribuent le plus  individuellement ?"
   ]
  },
  {
   "cell_type": "markdown",
   "metadata": {},
   "source": [
    "### En nombre de *commits* par contributeur"
   ]
  },
  {
   "cell_type": "code",
   "execution_count": 155,
   "metadata": {},
   "outputs": [],
   "source": [
    "# TODO"
   ]
  },
  {
   "cell_type": "markdown",
   "metadata": {
    "collapsed": true
   },
   "source": [
    "### En nombre de fichiers modifiés par *commit*"
   ]
  },
  {
   "cell_type": "code",
   "execution_count": 10,
   "metadata": {},
   "outputs": [
    {
     "data": {
      "image/png": "[encoded data removed]",
      "text/plain": [
       "<matplotlib.figure.Figure at 0x7fb4b011e080>"
      ]
     },
     "metadata": {},
     "output_type": "display_data"
    }
   ],
   "source": [
    "sns.barplot(x = 'IS_ACADEMIC', y = 'MODIFICATIONS_COUNT', hue = 'PROJECT', data = all_datasets)\n",
    "\n",
    "plt.title('Modified files depending on the contributor type')\n",
    "plt.xlabel('Is the contribution academic?')\n",
    "plt.ylabel('Number of modified file in the contribution');"
   ]
  },
  {
   "cell_type": "code",
   "execution_count": 11,
   "metadata": {
    "scrolled": true
   },
   "outputs": [
    {
     "data": {
      "image/png": "[encoded data removed]",
      "text/plain": [
       "<matplotlib.figure.Figure at 0x7fb4b00266d8>"
      ]
     },
     "metadata": {},
     "output_type": "display_data"
    }
   ],
   "source": [
    "sns.barplot(x = 'IS_ACADEMIC', y = 'DELETED_FILES', hue = 'PROJECT', data = all_datasets)\n",
    "\n",
    "plt.title('Deleted files depending on the contributor type')\n",
    "plt.xlabel('Is the contribution academic?')\n",
    "plt.ylabel('Number of deleted file in the contribution');"
   ]
  },
  {
   "cell_type": "markdown",
   "metadata": {},
   "source": [
    "### En nombre de lignes ajoutées/retirées par *commit*"
   ]
  },
  {
   "cell_type": "code",
   "execution_count": 12,
   "metadata": {
    "scrolled": true
   },
   "outputs": [
    {
     "data": {
      "image/png": "[encoded data removed]",
      "text/plain": [
       "<matplotlib.figure.Figure at 0x7fb4b00b1860>"
      ]
     },
     "metadata": {},
     "output_type": "display_data"
    }
   ],
   "source": [
    "sns.barplot(x = 'IS_ACADEMIC', y = 'ADDED_LINES', hue = 'PROJECT', data = all_datasets)\n",
    "\n",
    "plt.title('Added lines depending on the contributor type')\n",
    "plt.xlabel('Is the contribution academic?')\n",
    "plt.ylabel('Number of added lines in the contribution');"
   ]
  },
  {
   "cell_type": "code",
   "execution_count": 13,
   "metadata": {},
   "outputs": [
    {
     "data": {
      "image/png": "[encoded data removed]",
      "text/plain": [
       "<matplotlib.figure.Figure at 0x7fb4b033b1d0>"
      ]
     },
     "metadata": {},
     "output_type": "display_data"
    }
   ],
   "source": [
    "sns.barplot(x = 'IS_ACADEMIC', y = 'DELETED_LINES', hue = 'PROJECT', data = all_datasets)\n",
    "\n",
    "plt.title('Deleted lines depending on the contributor type')\n",
    "plt.xlabel('Is the contribution academic?')\n",
    "plt.ylabel('Number of deleted lines in the contribution');"
   ]
  }
 ],
 "metadata": {
  "kernelspec": {
   "display_name": "Python 3",
   "language": "python",
   "name": "python3"
  },
  "language_info": {
   "codemirror_mode": {
    "name": "ipython",
    "version": 3
   },
   "file_extension": ".py",
   "mimetype": "text/x-python",
   "name": "python",
   "nbconvert_exporter": "python",
   "pygments_lexer": "ipython3",
   "version": "3.6.4"
  }
 },
 "nbformat": 4,
 "nbformat_minor": 2
}
