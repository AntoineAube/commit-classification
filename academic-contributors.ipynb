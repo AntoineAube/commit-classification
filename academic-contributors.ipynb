{
 "cells": [
  {
   "cell_type": "markdown",
   "metadata": {},
   "source": [
    "# Présence du monde académique dans les projets Open Source de Machine Learning : ces projets sont-ils faits par des chercheurs ?\n",
    "\n",
    "Dans le cadre de nos recherches, nous nous interrogeons sur la participation du monde académique au sein des projets Open Source de Machine Learning.\n",
    "\n",
    "Nos hypothèses sur la question sont les suivantes :\n",
    "* Les contributions viennent majoritairement de contributeurs académiques (en nombre de *commits* et en nombre de lignes).\n",
    "* Les contributeurs académiques sont les contributeurs qui contribuent le plus individuellement (en nombre de *commits* et en nombre de lignes).\n",
    "* La majorité des *commits* ajoutant des fonctionnalités proviennent de contributeurs académiques.\n",
    "\n",
    "Les hypothèses de travail que nous posons concernent la bonne foi des contributeurs dans les informations de *commit*. En particulier :\n",
    "* Le nom/prénom est celui de l'auteur.\n",
    "* L'adresse mail appartient à l'auteur. Le domaine de l'adresse est celui d'une académie si il est contributeur académique ou d'une entreprise si le contributeur contribue dans le cadre de son travail en entreprise.\n",
    "\n",
    "Pour étudier ces hypothèses et tenter de les réfuter, nous allons nous pencher sur les contributions de trois projets :\n",
    "* [Scikit-Learn](http://scikit-learn.org/stable/) ([dépôt GitHub](https://github.com/scikit-learn/scikit-learn)).\n",
    "* [Keras](https://keras.io/) ([dépôt GitHub](https://github.com/keras-team/keras)).\n",
    "* [Theano](http://deeplearning.net/software/theano/) ([dépôt GitHub](https://github.com/Theano/Theano)).\n",
    "\n",
    "Les données que nous allons exploiter dans ce document sont issues d'une extraction depuis leur dépôt Git respectif grâce à Repodriller. L'étude est reproductible avec le code disponible sur [notre dépôt GitHub](https://github.com/AntoineAube/reace-study)."
   ]
  },
  {
   "cell_type": "code",
   "execution_count": 1,
   "metadata": {
    "collapsed": true
   },
   "outputs": [],
   "source": [
    "# Let us import some awesome libraries!\n",
    "import pandas as pd\n",
    "import seaborn as sns\n",
    "import matplotlib.pyplot as plt\n",
    "import numpy as np\n",
    "\n",
    "%matplotlib inline\n",
    "\n",
    "# Just a bit of style. ;)\n",
    "sns.set_palette(sns.color_palette('hls', 8))"
   ]
  },
  {
   "cell_type": "code",
   "execution_count": 2,
   "metadata": {},
   "outputs": [
    {
     "data": {
      "text/html": [
       "<div>\n",
       "<style scoped>\n",
       "    .dataframe tbody tr th:only-of-type {\n",
       "        vertical-align: middle;\n",
       "    }\n",
       "\n",
       "    .dataframe tbody tr th {\n",
       "        vertical-align: top;\n",
       "    }\n",
       "\n",
       "    .dataframe thead th {\n",
       "        text-align: right;\n",
       "    }\n",
       "</style>\n",
       "<table border=\"1\" class=\"dataframe\">\n",
       "  <thead>\n",
       "    <tr style=\"text-align: right;\">\n",
       "      <th></th>\n",
       "      <th>COMMIT_HASH</th>\n",
       "      <th>AUTHOR_NAME</th>\n",
       "      <th>AUTHOR_EMAIL</th>\n",
       "      <th>MODIFICATIONS_COUNT</th>\n",
       "      <th>TIMESTAMP</th>\n",
       "      <th>ADDED_LINES</th>\n",
       "      <th>DELETED_LINES</th>\n",
       "      <th>DELETED_FILES</th>\n",
       "    </tr>\n",
       "  </thead>\n",
       "  <tbody>\n",
       "    <tr>\n",
       "      <th>12853</th>\n",
       "      <td>9e44e3a62df73b4f812409ae5f6af644ceda222a</td>\n",
       "      <td>Robert McGibbon</td>\n",
       "      <td>rmcgibbo@gmail.com</td>\n",
       "      <td>1</td>\n",
       "      <td>1363123404000</td>\n",
       "      <td>1</td>\n",
       "      <td>1</td>\n",
       "      <td>0</td>\n",
       "    </tr>\n",
       "    <tr>\n",
       "      <th>9398</th>\n",
       "      <td>ad66a25f5a4c76be1f7690190d968fd25543290c</td>\n",
       "      <td>Subhodeep Moitra</td>\n",
       "      <td>subhodeep.moitra@gmail.com</td>\n",
       "      <td>1</td>\n",
       "      <td>1331677573000</td>\n",
       "      <td>7</td>\n",
       "      <td>1</td>\n",
       "      <td>0</td>\n",
       "    </tr>\n",
       "    <tr>\n",
       "      <th>17636</th>\n",
       "      <td>3edfa3cf17667011ce74afd87879566b995f7802</td>\n",
       "      <td>MechCoder</td>\n",
       "      <td>manojkumarsivaraj334@gmail.com</td>\n",
       "      <td>11</td>\n",
       "      <td>1406649870000</td>\n",
       "      <td>42</td>\n",
       "      <td>33</td>\n",
       "      <td>0</td>\n",
       "    </tr>\n",
       "    <tr>\n",
       "      <th>22112</th>\n",
       "      <td>fa8fe859c4c418a503cfd14d5672c9188f4cf332</td>\n",
       "      <td>Alexandre Gramfort</td>\n",
       "      <td>alexandre.gramfort@m4x.org</td>\n",
       "      <td>2</td>\n",
       "      <td>1471699153000</td>\n",
       "      <td>4</td>\n",
       "      <td>4</td>\n",
       "      <td>0</td>\n",
       "    </tr>\n",
       "    <tr>\n",
       "      <th>6531</th>\n",
       "      <td>0240e194e97cb64225a6f69f65ffc71340ac48f6</td>\n",
       "      <td>vene</td>\n",
       "      <td>vlad@vene.ro</td>\n",
       "      <td>2</td>\n",
       "      <td>1319124985000</td>\n",
       "      <td>2</td>\n",
       "      <td>3</td>\n",
       "      <td>0</td>\n",
       "    </tr>\n",
       "    <tr>\n",
       "      <th>4177</th>\n",
       "      <td>80da99a483b774f0ad08afb19883bc658a20d9be</td>\n",
       "      <td>Lars Buitinck</td>\n",
       "      <td>L.J.Buitinck@uva.nl</td>\n",
       "      <td>1</td>\n",
       "      <td>1305911864000</td>\n",
       "      <td>6</td>\n",
       "      <td>11</td>\n",
       "      <td>0</td>\n",
       "    </tr>\n",
       "    <tr>\n",
       "      <th>10958</th>\n",
       "      <td>711fb9606f75af9bc372cbc5ff15d390a469f49f</td>\n",
       "      <td>John Benediktsson</td>\n",
       "      <td>mrjbq7@gmail.com</td>\n",
       "      <td>1</td>\n",
       "      <td>1351018724000</td>\n",
       "      <td>4</td>\n",
       "      <td>4</td>\n",
       "      <td>0</td>\n",
       "    </tr>\n",
       "    <tr>\n",
       "      <th>13083</th>\n",
       "      <td>ddaa494c116e3c16bf032003c5cccbed851733d2</td>\n",
       "      <td>Lars Buitinck</td>\n",
       "      <td>larsmans@gmail.com</td>\n",
       "      <td>1</td>\n",
       "      <td>1367408230000</td>\n",
       "      <td>68</td>\n",
       "      <td>79</td>\n",
       "      <td>0</td>\n",
       "    </tr>\n",
       "    <tr>\n",
       "      <th>4462</th>\n",
       "      <td>5fd648c427a0efa413d35731eb13f20f10047106</td>\n",
       "      <td>vene</td>\n",
       "      <td>vlad@vene.ro</td>\n",
       "      <td>3</td>\n",
       "      <td>1307993487000</td>\n",
       "      <td>59</td>\n",
       "      <td>2</td>\n",
       "      <td>0</td>\n",
       "    </tr>\n",
       "    <tr>\n",
       "      <th>22428</th>\n",
       "      <td>3fbfb1bf5e24c826209fa5a5c080140a7abdac63</td>\n",
       "      <td>Jonathan Rahn</td>\n",
       "      <td>rahn.jonathan@gmail.com</td>\n",
       "      <td>1</td>\n",
       "      <td>1475525929000</td>\n",
       "      <td>1</td>\n",
       "      <td>1</td>\n",
       "      <td>0</td>\n",
       "    </tr>\n",
       "  </tbody>\n",
       "</table>\n",
       "</div>"
      ],
      "text/plain": [
       "                                    COMMIT_HASH         AUTHOR_NAME  \\\n",
       "12853  9e44e3a62df73b4f812409ae5f6af644ceda222a     Robert McGibbon   \n",
       "9398   ad66a25f5a4c76be1f7690190d968fd25543290c    Subhodeep Moitra   \n",
       "17636  3edfa3cf17667011ce74afd87879566b995f7802           MechCoder   \n",
       "22112  fa8fe859c4c418a503cfd14d5672c9188f4cf332  Alexandre Gramfort   \n",
       "6531   0240e194e97cb64225a6f69f65ffc71340ac48f6                vene   \n",
       "4177   80da99a483b774f0ad08afb19883bc658a20d9be       Lars Buitinck   \n",
       "10958  711fb9606f75af9bc372cbc5ff15d390a469f49f   John Benediktsson   \n",
       "13083  ddaa494c116e3c16bf032003c5cccbed851733d2       Lars Buitinck   \n",
       "4462   5fd648c427a0efa413d35731eb13f20f10047106                vene   \n",
       "22428  3fbfb1bf5e24c826209fa5a5c080140a7abdac63       Jonathan Rahn   \n",
       "\n",
       "                         AUTHOR_EMAIL  MODIFICATIONS_COUNT      TIMESTAMP  \\\n",
       "12853              rmcgibbo@gmail.com                    1  1363123404000   \n",
       "9398       subhodeep.moitra@gmail.com                    1  1331677573000   \n",
       "17636  manojkumarsivaraj334@gmail.com                   11  1406649870000   \n",
       "22112      alexandre.gramfort@m4x.org                    2  1471699153000   \n",
       "6531                     vlad@vene.ro                    2  1319124985000   \n",
       "4177              L.J.Buitinck@uva.nl                    1  1305911864000   \n",
       "10958                mrjbq7@gmail.com                    1  1351018724000   \n",
       "13083              larsmans@gmail.com                    1  1367408230000   \n",
       "4462                     vlad@vene.ro                    3  1307993487000   \n",
       "22428         rahn.jonathan@gmail.com                    1  1475525929000   \n",
       "\n",
       "       ADDED_LINES  DELETED_LINES  DELETED_FILES  \n",
       "12853            1              1              0  \n",
       "9398             7              1              0  \n",
       "17636           42             33              0  \n",
       "22112            4              4              0  \n",
       "6531             2              3              0  \n",
       "4177             6             11              0  \n",
       "10958            4              4              0  \n",
       "13083           68             79              0  \n",
       "4462            59              2              0  \n",
       "22428            1              1              0  "
      ]
     },
     "execution_count": 2,
     "metadata": {},
     "output_type": "execute_result"
    }
   ],
   "source": [
    "# Let us load the datasets.\n",
    "scikit_dataset = pd.read_csv('study-results/scikit-learn/exploration.csv')\n",
    "keras_dataset = pd.read_csv('study-results/keras/exploration.csv')\n",
    "theano_dataset = pd.read_csv('study-results/theano/exploration.csv')\n",
    "\n",
    "# For example, let us take a look to the Scikit-Learn dataset.\n",
    "scikit_dataset.sample(10)"
   ]
  },
  {
   "cell_type": "markdown",
   "metadata": {},
   "source": [
    "## Quels sont les contributeurs académiques ?\n",
    "\n",
    "Pour répondre à cette question, nous allons classifier les contributeurs à l'aide de leur adresse mail (information suffisante d'après nos hypothèses de travail).\n",
    "\n",
    "D'autres options ont été envisagées :\n",
    "* Rechercher le nom du contributeur sur un moteur de recherche de publications scientifiques. Au point où nous sommes de nos recherches, les sites trouvés sont soit très incomplets (arXiv.org), soit spécifiques à d'autres domaines (notamment le médical), soit ils ne proposent pas d'API (ResearchGate).\n",
    "* Rechercher au cas par cas. Cette solution serait fastidieuse car les projets étudiés comptent un grand nombre de contributeurs.\n",
    "\n",
    "Dans la méthode choisie, nous étudions le domaine de l'adresse mail en procédant itérativement pour chaque dépôt étudié :\n",
    "* Pour les contributions qui n'ont pas été marquées \"académique\" à l'étape précédente, nous extrayons le domaine.\n",
    "* Nous listons ces domaines et les observons un à un (éventuellement, nous cherchons sur Internet). Nous l'ajoutons à notre liste blanche si elle correspond à un laboratoire de recherche ou à un chercheur en particulier.\n",
    "\n",
    "Cette méthode est fastidieuse mais permet de coller au mieux à notre hypothèse de travail. Comme elle est essentiellement manuelle, elle est sensible aux erreurs humaines..."
   ]
  },
  {
   "cell_type": "code",
   "execution_count": 3,
   "metadata": {
    "collapsed": true
   },
   "outputs": [],
   "source": [
    "def address_domain(address):\n",
    "    split = address.split('@')\n",
    "    \n",
    "    if len(split) == 2:\n",
    "        return split[1]\n",
    "    else:\n",
    "        return address\n",
    "    \n",
    "academic_domains = ['inria.fr', 'cnes.fr', 'normalesup.org', 'ensta.org', 'jnphilipp.org',\n",
    "                    'vene.ro', 'cern.ch', 'uva.nl', 'cea.fr', 'heig-vd.ch', 'wxs.ca', 'smerity.com',\n",
    "                    'nsup.org', 'esciencecenter.nl', 'centraliens.net', 'acm.org', 'fu-berlin.de', \n",
    "                    'fit.vutbr.cz', 'hec.ca', 'barvinograd.com', 'jakelee.net', 'maluuba.com',\n",
    "                    'nicta.com.au', 'poli.ufrj.br', 'barkalov.ru', 'allenai.org', 'usherbrooke.ca',\n",
    "                    'taehoonlee.com', 'bioinf.jku.at', 'nerdluecht.de', 'yosinski.com', 'tum.de',\n",
    "                    'enlnt.com', 'kottalam.net', 'jan-schlueter.de', 'iupr.com', 'uoguelph.ca',\n",
    "                    'marcodena.it', 'esimon.eu', 'stophr.be', 'jan-matthis.de', 'josephpcohen.com',\n",
    "                    'cwi.nl']\n",
    "academic_domains_ends = ['edu', 'ens-cachan.fr', 'intra.cea.fr', 'ntnu.no', 'umontreal.ca', 'mcgill.ca', 'epita.fr']\n",
    "academic_domains_contents = ['.ca.', 'research', '.ac.', '.uu.', 'edu', 'student', 'uni', 'etu']\n",
    "\n",
    "def is_academic_address(domain):\n",
    "    for end in academic_domains_ends:\n",
    "        if domain.endswith(end):\n",
    "            return True\n",
    "    \n",
    "    for content in academic_domains_contents:\n",
    "        if content in domain:\n",
    "            return True\n",
    "        \n",
    "    return domain in academic_domains\n",
    "\n",
    "def add_is_academic(df):\n",
    "    df['IS_ACADEMIC'] = df['AUTHOR_EMAIL'].apply(address_domain).apply(is_academic_address)"
   ]
  },
  {
   "cell_type": "markdown",
   "metadata": {},
   "source": [
    "## Enrichissons les données\n",
    "\n",
    "Pour pouvoir répondre aux questions suivantes, il va nous falloir enrichir les sets de données que nous avons chargé.\n",
    "\n",
    "Nous allons ajouter les champs suivants :\n",
    "* **PROJECT** : le nom du projet (utile pour fusionner les sets de données pour comparaison).\n",
    "* **IS_ACADEMIC** : la contribution est-elle présumée venir d'un contributeur académique ?"
   ]
  },
  {
   "cell_type": "code",
   "execution_count": 4,
   "metadata": {
    "collapsed": true
   },
   "outputs": [],
   "source": [
    "# Add PROJECT.\n",
    "scikit_dataset['PROJECT'] = 'Scikit-Learn'\n",
    "keras_dataset['PROJECT'] = 'Keras'\n",
    "theano_dataset['PROJECT'] = 'Theano'"
   ]
  },
  {
   "cell_type": "code",
   "execution_count": 5,
   "metadata": {},
   "outputs": [],
   "source": [
    "# Add IS_ACADEMIC.\n",
    "add_is_academic(scikit_dataset)\n",
    "add_is_academic(keras_dataset)\n",
    "add_is_academic(theano_dataset)"
   ]
  },
  {
   "cell_type": "markdown",
   "metadata": {},
   "source": [
    "Nous créons un set de données collectant les données pour tous les projets étudiés."
   ]
  },
  {
   "cell_type": "code",
   "execution_count": 6,
   "metadata": {
    "collapsed": true
   },
   "outputs": [],
   "source": [
    "all_datasets = pd.concat([scikit_dataset, keras_dataset, theano_dataset])"
   ]
  },
  {
   "cell_type": "code",
   "execution_count": 7,
   "metadata": {},
   "outputs": [
    {
     "data": {
      "text/html": [
       "<div>\n",
       "<style scoped>\n",
       "    .dataframe tbody tr th:only-of-type {\n",
       "        vertical-align: middle;\n",
       "    }\n",
       "\n",
       "    .dataframe tbody tr th {\n",
       "        vertical-align: top;\n",
       "    }\n",
       "\n",
       "    .dataframe thead th {\n",
       "        text-align: right;\n",
       "    }\n",
       "</style>\n",
       "<table border=\"1\" class=\"dataframe\">\n",
       "  <thead>\n",
       "    <tr style=\"text-align: right;\">\n",
       "      <th></th>\n",
       "      <th>COMMIT_HASH</th>\n",
       "      <th>AUTHOR_NAME</th>\n",
       "      <th>AUTHOR_EMAIL</th>\n",
       "      <th>MODIFICATIONS_COUNT</th>\n",
       "      <th>TIMESTAMP</th>\n",
       "      <th>ADDED_LINES</th>\n",
       "      <th>DELETED_LINES</th>\n",
       "      <th>DELETED_FILES</th>\n",
       "      <th>PROJECT</th>\n",
       "      <th>IS_ACADEMIC</th>\n",
       "    </tr>\n",
       "  </thead>\n",
       "  <tbody>\n",
       "    <tr>\n",
       "      <th>23135</th>\n",
       "      <td>6b8d3f0dad12b43e83167bb56220f04f689a9dea</td>\n",
       "      <td>Francesco Visin</td>\n",
       "      <td>fvisin@gmail.com</td>\n",
       "      <td>1</td>\n",
       "      <td>1468422510000</td>\n",
       "      <td>1</td>\n",
       "      <td>1</td>\n",
       "      <td>0</td>\n",
       "      <td>Theano</td>\n",
       "      <td>False</td>\n",
       "    </tr>\n",
       "    <tr>\n",
       "      <th>890</th>\n",
       "      <td>dbdcade4f0e46cfe5bef26e9880bbfad9fac75d5</td>\n",
       "      <td>James Bergstra</td>\n",
       "      <td>bergstrj@iro.umontreal.ca</td>\n",
       "      <td>1</td>\n",
       "      <td>1225150751000</td>\n",
       "      <td>24</td>\n",
       "      <td>0</td>\n",
       "      <td>0</td>\n",
       "      <td>Theano</td>\n",
       "      <td>True</td>\n",
       "    </tr>\n",
       "    <tr>\n",
       "      <th>1732</th>\n",
       "      <td>27351bf2b1f35add223b227f68e17decd624265d</td>\n",
       "      <td>Frederic Bastien</td>\n",
       "      <td>bastienf@iro.umontreal.ca</td>\n",
       "      <td>1</td>\n",
       "      <td>1244061255000</td>\n",
       "      <td>18</td>\n",
       "      <td>1</td>\n",
       "      <td>0</td>\n",
       "      <td>Theano</td>\n",
       "      <td>True</td>\n",
       "    </tr>\n",
       "    <tr>\n",
       "      <th>1953</th>\n",
       "      <td>ad942afad24c7a8ff8ec7dac7da89e1fcd71f635</td>\n",
       "      <td>James Bergstra</td>\n",
       "      <td>bergstrj@iro.umontreal.ca</td>\n",
       "      <td>1</td>\n",
       "      <td>1250704655000</td>\n",
       "      <td>1</td>\n",
       "      <td>1</td>\n",
       "      <td>0</td>\n",
       "      <td>Theano</td>\n",
       "      <td>True</td>\n",
       "    </tr>\n",
       "    <tr>\n",
       "      <th>11622</th>\n",
       "      <td>11603832b17c89bfeba96acc10ac14b7b582feec</td>\n",
       "      <td>abalkin</td>\n",
       "      <td>abalkin@enlnt.com</td>\n",
       "      <td>2</td>\n",
       "      <td>1355012288000</td>\n",
       "      <td>28</td>\n",
       "      <td>6</td>\n",
       "      <td>0</td>\n",
       "      <td>Theano</td>\n",
       "      <td>True</td>\n",
       "    </tr>\n",
       "  </tbody>\n",
       "</table>\n",
       "</div>"
      ],
      "text/plain": [
       "                                    COMMIT_HASH       AUTHOR_NAME  \\\n",
       "23135  6b8d3f0dad12b43e83167bb56220f04f689a9dea   Francesco Visin   \n",
       "890    dbdcade4f0e46cfe5bef26e9880bbfad9fac75d5    James Bergstra   \n",
       "1732   27351bf2b1f35add223b227f68e17decd624265d  Frederic Bastien   \n",
       "1953   ad942afad24c7a8ff8ec7dac7da89e1fcd71f635    James Bergstra   \n",
       "11622  11603832b17c89bfeba96acc10ac14b7b582feec           abalkin   \n",
       "\n",
       "                    AUTHOR_EMAIL  MODIFICATIONS_COUNT      TIMESTAMP  \\\n",
       "23135           fvisin@gmail.com                    1  1468422510000   \n",
       "890    bergstrj@iro.umontreal.ca                    1  1225150751000   \n",
       "1732   bastienf@iro.umontreal.ca                    1  1244061255000   \n",
       "1953   bergstrj@iro.umontreal.ca                    1  1250704655000   \n",
       "11622          abalkin@enlnt.com                    2  1355012288000   \n",
       "\n",
       "       ADDED_LINES  DELETED_LINES  DELETED_FILES PROJECT  IS_ACADEMIC  \n",
       "23135            1              1              0  Theano        False  \n",
       "890             24              0              0  Theano         True  \n",
       "1732            18              1              0  Theano         True  \n",
       "1953             1              1              0  Theano         True  \n",
       "11622           28              6              0  Theano         True  "
      ]
     },
     "execution_count": 7,
     "metadata": {},
     "output_type": "execute_result"
    }
   ],
   "source": [
    "# For example, let us take a look to the Scikit-Learn dataset after the change.\n",
    "all_datasets.sample(5)"
   ]
  },
  {
   "cell_type": "markdown",
   "metadata": {},
   "source": [
    "## Les contributions viennent-elles majoritairement de contributeurs académiques ?"
   ]
  },
  {
   "cell_type": "markdown",
   "metadata": {},
   "source": [
    "### En nombre de *commits* par contributeur"
   ]
  },
  {
   "cell_type": "code",
   "execution_count": 8,
   "metadata": {},
   "outputs": [
    {
     "data": {
      "image/png": "[encoded data removed]",
      "text/plain": [
       "<matplotlib.figure.Figure at 0x7f9ef3d62b38>"
      ]
     },
     "metadata": {},
     "output_type": "display_data"
    }
   ],
   "source": [
    "sns.countplot('IS_ACADEMIC', hue = 'PROJECT', data = all_datasets)\n",
    "\n",
    "plt.title('Number of academic contributions')\n",
    "plt.xlabel('Is the contribution academic?')\n",
    "plt.ylabel('Number of contributions');\n",
    "\n",
    "# TODO Show the bars in frequencies."
   ]
  },
  {
   "cell_type": "code",
   "execution_count": 9,
   "metadata": {},
   "outputs": [
    {
     "data": {
      "image/png": "[encoded data removed]",
      "text/plain": [
       "<matplotlib.figure.Figure at 0x7f9e1d081710>"
      ]
     },
     "metadata": {},
     "output_type": "display_data"
    }
   ],
   "source": [
    "sns.countplot('IS_ACADEMIC', data = theano_dataset)\n",
    "\n",
    "plt.title('Number of academic contributions in Theano')\n",
    "plt.xlabel('Is the contribution academic?')\n",
    "plt.ylabel('Number of contributions');"
   ]
  },
  {
   "cell_type": "markdown",
   "metadata": {
    "collapsed": true
   },
   "source": [
    "### En nombre de fichiers modifiés par *commit*"
   ]
  },
  {
   "cell_type": "code",
   "execution_count": 9,
   "metadata": {},
   "outputs": [
    {
     "data": {
      "image/png": "[encoded data removed]",
      "text/plain": [
       "<matplotlib.figure.Figure at 0x7f9f277d95f8>"
      ]
     },
     "metadata": {},
     "output_type": "display_data"
    }
   ],
   "source": [
    "sns.barplot(x = 'IS_ACADEMIC', y = 'MODIFICATIONS_COUNT', hue = 'PROJECT', data = all_datasets)\n",
    "\n",
    "plt.title('Modified files depending on the contributor type')\n",
    "plt.xlabel('Is the contribution academic?')\n",
    "plt.ylabel('Number of modified file in the contribution');"
   ]
  },
  {
   "cell_type": "code",
   "execution_count": 15,
   "metadata": {},
   "outputs": [
    {
     "data": {
      "image/png": "[encoded data removed]",
      "text/plain": [
       "<matplotlib.figure.Figure at 0x7f9ef3da5748>"
      ]
     },
     "metadata": {},
     "output_type": "display_data"
    }
   ],
   "source": [
    "sns.barplot(x = 'IS_ACADEMIC', y = 'DELETED_FILES', hue = 'PROJECT', data = all_datasets)\n",
    "\n",
    "plt.title('Deleted files depending on the contributor type')\n",
    "plt.xlabel('Is the contribution academic?')\n",
    "plt.ylabel('Number of deleted file in the contribution');"
   ]
  },
  {
   "cell_type": "markdown",
   "metadata": {},
   "source": [
    "### En nombre de lignes ajoutées/retirées par *commit*"
   ]
  },
  {
   "cell_type": "code",
   "execution_count": 13,
   "metadata": {},
   "outputs": [
    {
     "data": {
      "image/png": "[encoded data removed]",
      "text/plain": [
       "<matplotlib.figure.Figure at 0x7f9ef3def8d0>"
      ]
     },
     "metadata": {},
     "output_type": "display_data"
    }
   ],
   "source": [
    "sns.barplot(x = 'IS_ACADEMIC', y = 'ADDED_LINES', hue = 'PROJECT', data = all_datasets)\n",
    "\n",
    "plt.title('Added lines depending on the contributor type')\n",
    "plt.xlabel('Is the contribution academic?')\n",
    "plt.ylabel('Number of added lines in the contribution');"
   ]
  },
  {
   "cell_type": "code",
   "execution_count": 14,
   "metadata": {},
   "outputs": [
    {
     "data": {
      "image/png": "[encoded data removed]",
      "text/plain": [
       "<matplotlib.figure.Figure at 0x7f9ef3d027b8>"
      ]
     },
     "metadata": {},
     "output_type": "display_data"
    }
   ],
   "source": [
    "sns.barplot(x = 'IS_ACADEMIC', y = 'DELETED_LINES', hue = 'PROJECT', data = all_datasets)\n",
    "\n",
    "plt.title('Deleted lines depending on the contributor type')\n",
    "plt.xlabel('Is the contribution academic?')\n",
    "plt.ylabel('Number of deleted lines in the contribution');"
   ]
  }
 ],
 "metadata": {
  "kernelspec": {
   "display_name": "Python 3",
   "language": "python",
   "name": "python3"
  },
  "language_info": {
   "codemirror_mode": {
    "name": "ipython",
    "version": 3
   },
   "file_extension": ".py",
   "mimetype": "text/x-python",
   "name": "python",
   "nbconvert_exporter": "python",
   "pygments_lexer": "ipython3",
   "version": "3.6.4"
  }
 },
 "nbformat": 4,
 "nbformat_minor": 2
}
