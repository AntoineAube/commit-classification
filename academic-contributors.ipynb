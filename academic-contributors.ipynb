{
 "cells": [
  {
   "cell_type": "markdown",
   "metadata": {},
   "source": [
    "# Présence du monde académique dans les projets Open Source de Machine Learning : ces projets sont-ils faits par des chercheurs ?\n",
    "\n",
    "Dans le cadre de nos recherches, nous nous interrogeons sur la participation du monde académique au sein des projets Open Source de Machine Learning.\n",
    "\n",
    "Nos hypothèses sur la question sont les suivantes :\n",
    "* Les contributeurs ne sont pas majoritairement académique.\n",
    "* Les contributions viennent majoritairement de contributeurs académiques (en nombre de *commits* et en nombre de lignes).\n",
    "* Les contributeurs académiques sont les contributeurs qui contribuent le plus individuellement (en nombre de *commits* et en nombre de lignes).\n",
    "* La majorité des *commits* ajoutant des fonctionnalités proviennent de contributeurs académiques.\n",
    "\n",
    "Les hypothèses de travail que nous posons concernent la bonne foi des contributeurs dans les informations de *commit*. En particulier :\n",
    "* Le nom/prénom est celui de l'auteur.\n",
    "* L'adresse mail appartient à l'auteur. Le domaine de l'adresse est celui d'une académie si il est contributeur académique ou d'une entreprise si le contributeur contribue dans le cadre de son travail en entreprise.\n",
    "\n",
    "Pour étudier ces hypothèses et tenter de les réfuter, nous allons nous pencher sur les contributions de trois projets :\n",
    "* [Scikit-Learn](http://scikit-learn.org/stable/) ([dépôt GitHub](https://github.com/scikit-learn/scikit-learn)).\n",
    "* [Keras](https://keras.io/) ([dépôt GitHub](https://github.com/keras-team/keras)).\n",
    "* [Theano](http://deeplearning.net/software/theano/) ([dépôt GitHub](https://github.com/Theano/Theano)).\n",
    "\n",
    "Les données que nous allons exploiter dans ce document sont issues d'une extraction depuis leur dépôt Git respectif grâce à Repodriller. L'étude est reproductible avec le code disponible sur [notre dépôt GitHub](https://github.com/AntoineAube/reace-study)."
   ]
  },
  {
   "cell_type": "code",
   "execution_count": 22,
   "metadata": {
    "collapsed": true
   },
   "outputs": [],
   "source": [
    "# Let us import some awesome libraries!\n",
    "import pandas as pd\n",
    "import seaborn as sns\n",
    "import matplotlib.pyplot as plt\n",
    "import numpy as np\n",
    "import scholarly\n",
    "import progressbar\n",
    "import os.path\n",
    "import math\n",
    "\n",
    "%matplotlib inline\n",
    "\n",
    "# Just a bit of style. ;)\n",
    "sns.set_palette(sns.color_palette('hls', 8))"
   ]
  },
  {
   "cell_type": "code",
   "execution_count": 7,
   "metadata": {},
   "outputs": [
    {
     "data": {
      "text/html": [
       "<div>\n",
       "<style scoped>\n",
       "    .dataframe tbody tr th:only-of-type {\n",
       "        vertical-align: middle;\n",
       "    }\n",
       "\n",
       "    .dataframe tbody tr th {\n",
       "        vertical-align: top;\n",
       "    }\n",
       "\n",
       "    .dataframe thead th {\n",
       "        text-align: right;\n",
       "    }\n",
       "</style>\n",
       "<table border=\"1\" class=\"dataframe\">\n",
       "  <thead>\n",
       "    <tr style=\"text-align: right;\">\n",
       "      <th></th>\n",
       "      <th>COMMIT_HASH</th>\n",
       "      <th>AUTHOR_NAME</th>\n",
       "      <th>AUTHOR_EMAIL</th>\n",
       "      <th>MODIFICATIONS_COUNT</th>\n",
       "      <th>TIMESTAMP</th>\n",
       "      <th>ADDED_LINES</th>\n",
       "      <th>DELETED_LINES</th>\n",
       "      <th>DELETED_FILES</th>\n",
       "    </tr>\n",
       "  </thead>\n",
       "  <tbody>\n",
       "    <tr>\n",
       "      <th>19126</th>\n",
       "      <td>4ed425770a8974aa70c6f03814e3156c81262603</td>\n",
       "      <td>Yan Yi</td>\n",
       "      <td>seow.yanyi@gmail.com</td>\n",
       "      <td>1</td>\n",
       "      <td>1421606676000</td>\n",
       "      <td>2</td>\n",
       "      <td>2</td>\n",
       "      <td>0</td>\n",
       "    </tr>\n",
       "    <tr>\n",
       "      <th>10623</th>\n",
       "      <td>baf39adedad0e80af93b19e3d2451e426cb48a96</td>\n",
       "      <td>Lars Buitinck</td>\n",
       "      <td>larsmans@gmail.com</td>\n",
       "      <td>1</td>\n",
       "      <td>1349002403000</td>\n",
       "      <td>3</td>\n",
       "      <td>0</td>\n",
       "      <td>0</td>\n",
       "    </tr>\n",
       "    <tr>\n",
       "      <th>17635</th>\n",
       "      <td>65f4f953db64f9c3ac32b8742af04543d4465ae7</td>\n",
       "      <td>Hamzeh Alsalhi</td>\n",
       "      <td>ha258@cornell.edu</td>\n",
       "      <td>2</td>\n",
       "      <td>1406845658000</td>\n",
       "      <td>72</td>\n",
       "      <td>36</td>\n",
       "      <td>0</td>\n",
       "    </tr>\n",
       "    <tr>\n",
       "      <th>18678</th>\n",
       "      <td>acc25a47fd7233e8e16298b83fdf70b5137a0ba6</td>\n",
       "      <td>MechCoder</td>\n",
       "      <td>manojkumarsivaraj334@gmail.com</td>\n",
       "      <td>1</td>\n",
       "      <td>1419009657000</td>\n",
       "      <td>17</td>\n",
       "      <td>25</td>\n",
       "      <td>0</td>\n",
       "    </tr>\n",
       "    <tr>\n",
       "      <th>12290</th>\n",
       "      <td>7fb10b9be5cd8a5b905e180cc1cd759da43af19a</td>\n",
       "      <td>Andreas Mueller</td>\n",
       "      <td>amueller@ais.uni-bonn.de</td>\n",
       "      <td>1</td>\n",
       "      <td>1358083944000</td>\n",
       "      <td>18</td>\n",
       "      <td>6</td>\n",
       "      <td>0</td>\n",
       "    </tr>\n",
       "  </tbody>\n",
       "</table>\n",
       "</div>"
      ],
      "text/plain": [
       "                                    COMMIT_HASH      AUTHOR_NAME  \\\n",
       "19126  4ed425770a8974aa70c6f03814e3156c81262603           Yan Yi   \n",
       "10623  baf39adedad0e80af93b19e3d2451e426cb48a96    Lars Buitinck   \n",
       "17635  65f4f953db64f9c3ac32b8742af04543d4465ae7   Hamzeh Alsalhi   \n",
       "18678  acc25a47fd7233e8e16298b83fdf70b5137a0ba6        MechCoder   \n",
       "12290  7fb10b9be5cd8a5b905e180cc1cd759da43af19a  Andreas Mueller   \n",
       "\n",
       "                         AUTHOR_EMAIL  MODIFICATIONS_COUNT      TIMESTAMP  \\\n",
       "19126            seow.yanyi@gmail.com                    1  1421606676000   \n",
       "10623              larsmans@gmail.com                    1  1349002403000   \n",
       "17635               ha258@cornell.edu                    2  1406845658000   \n",
       "18678  manojkumarsivaraj334@gmail.com                    1  1419009657000   \n",
       "12290        amueller@ais.uni-bonn.de                    1  1358083944000   \n",
       "\n",
       "       ADDED_LINES  DELETED_LINES  DELETED_FILES  \n",
       "19126            2              2              0  \n",
       "10623            3              0              0  \n",
       "17635           72             36              0  \n",
       "18678           17             25              0  \n",
       "12290           18              6              0  "
      ]
     },
     "execution_count": 7,
     "metadata": {},
     "output_type": "execute_result"
    }
   ],
   "source": [
    "# Let us load the datasets.\n",
    "scikit_dataset = pd.read_csv('study-results/scikit-learn/exploration.csv')\n",
    "keras_dataset = pd.read_csv('study-results/keras/exploration.csv')\n",
    "theano_dataset = pd.read_csv('study-results/theano/exploration.csv')\n",
    "\n",
    "# For example, let us take a look to the Scikit-Learn dataset.\n",
    "scikit_dataset.sample(5)"
   ]
  },
  {
   "cell_type": "markdown",
   "metadata": {},
   "source": [
    "## Quels sont les contributeurs académiques ?\n",
    "\n",
    "Nous considérons que les contributeurs \"académiques\" sont les contributeurs dont la profession est de faire progresser la recherche (aussi bien des chercheurs en laboratoire de recherche que les chercheurs de l'industrie).\n",
    "\n",
    "Pour répondre à cette question, nous avons pensé à deux approches pour classifier les contributeurs selon qu'ils sont académiques ou pas, et les avons mises en oeuvre :\n",
    "* Utiliser le domaine de leur adresse mail : si le domaine de l'adresse appartient à une université ou bien spécifiquement à un chercheur, alors le contributeur associé est considéré académique.\n",
    "* Chercher l'existence de l'auteur dans un moteur de recherche d'articles scientifiques : s'il contient au moins une publication du contributeur, alors il est considéré académique.\n",
    "\n",
    "Nous nous attendons à une sélection plus dure avec la seconde approche (tout moteur de recherche ne recense pas tous les articles, ...) mais également plus rigoureuse (généralement, un contributeur non-académique ne publie pas d'article scientifique). La première approche est très peu précise (on ne peut rien déduire d'un domaine générique comme *gmail.com* donc il y aura inévitablement des faux négatifs)."
   ]
  },
  {
   "cell_type": "code",
   "execution_count": 8,
   "metadata": {},
   "outputs": [
    {
     "data": {
      "text/html": [
       "<div>\n",
       "<style scoped>\n",
       "    .dataframe tbody tr th:only-of-type {\n",
       "        vertical-align: middle;\n",
       "    }\n",
       "\n",
       "    .dataframe tbody tr th {\n",
       "        vertical-align: top;\n",
       "    }\n",
       "\n",
       "    .dataframe thead th {\n",
       "        text-align: right;\n",
       "    }\n",
       "</style>\n",
       "<table border=\"1\" class=\"dataframe\">\n",
       "  <thead>\n",
       "    <tr style=\"text-align: right;\">\n",
       "      <th></th>\n",
       "      <th>AUTHOR_NAME</th>\n",
       "      <th>AUTHOR_EMAIL</th>\n",
       "      <th>HAS_ACADEMIC_EMAIL</th>\n",
       "      <th>HAS_PUBLICATIONS</th>\n",
       "    </tr>\n",
       "  </thead>\n",
       "  <tbody>\n",
       "    <tr>\n",
       "      <th>2314</th>\n",
       "      <td>Samira Shabanian</td>\n",
       "      <td>s.shabanian@gmail.com</td>\n",
       "      <td>NaN</td>\n",
       "      <td>NaN</td>\n",
       "    </tr>\n",
       "    <tr>\n",
       "      <th>1721</th>\n",
       "      <td>Cristian Gratie</td>\n",
       "      <td>cgratie@gmail.com</td>\n",
       "      <td>NaN</td>\n",
       "      <td>NaN</td>\n",
       "    </tr>\n",
       "    <tr>\n",
       "      <th>2309</th>\n",
       "      <td>Moslem Kazemi</td>\n",
       "      <td>moslemk@users.noreply.github.com</td>\n",
       "      <td>NaN</td>\n",
       "      <td>NaN</td>\n",
       "    </tr>\n",
       "    <tr>\n",
       "      <th>2305</th>\n",
       "      <td>Sirisha Rambhatla</td>\n",
       "      <td>rambh002@umn.edu</td>\n",
       "      <td>NaN</td>\n",
       "      <td>NaN</td>\n",
       "    </tr>\n",
       "    <tr>\n",
       "      <th>1587</th>\n",
       "      <td>Mostafa Abdulhamid</td>\n",
       "      <td>dosht@users.noreply.github.com</td>\n",
       "      <td>NaN</td>\n",
       "      <td>NaN</td>\n",
       "    </tr>\n",
       "  </tbody>\n",
       "</table>\n",
       "</div>"
      ],
      "text/plain": [
       "             AUTHOR_NAME                      AUTHOR_EMAIL  \\\n",
       "2314    Samira Shabanian             s.shabanian@gmail.com   \n",
       "1721     Cristian Gratie                 cgratie@gmail.com   \n",
       "2309       Moslem Kazemi  moslemk@users.noreply.github.com   \n",
       "2305   Sirisha Rambhatla                  rambh002@umn.edu   \n",
       "1587  Mostafa Abdulhamid    dosht@users.noreply.github.com   \n",
       "\n",
       "      HAS_ACADEMIC_EMAIL  HAS_PUBLICATIONS  \n",
       "2314                 NaN               NaN  \n",
       "1721                 NaN               NaN  \n",
       "2309                 NaN               NaN  \n",
       "2305                 NaN               NaN  \n",
       "1587                 NaN               NaN  "
      ]
     },
     "execution_count": 8,
     "metadata": {},
     "output_type": "execute_result"
    }
   ],
   "source": [
    "def get_contributors(dataset):\n",
    "    return dataset[['AUTHOR_NAME', 'AUTHOR_EMAIL']].drop_duplicates()\n",
    "\n",
    "scikit_contributors = get_contributors(scikit_dataset)\n",
    "keras_contributors = get_contributors(keras_dataset)\n",
    "theano_contributors = get_contributors(theano_dataset)\n",
    "\n",
    "all_contributors = scikit_contributors.merge(keras_contributors, how = 'outer').merge(theano_contributors, how = 'outer')\n",
    "\n",
    "# Load the previously computed contributors and merge for the already known ones.\n",
    "if os.path.isfile('study-results/contributors.csv'):\n",
    "    computed_contributors = pd.read_csv('study-results/contributors.csv')\n",
    "    \n",
    "    all_contributors.merge(computed_contributors, how = 'outer')\n",
    "else:\n",
    "    all_contributors['HAS_ACADEMIC_EMAIL'] = np.NaN\n",
    "    all_contributors['HAS_PUBLICATIONS'] = np.NaN\n",
    "    \n",
    "all_contributors.sample(5)"
   ]
  },
  {
   "cell_type": "markdown",
   "metadata": {},
   "source": [
    "### Approche exploitant les adresses mail\n",
    "\n",
    "Nous étudions le domaine de l'adresse mail en procédant itérativement pour chaque dépôt étudié :\n",
    "* Pour les contributions qui n'ont pas été marquées \"académique\" à l'étape précédente, nous extrayons le domaine.\n",
    "* Nous listons ces domaines et les observons un à un (éventuellement, nous cherchons sur Internet). Nous l'ajoutons à notre liste blanche si elle correspond à un laboratoire de recherche ou à un chercheur en particulier.\n",
    "\n",
    "Cette méthode est fastidieuse mais il n'y a pas vraiment le choix pour déterminer quelles adresses appartiennent à des chercheurs. Comme la détermination des domaines *académiques* est essentiellement manuelle, elle est sensible aux erreurs humaines..."
   ]
  },
  {
   "cell_type": "code",
   "execution_count": 9,
   "metadata": {},
   "outputs": [
    {
     "name": "stdout",
     "output_type": "stream",
     "text": [
      "The approach with the mail addresses concluded that 355 contributors (out of 2520 contributors) are academic ones.\n"
     ]
    }
   ],
   "source": [
    "def address_domain(address):\n",
    "    split = address.split('@')\n",
    "    \n",
    "    if len(split) == 2:\n",
    "        return split[1]\n",
    "    else:\n",
    "        return address\n",
    "    \n",
    "academic_domains = ['inria.fr', 'cnes.fr', 'normalesup.org', 'ensta.org', 'jnphilipp.org',\n",
    "                    'vene.ro', 'cern.ch', 'uva.nl', 'cea.fr', 'heig-vd.ch', 'wxs.ca', 'smerity.com',\n",
    "                    'nsup.org', 'esciencecenter.nl', 'centraliens.net', 'acm.org', 'fu-berlin.de', \n",
    "                    'fit.vutbr.cz', 'hec.ca', 'barvinograd.com', 'jakelee.net', 'maluuba.com',\n",
    "                    'nicta.com.au', 'poli.ufrj.br', 'barkalov.ru', 'allenai.org', 'usherbrooke.ca',\n",
    "                    'taehoonlee.com', 'bioinf.jku.at', 'nerdluecht.de', 'yosinski.com', 'tum.de',\n",
    "                    'enlnt.com', 'kottalam.net', 'jan-schlueter.de', 'iupr.com', 'uoguelph.ca',\n",
    "                    'marcodena.it', 'esimon.eu', 'stophr.be', 'jan-matthis.de', 'josephpcohen.com',\n",
    "                    'cwi.nl']\n",
    "academic_domains_ends = ['edu', 'ens-cachan.fr', 'intra.cea.fr', 'ntnu.no', 'umontreal.ca', 'mcgill.ca', 'epita.fr']\n",
    "academic_domains_contents = ['.ca.', 'research', '.ac.', '.uu.', 'edu', 'student', 'uni', 'etu']\n",
    "\n",
    "def is_academic_address(domain):\n",
    "    for end in academic_domains_ends:\n",
    "        if domain.endswith(end):\n",
    "            return True\n",
    "    \n",
    "    for content in academic_domains_contents:\n",
    "        if content in domain:\n",
    "            return True\n",
    "        \n",
    "    return domain in academic_domains\n",
    "\n",
    "\n",
    "all_contributors['HAS_ACADEMIC_EMAIL'] = all_contributors['AUTHOR_EMAIL'].apply(address_domain).apply(is_academic_address)\n",
    "\n",
    "print('The approach with the mail addresses concluded that', len(all_contributors[all_contributors['HAS_ACADEMIC_EMAIL']]), 'contributors (out of', len(all_contributors), 'contributors) are academic ones.')"
   ]
  },
  {
   "cell_type": "markdown",
   "metadata": {},
   "source": [
    "### Approche avec un moteur de recherche d'articles scientifiques\n",
    "\n",
    "Nous cherchons le nom des contributeurs sur [Google Scholar](https://scholar.google.fr/). Il contient un très grand nombre de publications scientifiques sans limitation de domaine et dispose d'une API qui nous permet de l'interroger.\n",
    "\n",
    "Les autres moteurs de recherche que nous avons expérimenté n'étaient pas à jour (*arXiv.org*, ...), soit spécifiques à d'autres domaines (notamment le domaine médical), soit ne proposent pas d'API (*ResearchGate*, ...).\n",
    "\n",
    "Nous utilisons le module [scholarly](https://pypi.python.org/pypi/scholarly/0.2.3) qui pourvoie une API en Python pour consommer l'API de *Google Scholar*. Nous ne tenons compte que des contributeurs dont le nom est composé (au moins un prénom et un nom) et nous considérons qu'un contributeur est académique s'il existe un résultat à une requête d'auteur."
   ]
  },
  {
   "cell_type": "code",
   "execution_count": 27,
   "metadata": {},
   "outputs": [
    {
     "name": "stderr",
     "output_type": "stream",
     "text": [
      "100% (2520 of 2520) |#####################| Elapsed Time: 3:50:00 Time: 3:50:00\n"
     ]
    },
    {
     "ename": "ValueError",
     "evalue": "cannot index with vector containing NA / NaN values",
     "output_type": "error",
     "traceback": [
      "\u001b[0;31m---------------------------------------------------------------------------\u001b[0m",
      "\u001b[0;31mValueError\u001b[0m                                Traceback (most recent call last)",
      "\u001b[0;32m<ipython-input-27-e86e1b40e773>\u001b[0m in \u001b[0;36m<module>\u001b[0;34m()\u001b[0m\n\u001b[1;32m     29\u001b[0m     \u001b[0mall_contributors\u001b[0m \u001b[0;34m=\u001b[0m \u001b[0mall_contributors\u001b[0m\u001b[0;34m.\u001b[0m\u001b[0mapply\u001b[0m\u001b[0;34m(\u001b[0m\u001b[0mis_academic_author\u001b[0m\u001b[0;34m,\u001b[0m \u001b[0maxis\u001b[0m \u001b[0;34m=\u001b[0m \u001b[0;36m1\u001b[0m\u001b[0;34m)\u001b[0m\u001b[0;34m\u001b[0m\u001b[0m\n\u001b[1;32m     30\u001b[0m \u001b[0;34m\u001b[0m\u001b[0m\n\u001b[0;32m---> 31\u001b[0;31m \u001b[0mprint\u001b[0m\u001b[0;34m(\u001b[0m\u001b[0;34m'The approach with Google Scholar concluded that'\u001b[0m\u001b[0;34m,\u001b[0m \u001b[0mlen\u001b[0m\u001b[0;34m(\u001b[0m\u001b[0mall_contributors\u001b[0m\u001b[0;34m[\u001b[0m\u001b[0mall_contributors\u001b[0m\u001b[0;34m[\u001b[0m\u001b[0;34m'HAS_PUBLICATIONS'\u001b[0m\u001b[0;34m]\u001b[0m\u001b[0;34m]\u001b[0m\u001b[0;34m)\u001b[0m\u001b[0;34m,\u001b[0m \u001b[0;34m'contributors (out of'\u001b[0m\u001b[0;34m,\u001b[0m \u001b[0mlen\u001b[0m\u001b[0;34m(\u001b[0m\u001b[0mall_contributors\u001b[0m\u001b[0;34m)\u001b[0m\u001b[0;34m,\u001b[0m \u001b[0;34m'contributors) are academic ones.'\u001b[0m\u001b[0;34m)\u001b[0m\u001b[0;34m\u001b[0m\u001b[0m\n\u001b[0m",
      "\u001b[0;32m/usr/lib/python3.6/site-packages/pandas/core/frame.py\u001b[0m in \u001b[0;36m__getitem__\u001b[0;34m(self, key)\u001b[0m\n\u001b[1;32m   2131\u001b[0m         \u001b[0;32mif\u001b[0m \u001b[0misinstance\u001b[0m\u001b[0;34m(\u001b[0m\u001b[0mkey\u001b[0m\u001b[0;34m,\u001b[0m \u001b[0;34m(\u001b[0m\u001b[0mSeries\u001b[0m\u001b[0;34m,\u001b[0m \u001b[0mnp\u001b[0m\u001b[0;34m.\u001b[0m\u001b[0mndarray\u001b[0m\u001b[0;34m,\u001b[0m \u001b[0mIndex\u001b[0m\u001b[0;34m,\u001b[0m \u001b[0mlist\u001b[0m\u001b[0;34m)\u001b[0m\u001b[0;34m)\u001b[0m\u001b[0;34m:\u001b[0m\u001b[0;34m\u001b[0m\u001b[0m\n\u001b[1;32m   2132\u001b[0m             \u001b[0;31m# either boolean or fancy integer index\u001b[0m\u001b[0;34m\u001b[0m\u001b[0;34m\u001b[0m\u001b[0m\n\u001b[0;32m-> 2133\u001b[0;31m             \u001b[0;32mreturn\u001b[0m \u001b[0mself\u001b[0m\u001b[0;34m.\u001b[0m\u001b[0m_getitem_array\u001b[0m\u001b[0;34m(\u001b[0m\u001b[0mkey\u001b[0m\u001b[0;34m)\u001b[0m\u001b[0;34m\u001b[0m\u001b[0m\n\u001b[0m\u001b[1;32m   2134\u001b[0m         \u001b[0;32melif\u001b[0m \u001b[0misinstance\u001b[0m\u001b[0;34m(\u001b[0m\u001b[0mkey\u001b[0m\u001b[0;34m,\u001b[0m \u001b[0mDataFrame\u001b[0m\u001b[0;34m)\u001b[0m\u001b[0;34m:\u001b[0m\u001b[0;34m\u001b[0m\u001b[0m\n\u001b[1;32m   2135\u001b[0m             \u001b[0;32mreturn\u001b[0m \u001b[0mself\u001b[0m\u001b[0;34m.\u001b[0m\u001b[0m_getitem_frame\u001b[0m\u001b[0;34m(\u001b[0m\u001b[0mkey\u001b[0m\u001b[0;34m)\u001b[0m\u001b[0;34m\u001b[0m\u001b[0m\n",
      "\u001b[0;32m/usr/lib/python3.6/site-packages/pandas/core/frame.py\u001b[0m in \u001b[0;36m_getitem_array\u001b[0;34m(self, key)\u001b[0m\n\u001b[1;32m   2158\u001b[0m     \u001b[0;32mdef\u001b[0m \u001b[0m_getitem_array\u001b[0m\u001b[0;34m(\u001b[0m\u001b[0mself\u001b[0m\u001b[0;34m,\u001b[0m \u001b[0mkey\u001b[0m\u001b[0;34m)\u001b[0m\u001b[0;34m:\u001b[0m\u001b[0;34m\u001b[0m\u001b[0m\n\u001b[1;32m   2159\u001b[0m         \u001b[0;31m# also raises Exception if object array with NA values\u001b[0m\u001b[0;34m\u001b[0m\u001b[0;34m\u001b[0m\u001b[0m\n\u001b[0;32m-> 2160\u001b[0;31m         \u001b[0;32mif\u001b[0m \u001b[0mcom\u001b[0m\u001b[0;34m.\u001b[0m\u001b[0mis_bool_indexer\u001b[0m\u001b[0;34m(\u001b[0m\u001b[0mkey\u001b[0m\u001b[0;34m)\u001b[0m\u001b[0;34m:\u001b[0m\u001b[0;34m\u001b[0m\u001b[0m\n\u001b[0m\u001b[1;32m   2161\u001b[0m             \u001b[0;31m# warning here just in case -- previously __setitem__ was\u001b[0m\u001b[0;34m\u001b[0m\u001b[0;34m\u001b[0m\u001b[0m\n\u001b[1;32m   2162\u001b[0m             \u001b[0;31m# reindexing but __getitem__ was not; it seems more reasonable to\u001b[0m\u001b[0;34m\u001b[0m\u001b[0;34m\u001b[0m\u001b[0m\n",
      "\u001b[0;32m/usr/lib/python3.6/site-packages/pandas/core/common.py\u001b[0m in \u001b[0;36mis_bool_indexer\u001b[0;34m(key)\u001b[0m\n\u001b[1;32m    189\u001b[0m             \u001b[0;32mif\u001b[0m \u001b[0;32mnot\u001b[0m \u001b[0mlib\u001b[0m\u001b[0;34m.\u001b[0m\u001b[0mis_bool_array\u001b[0m\u001b[0;34m(\u001b[0m\u001b[0mkey\u001b[0m\u001b[0;34m)\u001b[0m\u001b[0;34m:\u001b[0m\u001b[0;34m\u001b[0m\u001b[0m\n\u001b[1;32m    190\u001b[0m                 \u001b[0;32mif\u001b[0m \u001b[0misna\u001b[0m\u001b[0;34m(\u001b[0m\u001b[0mkey\u001b[0m\u001b[0;34m)\u001b[0m\u001b[0;34m.\u001b[0m\u001b[0many\u001b[0m\u001b[0;34m(\u001b[0m\u001b[0;34m)\u001b[0m\u001b[0;34m:\u001b[0m\u001b[0;34m\u001b[0m\u001b[0m\n\u001b[0;32m--> 191\u001b[0;31m                     raise ValueError('cannot index with vector containing '\n\u001b[0m\u001b[1;32m    192\u001b[0m                                      'NA / NaN values')\n\u001b[1;32m    193\u001b[0m                 \u001b[0;32mreturn\u001b[0m \u001b[0;32mFalse\u001b[0m\u001b[0;34m\u001b[0m\u001b[0m\n",
      "\u001b[0;31mValueError\u001b[0m: cannot index with vector containing NA / NaN values"
     ]
    }
   ],
   "source": [
    "with progressbar.ProgressBar(max_value = len(all_contributors)) as bar:\n",
    "    current = 0\n",
    "    \n",
    "    def is_academic_author(row):\n",
    "        global current\n",
    "        \n",
    "        try:\n",
    "            if math.isnan(row['HAS_PUBLICATIONS']):\n",
    "                row['HAS_PUBLICATIONS'] = is_academic_author_by_name(row['AUTHOR_NAME'])\n",
    "            \n",
    "            return row\n",
    "        finally:\n",
    "            bar.update(current)\n",
    "            current += 1\n",
    "            \n",
    "    def is_academic_author_by_name(author_name):\n",
    "        if len(author_name.split()) < 2:\n",
    "            # It is more likely a nickname, so we cannot conclude.\n",
    "            return False\n",
    "        else:\n",
    "            try:\n",
    "                author = next(scholarly.search_author(author_name.title()), None)\n",
    "\n",
    "                return author != None\n",
    "            except Exception:\n",
    "                return np.NaN\n",
    "\n",
    "    all_contributors = all_contributors.apply(is_academic_author, axis = 1)\n",
    "    \n",
    "print('The approach with Google Scholar concluded that', len(all_contributors[all_contributors['HAS_PUBLICATIONS']]), 'contributors (out of', len(all_contributors), 'contributors) are academic ones.')"
   ]
  },
  {
   "cell_type": "code",
   "execution_count": null,
   "metadata": {
    "collapsed": true
   },
   "outputs": [],
   "source": [
    "all_contributors.to_csv('study-results/contributors.csv')"
   ]
  },
  {
   "cell_type": "markdown",
   "metadata": {},
   "source": [
    "## Enrichissons les données\n",
    "\n",
    "Pour pouvoir répondre aux questions suivantes, il va nous falloir enrichir les sets de données que nous avons chargé.\n",
    "\n",
    "Nous allons ajouter les champs suivants :\n",
    "* **PROJECT** : le nom du projet (utile pour fusionner les sets de données pour comparaison).\n",
    "* **IS_ACADEMIC** : la contribution est-elle présumée venir d'un contributeur académique ?"
   ]
  },
  {
   "cell_type": "code",
   "execution_count": 4,
   "metadata": {
    "collapsed": true
   },
   "outputs": [],
   "source": [
    "# Add PROJECT.\n",
    "scikit_dataset['PROJECT'] = 'Scikit-Learn'\n",
    "keras_dataset['PROJECT'] = 'Keras'\n",
    "theano_dataset['PROJECT'] = 'Theano'"
   ]
  },
  {
   "cell_type": "code",
   "execution_count": 5,
   "metadata": {
    "collapsed": true
   },
   "outputs": [],
   "source": [
    "# Add IS_ACADEMIC.\n",
    "add_is_academic(scikit_dataset)\n",
    "add_is_academic(keras_dataset)\n",
    "add_is_academic(theano_dataset)"
   ]
  },
  {
   "cell_type": "markdown",
   "metadata": {},
   "source": [
    "Nous créons un set de données collectant les données pour tous les projets étudiés."
   ]
  },
  {
   "cell_type": "code",
   "execution_count": 6,
   "metadata": {
    "collapsed": true
   },
   "outputs": [],
   "source": [
    "all_datasets = pd.concat([scikit_dataset, keras_dataset, theano_dataset])"
   ]
  },
  {
   "cell_type": "code",
   "execution_count": 7,
   "metadata": {},
   "outputs": [
    {
     "data": {
      "text/html": [
       "<div>\n",
       "<style scoped>\n",
       "    .dataframe tbody tr th:only-of-type {\n",
       "        vertical-align: middle;\n",
       "    }\n",
       "\n",
       "    .dataframe tbody tr th {\n",
       "        vertical-align: top;\n",
       "    }\n",
       "\n",
       "    .dataframe thead th {\n",
       "        text-align: right;\n",
       "    }\n",
       "</style>\n",
       "<table border=\"1\" class=\"dataframe\">\n",
       "  <thead>\n",
       "    <tr style=\"text-align: right;\">\n",
       "      <th></th>\n",
       "      <th>COMMIT_HASH</th>\n",
       "      <th>AUTHOR_NAME</th>\n",
       "      <th>AUTHOR_EMAIL</th>\n",
       "      <th>MODIFICATIONS_COUNT</th>\n",
       "      <th>TIMESTAMP</th>\n",
       "      <th>ADDED_LINES</th>\n",
       "      <th>DELETED_LINES</th>\n",
       "      <th>DELETED_FILES</th>\n",
       "      <th>PROJECT</th>\n",
       "      <th>IS_ACADEMIC</th>\n",
       "    </tr>\n",
       "  </thead>\n",
       "  <tbody>\n",
       "    <tr>\n",
       "      <th>3209</th>\n",
       "      <td>b8cd122984facbefa06104da9a84e0b0b947c468</td>\n",
       "      <td>James Bergstra</td>\n",
       "      <td>bergstrj@iro.umontreal.ca</td>\n",
       "      <td>1</td>\n",
       "      <td>1266866531000</td>\n",
       "      <td>30</td>\n",
       "      <td>23</td>\n",
       "      <td>0</td>\n",
       "      <td>Theano</td>\n",
       "      <td>True</td>\n",
       "    </tr>\n",
       "    <tr>\n",
       "      <th>849</th>\n",
       "      <td>ec450f429ee40c8aa093c2a1add942018950fffa</td>\n",
       "      <td>forsythd</td>\n",
       "      <td>forsythd@email.chop.edu</td>\n",
       "      <td>1</td>\n",
       "      <td>1440002227000</td>\n",
       "      <td>1</td>\n",
       "      <td>1</td>\n",
       "      <td>0</td>\n",
       "      <td>Keras</td>\n",
       "      <td>True</td>\n",
       "    </tr>\n",
       "    <tr>\n",
       "      <th>18562</th>\n",
       "      <td>e4f4f6df1bfe49bc3bb1ce81d4e95d35343a0a9d</td>\n",
       "      <td>Clemens Brunner</td>\n",
       "      <td>clemens.brunner@gmail.com</td>\n",
       "      <td>1</td>\n",
       "      <td>1414350984000</td>\n",
       "      <td>6</td>\n",
       "      <td>1</td>\n",
       "      <td>0</td>\n",
       "      <td>Scikit-Learn</td>\n",
       "      <td>False</td>\n",
       "    </tr>\n",
       "    <tr>\n",
       "      <th>18051</th>\n",
       "      <td>8c512d7f36495a031cf1f09bdb964c649b4e5e01</td>\n",
       "      <td>Li Yao</td>\n",
       "      <td>li.yao@umontreal.ca</td>\n",
       "      <td>1</td>\n",
       "      <td>1430760398000</td>\n",
       "      <td>4</td>\n",
       "      <td>12</td>\n",
       "      <td>0</td>\n",
       "      <td>Theano</td>\n",
       "      <td>True</td>\n",
       "    </tr>\n",
       "    <tr>\n",
       "      <th>3973</th>\n",
       "      <td>b24f44480a32e9911a0a8f7a845bc82c877be653</td>\n",
       "      <td>Fariz Rahman</td>\n",
       "      <td>farizrahman4u@gmail.com</td>\n",
       "      <td>1</td>\n",
       "      <td>1505508510000</td>\n",
       "      <td>1</td>\n",
       "      <td>0</td>\n",
       "      <td>0</td>\n",
       "      <td>Keras</td>\n",
       "      <td>False</td>\n",
       "    </tr>\n",
       "  </tbody>\n",
       "</table>\n",
       "</div>"
      ],
      "text/plain": [
       "                                    COMMIT_HASH      AUTHOR_NAME  \\\n",
       "3209   b8cd122984facbefa06104da9a84e0b0b947c468   James Bergstra   \n",
       "849    ec450f429ee40c8aa093c2a1add942018950fffa         forsythd   \n",
       "18562  e4f4f6df1bfe49bc3bb1ce81d4e95d35343a0a9d  Clemens Brunner   \n",
       "18051  8c512d7f36495a031cf1f09bdb964c649b4e5e01           Li Yao   \n",
       "3973   b24f44480a32e9911a0a8f7a845bc82c877be653     Fariz Rahman   \n",
       "\n",
       "                    AUTHOR_EMAIL  MODIFICATIONS_COUNT      TIMESTAMP  \\\n",
       "3209   bergstrj@iro.umontreal.ca                    1  1266866531000   \n",
       "849      forsythd@email.chop.edu                    1  1440002227000   \n",
       "18562  clemens.brunner@gmail.com                    1  1414350984000   \n",
       "18051        li.yao@umontreal.ca                    1  1430760398000   \n",
       "3973     farizrahman4u@gmail.com                    1  1505508510000   \n",
       "\n",
       "       ADDED_LINES  DELETED_LINES  DELETED_FILES       PROJECT  IS_ACADEMIC  \n",
       "3209            30             23              0        Theano         True  \n",
       "849              1              1              0         Keras         True  \n",
       "18562            6              1              0  Scikit-Learn        False  \n",
       "18051            4             12              0        Theano         True  \n",
       "3973             1              0              0         Keras        False  "
      ]
     },
     "execution_count": 7,
     "metadata": {},
     "output_type": "execute_result"
    }
   ],
   "source": [
    "# For example, let us take a look to the Scikit-Learn dataset after the change.\n",
    "all_datasets.sample(5)"
   ]
  },
  {
   "cell_type": "markdown",
   "metadata": {},
   "source": [
    "## Les contributeurs académiques sont-ils majoritaires ?"
   ]
  },
  {
   "cell_type": "code",
   "execution_count": 8,
   "metadata": {},
   "outputs": [
    {
     "data": {
      "image/png": "[encoded data removed]",
      "text/plain": [
       "<matplotlib.figure.Figure at 0x7f4632f740f0>"
      ]
     },
     "metadata": {},
     "output_type": "display_data"
    }
   ],
   "source": [
    "sns.countplot('IS_ACADEMIC', hue = 'PROJECT', data = all_datasets.drop_duplicates(['PROJECT', 'AUTHOR_NAME']))\n",
    "\n",
    "plt.title('Number of academic contributors per project')\n",
    "plt.xlabel('Is the contributor academic?')\n",
    "plt.ylabel('Number of contributors');"
   ]
  },
  {
   "cell_type": "code",
   "execution_count": 9,
   "metadata": {},
   "outputs": [
    {
     "name": "stdout",
     "output_type": "stream",
     "text": [
      "Participation (in # of contributors) for project 'Scikit', there has been:\n",
      " -     Academic contributors: 11.23%\n",
      " - Non academic contributors: 88.77%\n",
      "\n",
      "Participation (in # of contributors) for project 'Keras', there has been:\n",
      " -     Academic contributors: 9.68%\n",
      " - Non academic contributors: 90.32%\n",
      "\n",
      "Participation (in # of contributors) for project 'Theano', there has been:\n",
      " -     Academic contributors: 20.17%\n",
      " - Non academic contributors: 79.83%\n"
     ]
    }
   ],
   "source": [
    "def academic_contributors(project_name, project_dataset):\n",
    "    without_duplicates = project_dataset.drop_duplicates(['AUTHOR_NAME'])\n",
    "    percents = 100 * without_duplicates.groupby(['IS_ACADEMIC'])['COMMIT_HASH'].count() / len(without_duplicates)\n",
    "    \n",
    "    academic_contributors = '%.2f' % percents[True]\n",
    "    non_academic_contributors = '%.2f' % percents[False]\n",
    "    \n",
    "    print('Participation (in # of contributors) for project \\'' + project_name + '\\', there has been:')\n",
    "    print(' -     Academic contributors:', academic_contributors + '%')\n",
    "    print(' - Non academic contributors:', non_academic_contributors + '%')\n",
    "\n",
    "academic_contributors('Scikit', scikit_dataset)\n",
    "print()\n",
    "academic_contributors('Keras', keras_dataset)\n",
    "print()\n",
    "academic_contributors('Theano', theano_dataset)"
   ]
  },
  {
   "cell_type": "markdown",
   "metadata": {},
   "source": [
    "## Les contributions viennent-elles majoritairement de contributeurs académiques ?"
   ]
  },
  {
   "cell_type": "markdown",
   "metadata": {},
   "source": [
    "### En nombre de *commits*"
   ]
  },
  {
   "cell_type": "code",
   "execution_count": 10,
   "metadata": {},
   "outputs": [
    {
     "data": {
      "image/png": "[encoded data removed]",
      "text/plain": [
       "<matplotlib.figure.Figure at 0x7f4633379160>"
      ]
     },
     "metadata": {},
     "output_type": "display_data"
    }
   ],
   "source": [
    "sns.countplot('IS_ACADEMIC', hue = 'PROJECT', data = all_datasets)\n",
    "\n",
    "plt.title('Number of academic contributions per project')\n",
    "plt.xlabel('Is the contribution academic?')\n",
    "plt.ylabel('Number of contributions');"
   ]
  },
  {
   "cell_type": "code",
   "execution_count": 11,
   "metadata": {},
   "outputs": [
    {
     "name": "stdout",
     "output_type": "stream",
     "text": [
      "Participation (in # of commits) for project 'Scikit', there has been:\n",
      " -     Academic contributors: 45.45%\n",
      " - Non academic contributors: 54.55%\n",
      "\n",
      "Participation (in # of commits) for project 'Keras', there has been:\n",
      " -     Academic contributors: 5.45%\n",
      " - Non academic contributors: 94.55%\n",
      "\n",
      "Participation (in # of commits) for project 'Theano', there has been:\n",
      " -     Academic contributors: 25.11%\n",
      " - Non academic contributors: 74.89%\n"
     ]
    }
   ],
   "source": [
    "def academic_commits_contributions(project_name, project_dataset):\n",
    "    percents = 100 * project_dataset.groupby(['IS_ACADEMIC']).size() / len(project_dataset)\n",
    "    \n",
    "    academic_contribution = '%.2f' % percents[True]\n",
    "    non_academic_contribution = '%.2f' % percents[False]\n",
    "    \n",
    "    print('Participation (in # of commits) for project \\'' + project_name + '\\', there has been:')\n",
    "    print(' -     Academic contributors:', academic_contribution + '%')\n",
    "    print(' - Non academic contributors:', non_academic_contribution + '%')\n",
    "\n",
    "academic_commits_contributions('Scikit', scikit_dataset)\n",
    "print()\n",
    "academic_commits_contributions('Keras', keras_dataset)\n",
    "print()\n",
    "academic_commits_contributions('Theano', theano_dataset)"
   ]
  },
  {
   "cell_type": "markdown",
   "metadata": {},
   "source": [
    "### En nombre de lignes ajoutées/retirées"
   ]
  },
  {
   "cell_type": "code",
   "execution_count": 12,
   "metadata": {},
   "outputs": [
    {
     "name": "stdout",
     "output_type": "stream",
     "text": [
      "Participation (in # of ADDED_LINES) for project 'Scikit', there has been:\n",
      " -     Academic contributors: 28.81%\n",
      " - Non academic contributors: 71.19%\n",
      "\n",
      "Participation (in # of ADDED_LINES) for project 'Keras', there has been:\n",
      " -     Academic contributors: 3.62%\n",
      " - Non academic contributors: 96.38%\n",
      "\n",
      "Participation (in # of ADDED_LINES) for project 'Theano', there has been:\n",
      " -     Academic contributors: 29.77%\n",
      " - Non academic contributors: 70.23%\n",
      "\n",
      "\n",
      "Participation (in # of DELETED_LINES) for project 'Scikit', there has been:\n",
      " -     Academic contributors: 32.07%\n",
      " - Non academic contributors: 67.93%\n",
      "\n",
      "Participation (in # of DELETED_LINES) for project 'Keras', there has been:\n",
      " -     Academic contributors: 3.93%\n",
      " - Non academic contributors: 96.07%\n",
      "\n",
      "Participation (in # of DELETED_LINES) for project 'Theano', there has been:\n",
      " -     Academic contributors: 30.28%\n",
      " - Non academic contributors: 69.72%\n"
     ]
    }
   ],
   "source": [
    "def academic_lines_contributions(project_name, project_dataset, field):\n",
    "    percents = 100 * project_dataset.groupby(['IS_ACADEMIC'])[field].sum() / project_dataset[field].sum()\n",
    "    \n",
    "    academic_contribution = '%.2f' % percents[True]\n",
    "    non_academic_contribution = '%.2f' % percents[False]\n",
    "    \n",
    "    print('Participation (in # of ' + field + ') for project \\'' + project_name + '\\', there has been:')\n",
    "    print(' -     Academic contributors:', academic_contribution + '%')\n",
    "    print(' - Non academic contributors:', non_academic_contribution + '%')\n",
    "\n",
    "def academic_added_lines_contributions(project_name, project_dataset):\n",
    "    academic_lines_contributions(project_name, project_dataset, 'ADDED_LINES')\n",
    "    \n",
    "def academic_deleted_lines_contributions(project_name, project_dataset):\n",
    "    academic_lines_contributions(project_name, project_dataset, 'DELETED_LINES')\n",
    "    \n",
    "academic_added_lines_contributions('Scikit', scikit_dataset)\n",
    "print()\n",
    "academic_added_lines_contributions('Keras', keras_dataset)\n",
    "print()\n",
    "academic_added_lines_contributions('Theano', theano_dataset)\n",
    "\n",
    "print()\n",
    "print()\n",
    "\n",
    "academic_deleted_lines_contributions('Scikit', scikit_dataset)\n",
    "print()\n",
    "academic_deleted_lines_contributions('Keras', keras_dataset)\n",
    "print()\n",
    "academic_deleted_lines_contributions('Theano', theano_dataset)"
   ]
  },
  {
   "cell_type": "markdown",
   "metadata": {},
   "source": [
    "## Les contributeurs académiques sont-ils les contributeurs qui contribuent le plus  individuellement ?"
   ]
  },
  {
   "cell_type": "markdown",
   "metadata": {},
   "source": [
    "### En nombre de *commits* par contributeur"
   ]
  },
  {
   "cell_type": "code",
   "execution_count": 13,
   "metadata": {
    "collapsed": true
   },
   "outputs": [],
   "source": [
    "# TODO"
   ]
  },
  {
   "cell_type": "markdown",
   "metadata": {
    "collapsed": true
   },
   "source": [
    "### En nombre de fichiers modifiés par *commit*"
   ]
  },
  {
   "cell_type": "code",
   "execution_count": 14,
   "metadata": {},
   "outputs": [
    {
     "data": {
      "image/png": "[encoded data removed]",
      "text/plain": [
       "<matplotlib.figure.Figure at 0x7f4632eef4a8>"
      ]
     },
     "metadata": {},
     "output_type": "display_data"
    }
   ],
   "source": [
    "sns.barplot(x = 'IS_ACADEMIC', y = 'MODIFICATIONS_COUNT', hue = 'PROJECT', data = all_datasets)\n",
    "\n",
    "plt.title('Modified files depending on the contributor type')\n",
    "plt.xlabel('Is the contribution academic?')\n",
    "plt.ylabel('Number of modified file in the contribution');"
   ]
  },
  {
   "cell_type": "code",
   "execution_count": 15,
   "metadata": {
    "scrolled": true
   },
   "outputs": [
    {
     "data": {
      "image/png": "[encoded data removed]",
      "text/plain": [
       "<matplotlib.figure.Figure at 0x7f4632fa1668>"
      ]
     },
     "metadata": {},
     "output_type": "display_data"
    }
   ],
   "source": [
    "sns.barplot(x = 'IS_ACADEMIC', y = 'DELETED_FILES', hue = 'PROJECT', data = all_datasets)\n",
    "\n",
    "plt.title('Deleted files depending on the contributor type')\n",
    "plt.xlabel('Is the contribution academic?')\n",
    "plt.ylabel('Number of deleted file in the contribution');"
   ]
  },
  {
   "cell_type": "markdown",
   "metadata": {},
   "source": [
    "### En nombre de lignes ajoutées/retirées par *commit*"
   ]
  },
  {
   "cell_type": "code",
   "execution_count": 16,
   "metadata": {
    "scrolled": true
   },
   "outputs": [
    {
     "data": {
      "image/png": "[encoded data removed]",
      "text/plain": [
       "<matplotlib.figure.Figure at 0x7f4632ff6668>"
      ]
     },
     "metadata": {},
     "output_type": "display_data"
    }
   ],
   "source": [
    "sns.barplot(x = 'IS_ACADEMIC', y = 'ADDED_LINES', hue = 'PROJECT', data = all_datasets)\n",
    "\n",
    "plt.title('Added lines depending on the contributor type')\n",
    "plt.xlabel('Is the contribution academic?')\n",
    "plt.ylabel('Number of added lines in the contribution');"
   ]
  },
  {
   "cell_type": "code",
   "execution_count": 17,
   "metadata": {},
   "outputs": [
    {
     "data": {
      "image/png": "[encoded data removed]",
      "text/plain": [
       "<matplotlib.figure.Figure at 0x7f4632fac4e0>"
      ]
     },
     "metadata": {},
     "output_type": "display_data"
    }
   ],
   "source": [
    "sns.barplot(x = 'IS_ACADEMIC', y = 'DELETED_LINES', hue = 'PROJECT', data = all_datasets)\n",
    "\n",
    "plt.title('Deleted lines depending on the contributor type')\n",
    "plt.xlabel('Is the contribution academic?')\n",
    "plt.ylabel('Number of deleted lines in the contribution');"
   ]
  }
 ],
 "metadata": {
  "kernelspec": {
   "display_name": "Python 3",
   "language": "python",
   "name": "python3"
  },
  "language_info": {
   "codemirror_mode": {
    "name": "ipython",
    "version": 3
   },
   "file_extension": ".py",
   "mimetype": "text/x-python",
   "name": "python",
   "nbconvert_exporter": "python",
   "pygments_lexer": "ipython3",
   "version": "3.6.4"
  }
 },
 "nbformat": 4,
 "nbformat_minor": 2
}
