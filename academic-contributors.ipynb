{
 "cells": [
  {
   "cell_type": "markdown",
   "metadata": {},
   "source": [
    "# Présence du monde académique dans les projets Open Source de Machine Learning : ces projets sont-ils faits par des chercheurs ?\n",
    "\n",
    "Dans le cadre de nos recherches, nous nous interrogeons sur la participation du monde académique au sein des projets Open Source de Machine Learning.\n",
    "\n",
    "Nos hypothèses sur la question sont les suivantes :\n",
    "* Les contributeurs académiques sont les contributeurs qui contribuent le plus individuellement (en nombre de *commits* et en nombre de lignes).\n",
    "* Les contributions viennent majoritairement de contributeurs académiques (en nombre de *commits* et en nombre de lignes).\n",
    "* La majorité des *commits* ajoutant des fonctionnalités proviennent de contributeurs académiques.\n",
    "\n",
    "Les hypothèses de travail que nous posons concernent la bonne foi des contributeurs dans les informations de *commit*. En particulier :\n",
    "* Le nom/prénom est celui de l'auteur.\n",
    "* L'adresse mail appartient à l'auteur. Le domaine de l'adresse est celui d'une académie si il est contributeur académique ou d'une entreprise si le contributeur contribue dans le cadre de son travail en entreprise.\n",
    "\n",
    "Pour étudier ces hypothèses et tenter de les réfuter, nous allons nous pencher sur les contributions de trois projets :\n",
    "* [Scikit-Learn](http://scikit-learn.org/stable/) ([dépôt GitHub](https://github.com/scikit-learn/scikit-learn)).\n",
    "* [Keras](https://keras.io/) ([dépôt GitHub](https://github.com/keras-team/keras)).\n",
    "* [Theano](http://deeplearning.net/software/theano/) ([dépôt GitHub](https://github.com/Theano/Theano)).\n",
    "\n",
    "Les données que nous allons exploiter dans ce document sont issues d'une extraction depuis leur dépôt Git respectif grâce à Repodriller. L'étude est reproductible avec le code disponible sur [notre dépôt GitHub](https://github.com/AntoineAube/reace-study)."
   ]
  },
  {
   "cell_type": "code",
   "execution_count": 1,
   "metadata": {
    "collapsed": true
   },
   "outputs": [],
   "source": [
    "# Let us import some awesome libraries!\n",
    "import pandas as pd\n",
    "import seaborn as sns\n",
    "import matplotlib.pyplot as plt\n",
    "import numpy as np\n",
    "\n",
    "%matplotlib inline\n",
    "\n",
    "# Just a bit of style. ;)\n",
    "sns.set_palette(sns.color_palette('hls', 8))"
   ]
  },
  {
   "cell_type": "code",
   "execution_count": 2,
   "metadata": {},
   "outputs": [
    {
     "data": {
      "text/html": [
       "<div>\n",
       "<style scoped>\n",
       "    .dataframe tbody tr th:only-of-type {\n",
       "        vertical-align: middle;\n",
       "    }\n",
       "\n",
       "    .dataframe tbody tr th {\n",
       "        vertical-align: top;\n",
       "    }\n",
       "\n",
       "    .dataframe thead th {\n",
       "        text-align: right;\n",
       "    }\n",
       "</style>\n",
       "<table border=\"1\" class=\"dataframe\">\n",
       "  <thead>\n",
       "    <tr style=\"text-align: right;\">\n",
       "      <th></th>\n",
       "      <th>COMMIT_HASH</th>\n",
       "      <th>AUTHOR_NAME</th>\n",
       "      <th>AUTHOR_EMAIL</th>\n",
       "      <th>MODIFICATIONS_COUNT</th>\n",
       "      <th>TIMESTAMP</th>\n",
       "    </tr>\n",
       "  </thead>\n",
       "  <tbody>\n",
       "    <tr>\n",
       "      <th>6689</th>\n",
       "      <td>39c086da3a21861b0d7f3f648def612c3795fda8</td>\n",
       "      <td>Gilles Louppe</td>\n",
       "      <td>g.louppe@gmail.com</td>\n",
       "      <td>1</td>\n",
       "      <td>1320391210000</td>\n",
       "    </tr>\n",
       "    <tr>\n",
       "      <th>13144</th>\n",
       "      <td>cb701b0267480318a0baf1893df57c26e649e96f</td>\n",
       "      <td>Jim Holmström</td>\n",
       "      <td>jim.holmstroem@gmail.com</td>\n",
       "      <td>2</td>\n",
       "      <td>1368045258000</td>\n",
       "    </tr>\n",
       "    <tr>\n",
       "      <th>23515</th>\n",
       "      <td>85e1575e5f82c6ceb758dc506e63be239668c0e7</td>\n",
       "      <td>Rasul Kerimov</td>\n",
       "      <td>rkerimov@std.qu.edu.az</td>\n",
       "      <td>2</td>\n",
       "      <td>1503380610000</td>\n",
       "    </tr>\n",
       "    <tr>\n",
       "      <th>6418</th>\n",
       "      <td>afc4a031aa977dd5f5134d72b3f8a524bf00693a</td>\n",
       "      <td>Brian Holt</td>\n",
       "      <td>bdholt1@gmail.com</td>\n",
       "      <td>3</td>\n",
       "      <td>1317991718000</td>\n",
       "    </tr>\n",
       "    <tr>\n",
       "      <th>10081</th>\n",
       "      <td>6df5d76a1309daa8dfa2a905d131a07b342f1af8</td>\n",
       "      <td>Andreas Mueller</td>\n",
       "      <td>amueller@ais.uni-bonn.de</td>\n",
       "      <td>2</td>\n",
       "      <td>1344373538000</td>\n",
       "    </tr>\n",
       "    <tr>\n",
       "      <th>9169</th>\n",
       "      <td>95aba964671323b990700992081a1e2b6a99bbd2</td>\n",
       "      <td>David Marek</td>\n",
       "      <td>H4wk.cz@gmail.com</td>\n",
       "      <td>2</td>\n",
       "      <td>1334087243000</td>\n",
       "    </tr>\n",
       "    <tr>\n",
       "      <th>15851</th>\n",
       "      <td>674e0ea94f7508e7dd06c8dc544dd59a7eb48206</td>\n",
       "      <td>Alexander Fabisch</td>\n",
       "      <td>afabisch@tzi.de</td>\n",
       "      <td>2</td>\n",
       "      <td>1388103526000</td>\n",
       "    </tr>\n",
       "    <tr>\n",
       "      <th>11170</th>\n",
       "      <td>252f73c92e1fee5bc33fd2e02623c29a410067e2</td>\n",
       "      <td>GaelVaroquaux</td>\n",
       "      <td>gael.varoquaux@normalesup.org</td>\n",
       "      <td>2</td>\n",
       "      <td>1352363347000</td>\n",
       "    </tr>\n",
       "    <tr>\n",
       "      <th>12756</th>\n",
       "      <td>4d85d16857da6e7b8e7d1d618ea1dd64ee3a8f84</td>\n",
       "      <td>hrishikeshio</td>\n",
       "      <td>hrishikesh911@gmail.com</td>\n",
       "      <td>1</td>\n",
       "      <td>1361740673000</td>\n",
       "    </tr>\n",
       "    <tr>\n",
       "      <th>15335</th>\n",
       "      <td>b15a8fc66a33e270d80a77cc30b299c1cb8bce07</td>\n",
       "      <td>Johannes Schönberger</td>\n",
       "      <td>jschoenberger@demuc.de</td>\n",
       "      <td>1</td>\n",
       "      <td>1373232950000</td>\n",
       "    </tr>\n",
       "  </tbody>\n",
       "</table>\n",
       "</div>"
      ],
      "text/plain": [
       "                                    COMMIT_HASH           AUTHOR_NAME  \\\n",
       "6689   39c086da3a21861b0d7f3f648def612c3795fda8         Gilles Louppe   \n",
       "13144  cb701b0267480318a0baf1893df57c26e649e96f         Jim Holmström   \n",
       "23515  85e1575e5f82c6ceb758dc506e63be239668c0e7         Rasul Kerimov   \n",
       "6418   afc4a031aa977dd5f5134d72b3f8a524bf00693a            Brian Holt   \n",
       "10081  6df5d76a1309daa8dfa2a905d131a07b342f1af8       Andreas Mueller   \n",
       "9169   95aba964671323b990700992081a1e2b6a99bbd2           David Marek   \n",
       "15851  674e0ea94f7508e7dd06c8dc544dd59a7eb48206     Alexander Fabisch   \n",
       "11170  252f73c92e1fee5bc33fd2e02623c29a410067e2         GaelVaroquaux   \n",
       "12756  4d85d16857da6e7b8e7d1d618ea1dd64ee3a8f84          hrishikeshio   \n",
       "15335  b15a8fc66a33e270d80a77cc30b299c1cb8bce07  Johannes Schönberger   \n",
       "\n",
       "                        AUTHOR_EMAIL  MODIFICATIONS_COUNT      TIMESTAMP  \n",
       "6689              g.louppe@gmail.com                    1  1320391210000  \n",
       "13144       jim.holmstroem@gmail.com                    2  1368045258000  \n",
       "23515         rkerimov@std.qu.edu.az                    2  1503380610000  \n",
       "6418               bdholt1@gmail.com                    3  1317991718000  \n",
       "10081       amueller@ais.uni-bonn.de                    2  1344373538000  \n",
       "9169               H4wk.cz@gmail.com                    2  1334087243000  \n",
       "15851                afabisch@tzi.de                    2  1388103526000  \n",
       "11170  gael.varoquaux@normalesup.org                    2  1352363347000  \n",
       "12756        hrishikesh911@gmail.com                    1  1361740673000  \n",
       "15335         jschoenberger@demuc.de                    1  1373232950000  "
      ]
     },
     "execution_count": 2,
     "metadata": {},
     "output_type": "execute_result"
    }
   ],
   "source": [
    "# Let us load the datasets.\n",
    "scikit_dataset = pd.read_csv('study-results/scikit-learn/exploration.csv')\n",
    "keras_dataset = pd.read_csv('study-results/keras/exploration.csv')\n",
    "theano_dataset = pd.read_csv('study-results/theano/exploration.csv')\n",
    "\n",
    "# For example, let us take a look to the Scikit-Learn dataset.\n",
    "scikit_dataset.sample(10)"
   ]
  },
  {
   "cell_type": "markdown",
   "metadata": {},
   "source": [
    "## Quels sont les contributeurs académiques ?\n",
    "\n",
    "Pour répondre à cette question, nous allons classifier les contributeurs à l'aide de leur adresse mail (information suffisante d'après nos hypothèses de travail).\n",
    "\n",
    "D'autres options ont été envisagées :\n",
    "* Rechercher le nom du contributeur sur un moteur de recherche de publications scientifiques. Au point où nous sommes de nos recherches, les sites trouvés sont soit très incomplets (arXiv.org), soit spécifiques à d'autres domaines (notamment le médical), soit ils ne proposent pas d'API (ResearchGate).\n",
    "* Rechercher au cas par cas. Cette solution serait fastidieuse car les projets étudiés comptent un grand nombre de contributeurs.\n",
    "\n",
    "Dans la méthode choisie, nous étudions le domaine de l'adresse mail en procédant itérativement pour chaque dépôt étudié :\n",
    "* Pour les contributions qui n'ont pas été marquées \"académique\" à l'étape précédente, nous extrayons le domaine.\n",
    "* Nous listons ces domaines et les observons un à un (éventuellement, nous cherchons sur Internet). Nous l'ajoutons à notre liste blanche si elle correspond à un laboratoire de recherche ou à un chercheur en particulier.\n",
    "\n",
    "Cette méthode est fastidieuse mais permet de coller au mieux à notre hypothèse de travail. Comme elle est essentiellement manuelle, elle est sensible aux erreurs humaines..."
   ]
  },
  {
   "cell_type": "code",
   "execution_count": 3,
   "metadata": {
    "collapsed": true
   },
   "outputs": [],
   "source": [
    "def address_domain(address):\n",
    "    split = address.split('@')\n",
    "    \n",
    "    if len(split) == 2:\n",
    "        return split[1]\n",
    "    else:\n",
    "        return address\n",
    "    \n",
    "academic_domains = ['inria.fr', 'cnes.fr', 'normalesup.org', 'ensta.org', 'jnphilipp.org',\n",
    "                    'vene.ro', 'cern.ch', 'uva.nl', 'cea.fr', 'heig-vd.ch', 'wxs.ca', 'smerity.com',\n",
    "                    'nsup.org', 'esciencecenter.nl', 'centraliens.net', 'acm.org', 'fu-berlin.de', \n",
    "                    'fit.vutbr.cz', 'hec.ca', 'barvinograd.com', 'jakelee.net', 'maluuba.com',\n",
    "                    'nicta.com.au', 'poli.ufrj.br', 'barkalov.ru', 'allenai.org', 'usherbrooke.ca',\n",
    "                    'taehoonlee.com', 'bioinf.jku.at', 'nerdluecht.de', 'yosinski.com', 'tum.de',\n",
    "                    'enlnt.com', 'kottalam.net', 'jan-schlueter.de', 'iupr.com', 'uoguelph.ca',\n",
    "                    'marcodena.it', 'esimon.eu', 'stophr.be', 'jan-matthis.de', 'josephpcohen.com',\n",
    "                    'cwi.nl']\n",
    "academic_domains_ends = ['edu', 'ens-cachan.fr', 'intra.cea.fr', 'ntnu.no', 'umontreal.ca', 'mcgill.ca', 'epita.fr']\n",
    "academic_domains_contents = ['.ca.', 'research', '.ac.', '.uu.', 'edu', 'student', 'uni', 'etu']\n",
    "\n",
    "def is_academic_address(domain):\n",
    "    for end in academic_domains_ends:\n",
    "        if domain.endswith(end):\n",
    "            return True\n",
    "    \n",
    "    for content in academic_domains_contents:\n",
    "        if content in domain:\n",
    "            return True\n",
    "        \n",
    "    return domain in academic_domains\n",
    "\n",
    "def add_is_academic(df):\n",
    "    df['IS_ACADEMIC'] = df['AUTHOR_EMAIL'].apply(address_domain).apply(is_academic_address)"
   ]
  },
  {
   "cell_type": "markdown",
   "metadata": {},
   "source": [
    "## Enrichissons les données\n",
    "\n",
    "Pour pouvoir répondre aux questions suivantes, il va nous falloir enrichir les sets de données que nous avons chargé.\n",
    "\n",
    "Nous allons ajouter les champs suivants :\n",
    "* **PROJECT** : le nom du projet (utile pour fusionner les sets de données pour comparaison).\n",
    "* **IS_ACADEMIC** : la contribution est-elle présumée venir d'un contributeur académique ?"
   ]
  },
  {
   "cell_type": "code",
   "execution_count": 4,
   "metadata": {
    "collapsed": true
   },
   "outputs": [],
   "source": [
    "# Add PROJECT.\n",
    "scikit_dataset['PROJECT'] = 'Scikit-Learn'\n",
    "keras_dataset['PROJECT'] = 'Keras'\n",
    "theano_dataset['PROJECT'] = 'Theano'"
   ]
  },
  {
   "cell_type": "code",
   "execution_count": 5,
   "metadata": {},
   "outputs": [],
   "source": [
    "# Add IS_ACADEMIC.\n",
    "add_is_academic(scikit_dataset)\n",
    "add_is_academic(keras_dataset)\n",
    "add_is_academic(theano_dataset)"
   ]
  },
  {
   "cell_type": "markdown",
   "metadata": {},
   "source": [
    "Nous créons un set de données collectant les données pour tous les projets étudiés."
   ]
  },
  {
   "cell_type": "code",
   "execution_count": 6,
   "metadata": {
    "collapsed": true
   },
   "outputs": [],
   "source": [
    "all_datasets = pd.concat([scikit_dataset, keras_dataset, theano_dataset])"
   ]
  },
  {
   "cell_type": "code",
   "execution_count": 13,
   "metadata": {},
   "outputs": [
    {
     "data": {
      "text/html": [
       "<div>\n",
       "<style scoped>\n",
       "    .dataframe tbody tr th:only-of-type {\n",
       "        vertical-align: middle;\n",
       "    }\n",
       "\n",
       "    .dataframe tbody tr th {\n",
       "        vertical-align: top;\n",
       "    }\n",
       "\n",
       "    .dataframe thead th {\n",
       "        text-align: right;\n",
       "    }\n",
       "</style>\n",
       "<table border=\"1\" class=\"dataframe\">\n",
       "  <thead>\n",
       "    <tr style=\"text-align: right;\">\n",
       "      <th></th>\n",
       "      <th>COMMIT_HASH</th>\n",
       "      <th>AUTHOR_NAME</th>\n",
       "      <th>AUTHOR_EMAIL</th>\n",
       "      <th>MODIFICATIONS_COUNT</th>\n",
       "      <th>TIMESTAMP</th>\n",
       "      <th>PROJECT</th>\n",
       "      <th>IS_ACADEMIC</th>\n",
       "    </tr>\n",
       "  </thead>\n",
       "  <tbody>\n",
       "    <tr>\n",
       "      <th>18510</th>\n",
       "      <td>07a94c0e3e0ce9f13e9d20b10367b54ee26453e9</td>\n",
       "      <td>Matteo Visconti dOC</td>\n",
       "      <td>matteo.visconti.gr@dartmouth.edu</td>\n",
       "      <td>3</td>\n",
       "      <td>1418569676000</td>\n",
       "      <td>Scikit-Learn</td>\n",
       "      <td>True</td>\n",
       "    </tr>\n",
       "    <tr>\n",
       "      <th>2278</th>\n",
       "      <td>24501d4361606d6305e9eaeadaf1cd1bbb8dfab6</td>\n",
       "      <td>fchollet</td>\n",
       "      <td>francois.chollet@gmail.com</td>\n",
       "      <td>1</td>\n",
       "      <td>1463870792000</td>\n",
       "      <td>Keras</td>\n",
       "      <td>False</td>\n",
       "    </tr>\n",
       "    <tr>\n",
       "      <th>274</th>\n",
       "      <td>f00ae3046436f09e62460a8468e031a0c2027e7f</td>\n",
       "      <td>Fabian Pedregosa</td>\n",
       "      <td>fabian.pedregosa@inria.fr</td>\n",
       "      <td>1</td>\n",
       "      <td>1262772693000</td>\n",
       "      <td>Scikit-Learn</td>\n",
       "      <td>True</td>\n",
       "    </tr>\n",
       "    <tr>\n",
       "      <th>24452</th>\n",
       "      <td>43ddbad316ddaee4e60dccb8b80d8c40eba9aff4</td>\n",
       "      <td>Frederic Bastien</td>\n",
       "      <td>nouiz@nouiz.org</td>\n",
       "      <td>2</td>\n",
       "      <td>1480343538000</td>\n",
       "      <td>Theano</td>\n",
       "      <td>False</td>\n",
       "    </tr>\n",
       "    <tr>\n",
       "      <th>2666</th>\n",
       "      <td>328e24e5c159835d008fdef2c25f3884f79cc059</td>\n",
       "      <td>rman@rpad</td>\n",
       "      <td>rman@rpad</td>\n",
       "      <td>3</td>\n",
       "      <td>1263786211000</td>\n",
       "      <td>Theano</td>\n",
       "      <td>False</td>\n",
       "    </tr>\n",
       "  </tbody>\n",
       "</table>\n",
       "</div>"
      ],
      "text/plain": [
       "                                    COMMIT_HASH          AUTHOR_NAME  \\\n",
       "18510  07a94c0e3e0ce9f13e9d20b10367b54ee26453e9  Matteo Visconti dOC   \n",
       "2278   24501d4361606d6305e9eaeadaf1cd1bbb8dfab6             fchollet   \n",
       "274    f00ae3046436f09e62460a8468e031a0c2027e7f     Fabian Pedregosa   \n",
       "24452  43ddbad316ddaee4e60dccb8b80d8c40eba9aff4     Frederic Bastien   \n",
       "2666   328e24e5c159835d008fdef2c25f3884f79cc059            rman@rpad   \n",
       "\n",
       "                           AUTHOR_EMAIL  MODIFICATIONS_COUNT      TIMESTAMP  \\\n",
       "18510  matteo.visconti.gr@dartmouth.edu                    3  1418569676000   \n",
       "2278         francois.chollet@gmail.com                    1  1463870792000   \n",
       "274           fabian.pedregosa@inria.fr                    1  1262772693000   \n",
       "24452                   nouiz@nouiz.org                    2  1480343538000   \n",
       "2666                          rman@rpad                    3  1263786211000   \n",
       "\n",
       "            PROJECT  IS_ACADEMIC  \n",
       "18510  Scikit-Learn         True  \n",
       "2278          Keras        False  \n",
       "274    Scikit-Learn         True  \n",
       "24452        Theano        False  \n",
       "2666         Theano        False  "
      ]
     },
     "execution_count": 13,
     "metadata": {},
     "output_type": "execute_result"
    }
   ],
   "source": [
    "# For example, let us take a look to the Scikit-Learn dataset after the change.\n",
    "all_datasets.sample(5)"
   ]
  },
  {
   "cell_type": "markdown",
   "metadata": {},
   "source": [
    "## Les contributions viennent-elles majoritairement de contributeurs académiques ?"
   ]
  },
  {
   "cell_type": "markdown",
   "metadata": {},
   "source": [
    "### En nombre de *commits* par contributeur"
   ]
  },
  {
   "cell_type": "code",
   "execution_count": 19,
   "metadata": {},
   "outputs": [
    {
     "data": {
      "image/png": "[encoded data removed]",
      "text/plain": [
       "<matplotlib.figure.Figure at 0x7f9e1d0882b0>"
      ]
     },
     "metadata": {},
     "output_type": "display_data"
    }
   ],
   "source": [
    "sns.countplot('IS_ACADEMIC', hue = 'PROJECT', data = all_datasets)\n",
    "\n",
    "plt.title('Number of academic contributions')\n",
    "plt.xlabel('Is the contribution academic?')\n",
    "plt.ylabel('Number of contributions');\n",
    "\n",
    "# TODO Show the bars in frequencies."
   ]
  },
  {
   "cell_type": "markdown",
   "metadata": {
    "collapsed": true
   },
   "source": [
    "### En nombre de fichiers modifiés par *commit*"
   ]
  },
  {
   "cell_type": "code",
   "execution_count": 15,
   "metadata": {},
   "outputs": [
    {
     "data": {
      "image/png": "[encoded data removed]",
      "text/plain": [
       "<matplotlib.figure.Figure at 0x7f9e1d0981d0>"
      ]
     },
     "metadata": {},
     "output_type": "display_data"
    }
   ],
   "source": [
    "sns.barplot(x = 'IS_ACADEMIC', y = 'MODIFICATIONS_COUNT', hue = 'PROJECT', data = all_datasets)\n",
    "\n",
    "plt.title('Modified files depending on the contributor type')\n",
    "plt.xlabel('Is the contribution academic?')\n",
    "plt.ylabel('Number of modified file of the contribution');"
   ]
  },
  {
   "cell_type": "markdown",
   "metadata": {},
   "source": [
    "### En nombre de lignes ajoutées/retirées par *commit*"
   ]
  },
  {
   "cell_type": "code",
   "execution_count": null,
   "metadata": {
    "collapsed": true
   },
   "outputs": [],
   "source": [
    "# TODO Display the graph."
   ]
  }
 ],
 "metadata": {
  "kernelspec": {
   "display_name": "Python 3",
   "language": "python",
   "name": "python3"
  },
  "language_info": {
   "codemirror_mode": {
    "name": "ipython",
    "version": 3
   },
   "file_extension": ".py",
   "mimetype": "text/x-python",
   "name": "python",
   "nbconvert_exporter": "python",
   "pygments_lexer": "ipython3",
   "version": "3.6.4"
  }
 },
 "nbformat": 4,
 "nbformat_minor": 2
}
