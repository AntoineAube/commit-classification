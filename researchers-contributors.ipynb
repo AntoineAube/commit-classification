{
 "cells": [
  {
   "cell_type": "markdown",
   "metadata": {},
   "source": [
    "# Présence du monde de la recherche dans les projets Open Source de Machine Learning : ces projets sont-ils faits par des chercheurs ?\n",
    "\n",
    "Dans le cadre de notre étude, nous nous interrogeons sur la participation du monde de la recherche au sein des projets Open Source de Machine Learning.\n",
    "\n",
    "Nos hypothèses sur la question sont les suivantes :\n",
    "* Les contributeurs ne sont pas majoritairement des chercheurs.\n",
    "* Les contributions viennent majoritairement de contributeurs-chercheurs (en nombre de *commits* et en nombre de lignes).\n",
    "* Les contributeurs-chercheurs sont les contributeurs qui contribuent le plus individuellement (en nombre de *commits* et en nombre de lignes).\n",
    "* La majorité des *commits* ajoutant des fonctionnalités proviennent de contributeurs-chercheurs.\n",
    "\n",
    "Les hypothèses de travail que nous posons concernent la bonne foi des contributeurs dans les informations de *commit*. En particulier :\n",
    "* Le nom/prénom est celui de l'auteur.\n",
    "* L'adresse mail appartient à l'auteur.\n",
    "\n",
    "Pour étudier ces hypothèses et tenter de les réfuter, nous allons nous pencher sur les contributions de trois projets :\n",
    "* [Scikit-Learn](http://scikit-learn.org/stable/) ([dépôt GitHub](https://github.com/scikit-learn/scikit-learn)).\n",
    "* [Keras](https://keras.io/) ([dépôt GitHub](https://github.com/keras-team/keras)).\n",
    "* [Theano](http://deeplearning.net/software/theano/) ([dépôt GitHub](https://github.com/Theano/Theano)).\n",
    "\n",
    "Les données que nous allons exploiter dans ce document sont issues d'une extraction depuis leur dépôt Git respectif grâce à Repodriller. L'étude est reproductible avec le code disponible sur [notre dépôt GitHub](https://github.com/AntoineAube/reace-study)."
   ]
  },
  {
   "cell_type": "code",
   "execution_count": 1,
   "metadata": {
    "collapsed": true
   },
   "outputs": [],
   "source": [
    "# Let us import some awesome libraries!\n",
    "import pandas as pd\n",
    "import seaborn as sns\n",
    "import matplotlib.pyplot as plt\n",
    "import numpy as np\n",
    "import scholarly\n",
    "import progressbar\n",
    "import os.path\n",
    "import math\n",
    "\n",
    "%matplotlib inline\n",
    "\n",
    "# Just a bit of style. ;)\n",
    "sns.set_palette(sns.color_palette('hls', 8))"
   ]
  },
  {
   "cell_type": "code",
   "execution_count": 2,
   "metadata": {},
   "outputs": [
    {
     "data": {
      "text/html": [
       "<div>\n",
       "<style scoped>\n",
       "    .dataframe tbody tr th:only-of-type {\n",
       "        vertical-align: middle;\n",
       "    }\n",
       "\n",
       "    .dataframe tbody tr th {\n",
       "        vertical-align: top;\n",
       "    }\n",
       "\n",
       "    .dataframe thead th {\n",
       "        text-align: right;\n",
       "    }\n",
       "</style>\n",
       "<table border=\"1\" class=\"dataframe\">\n",
       "  <thead>\n",
       "    <tr style=\"text-align: right;\">\n",
       "      <th></th>\n",
       "      <th>COMMIT_HASH</th>\n",
       "      <th>AUTHOR_NAME</th>\n",
       "      <th>AUTHOR_EMAIL</th>\n",
       "      <th>MODIFICATIONS_COUNT</th>\n",
       "      <th>TIMESTAMP</th>\n",
       "      <th>ADDED_LINES</th>\n",
       "      <th>DELETED_LINES</th>\n",
       "      <th>DELETED_FILES</th>\n",
       "    </tr>\n",
       "  </thead>\n",
       "  <tbody>\n",
       "    <tr>\n",
       "      <th>9133</th>\n",
       "      <td>a633b28e2b9556d963d09a727d42828b6bf51623</td>\n",
       "      <td>Andy</td>\n",
       "      <td>amueller@ais.uni-bonn.de</td>\n",
       "      <td>1</td>\n",
       "      <td>1334337221000</td>\n",
       "      <td>101</td>\n",
       "      <td>14</td>\n",
       "      <td>0</td>\n",
       "    </tr>\n",
       "    <tr>\n",
       "      <th>518</th>\n",
       "      <td>35e6a87c48a753033722f4a40204d510cc994cda</td>\n",
       "      <td>Fabian Pedregosa</td>\n",
       "      <td>fabian.pedregosa@inria.fr</td>\n",
       "      <td>1</td>\n",
       "      <td>1268399627000</td>\n",
       "      <td>8</td>\n",
       "      <td>9</td>\n",
       "      <td>0</td>\n",
       "    </tr>\n",
       "    <tr>\n",
       "      <th>4482</th>\n",
       "      <td>d124bde78689037b17e7a70af4c46dd282d24fbc</td>\n",
       "      <td>Alexandre Gramfort</td>\n",
       "      <td>alexandre.gramfort@inria.fr</td>\n",
       "      <td>2</td>\n",
       "      <td>1308095058000</td>\n",
       "      <td>8</td>\n",
       "      <td>0</td>\n",
       "      <td>0</td>\n",
       "    </tr>\n",
       "    <tr>\n",
       "      <th>9803</th>\n",
       "      <td>4918c9cc9d164e65282410c952371566e4bb9cec</td>\n",
       "      <td>Yaroslav Halchenko</td>\n",
       "      <td>debian@onerussian.com</td>\n",
       "      <td>2</td>\n",
       "      <td>1341415292000</td>\n",
       "      <td>20</td>\n",
       "      <td>0</td>\n",
       "      <td>0</td>\n",
       "    </tr>\n",
       "    <tr>\n",
       "      <th>5339</th>\n",
       "      <td>4121347f943c4f958b657c53915a30ad59d5dc8c</td>\n",
       "      <td>Brian Holt</td>\n",
       "      <td>bdholt1@gmail.com</td>\n",
       "      <td>1</td>\n",
       "      <td>1312904465000</td>\n",
       "      <td>16</td>\n",
       "      <td>9</td>\n",
       "      <td>0</td>\n",
       "    </tr>\n",
       "  </tbody>\n",
       "</table>\n",
       "</div>"
      ],
      "text/plain": [
       "                                   COMMIT_HASH         AUTHOR_NAME  \\\n",
       "9133  a633b28e2b9556d963d09a727d42828b6bf51623                Andy   \n",
       "518   35e6a87c48a753033722f4a40204d510cc994cda    Fabian Pedregosa   \n",
       "4482  d124bde78689037b17e7a70af4c46dd282d24fbc  Alexandre Gramfort   \n",
       "9803  4918c9cc9d164e65282410c952371566e4bb9cec  Yaroslav Halchenko   \n",
       "5339  4121347f943c4f958b657c53915a30ad59d5dc8c          Brian Holt   \n",
       "\n",
       "                     AUTHOR_EMAIL  MODIFICATIONS_COUNT      TIMESTAMP  \\\n",
       "9133     amueller@ais.uni-bonn.de                    1  1334337221000   \n",
       "518     fabian.pedregosa@inria.fr                    1  1268399627000   \n",
       "4482  alexandre.gramfort@inria.fr                    2  1308095058000   \n",
       "9803        debian@onerussian.com                    2  1341415292000   \n",
       "5339            bdholt1@gmail.com                    1  1312904465000   \n",
       "\n",
       "      ADDED_LINES  DELETED_LINES  DELETED_FILES  \n",
       "9133          101             14              0  \n",
       "518             8              9              0  \n",
       "4482            8              0              0  \n",
       "9803           20              0              0  \n",
       "5339           16              9              0  "
      ]
     },
     "execution_count": 2,
     "metadata": {},
     "output_type": "execute_result"
    }
   ],
   "source": [
    "# Let us load the datasets.\n",
    "scikit_dataset = pd.read_csv('study-results/scikit-learn/exploration.csv')\n",
    "keras_dataset = pd.read_csv('study-results/keras/exploration.csv')\n",
    "theano_dataset = pd.read_csv('study-results/theano/exploration.csv')\n",
    "\n",
    "# For example, let us take a look to the Scikit-Learn dataset.\n",
    "scikit_dataset.sample(5)"
   ]
  },
  {
   "cell_type": "markdown",
   "metadata": {},
   "source": [
    "## Quels sont les contributeurs-chercheurs ?\n",
    "\n",
    "Nous considérons que les contributeurs \"chercheurs\" sont les contributeurs qui écrivent des articles scientifiques et dont la profession est de faire progresser la recherche, sans discrimination entre les chercheurs académiques et les chercheurs de l'industrie.\n",
    "\n",
    "Pour répondre à cette question, nous avons pensé à deux approches pour classifier les contributeurs selon qu'ils sont chercheurs ou pas, et les avons mises en oeuvre :\n",
    "* Utiliser le domaine de leur adresse mail : si le domaine de l'adresse appartient à une université ou bien spécifiquement à un chercheur, alors nous considérons que le contributeur est un chercheur. Si le domaine n'est pas celui d'un chercheur, on ne peut rien déduire.\n",
    "* Chercher l'existence de l'auteur dans un moteur de recherche d'articles scientifiques : s'il contient le profil du contributeur, alors il est considéré chercheur. Si la recherche aboutit à aucun résultat, alors le contributeur n'est pas chercheur.\n",
    "\n",
    "Nous nous attendons à une sélection plus dure avec la seconde approche (tout moteur de recherche ne recense pas tous les articles, ...) mais également plus rigoureuse (généralement, un contributeur non-chercheur ne publie pas d'article scientifique). La première approche est très peu précise (on ne peut rien déduire d'un domaine générique comme *gmail.com* donc il y aura inévitablement des faux négatifs)."
   ]
  },
  {
   "cell_type": "code",
   "execution_count": 3,
   "metadata": {},
   "outputs": [
    {
     "data": {
      "text/html": [
       "<div>\n",
       "<style scoped>\n",
       "    .dataframe tbody tr th:only-of-type {\n",
       "        vertical-align: middle;\n",
       "    }\n",
       "\n",
       "    .dataframe tbody tr th {\n",
       "        vertical-align: top;\n",
       "    }\n",
       "\n",
       "    .dataframe thead th {\n",
       "        text-align: right;\n",
       "    }\n",
       "</style>\n",
       "<table border=\"1\" class=\"dataframe\">\n",
       "  <thead>\n",
       "    <tr style=\"text-align: right;\">\n",
       "      <th></th>\n",
       "      <th>AUTHOR_NAME</th>\n",
       "      <th>AUTHOR_EMAIL</th>\n",
       "      <th>HAS_RESEARCHER_EMAIL</th>\n",
       "      <th>HAS_PUBLICATIONS</th>\n",
       "    </tr>\n",
       "  </thead>\n",
       "  <tbody>\n",
       "    <tr>\n",
       "      <th>1409</th>\n",
       "      <td>Zhen Wang</td>\n",
       "      <td>nehz@users.noreply.github.com</td>\n",
       "      <td>False</td>\n",
       "      <td>NaN</td>\n",
       "    </tr>\n",
       "    <tr>\n",
       "      <th>149</th>\n",
       "      <td>Udi Weinsberg</td>\n",
       "      <td>udi.weinsberg@technicolor.com</td>\n",
       "      <td>False</td>\n",
       "      <td>True</td>\n",
       "    </tr>\n",
       "    <tr>\n",
       "      <th>2445</th>\n",
       "      <td>bscellier</td>\n",
       "      <td>bscellier@users.noreply.github.com</td>\n",
       "      <td>False</td>\n",
       "      <td>False</td>\n",
       "    </tr>\n",
       "    <tr>\n",
       "      <th>255</th>\n",
       "      <td>Szabo Roland</td>\n",
       "      <td>rolisz@gmail.com</td>\n",
       "      <td>False</td>\n",
       "      <td>True</td>\n",
       "    </tr>\n",
       "    <tr>\n",
       "      <th>1895</th>\n",
       "      <td>Jonathan DEKHTIAR</td>\n",
       "      <td>DEKHTIARJonathan@users.noreply.github.com</td>\n",
       "      <td>False</td>\n",
       "      <td>NaN</td>\n",
       "    </tr>\n",
       "  </tbody>\n",
       "</table>\n",
       "</div>"
      ],
      "text/plain": [
       "            AUTHOR_NAME                               AUTHOR_EMAIL  \\\n",
       "1409          Zhen Wang              nehz@users.noreply.github.com   \n",
       "149       Udi Weinsberg              udi.weinsberg@technicolor.com   \n",
       "2445          bscellier         bscellier@users.noreply.github.com   \n",
       "255        Szabo Roland                           rolisz@gmail.com   \n",
       "1895  Jonathan DEKHTIAR  DEKHTIARJonathan@users.noreply.github.com   \n",
       "\n",
       "      HAS_RESEARCHER_EMAIL HAS_PUBLICATIONS  \n",
       "1409                 False              NaN  \n",
       "149                  False             True  \n",
       "2445                 False            False  \n",
       "255                  False             True  \n",
       "1895                 False              NaN  "
      ]
     },
     "execution_count": 3,
     "metadata": {},
     "output_type": "execute_result"
    }
   ],
   "source": [
    "def get_contributors(dataset):\n",
    "    return dataset[['AUTHOR_NAME', 'AUTHOR_EMAIL']].drop_duplicates()\n",
    "\n",
    "scikit_contributors = get_contributors(scikit_dataset)\n",
    "keras_contributors = get_contributors(keras_dataset)\n",
    "theano_contributors = get_contributors(theano_dataset)\n",
    "\n",
    "all_contributors = scikit_contributors.merge(keras_contributors, how = 'outer').merge(theano_contributors, how = 'outer')\n",
    "\n",
    "# Load the previously computed contributors and merge for the already known ones.\n",
    "if os.path.isfile('study-results/contributors.csv'):\n",
    "    computed_contributors = pd.read_csv('study-results/contributors.csv')\n",
    "    all_contributors = all_contributors.merge(computed_contributors, how = 'outer')\n",
    "else:\n",
    "    all_contributors['HAS_RESEARCHER_EMAIL'] = np.NaN\n",
    "    all_contributors['HAS_PUBLICATIONS'] = np.NaN\n",
    "    \n",
    "all_contributors.sample(5)"
   ]
  },
  {
   "cell_type": "markdown",
   "metadata": {},
   "source": [
    "### Approche exploitant les adresses mail\n",
    "\n",
    "Nous étudions le domaine des adresses mail dans le but de déterminer si chaque adresse appartient à un chercheur ou non.\n",
    "\n",
    "Nous procédons avec une liste blanche de domaines dont nous jugeons les utilisateurs être des chercheurs.\n",
    "\n",
    "La constitution de cette liste est fastidieuse car manuelle, mais nous n'avons pas vraiment le choix. La nature manuelle de ce travail implique aussi qu'elle est sensibles aux erreurs humaines..."
   ]
  },
  {
   "cell_type": "code",
   "execution_count": 4,
   "metadata": {},
   "outputs": [
    {
     "name": "stdout",
     "output_type": "stream",
     "text": [
      "The approach with the mail addresses concluded that 355 contributors (out of 2520 contributors) are researchers.\n"
     ]
    }
   ],
   "source": [
    "def address_domain(address):\n",
    "    split = address.split('@')\n",
    "    \n",
    "    if len(split) == 2:\n",
    "        return split[1]\n",
    "    else:\n",
    "        return address\n",
    "    \n",
    "researcher_domains = ['inria.fr', 'cnes.fr', 'normalesup.org', 'ensta.org', 'jnphilipp.org',\n",
    "                    'vene.ro', 'cern.ch', 'uva.nl', 'cea.fr', 'heig-vd.ch', 'wxs.ca', 'smerity.com',\n",
    "                    'nsup.org', 'esciencecenter.nl', 'centraliens.net', 'acm.org', 'fu-berlin.de', \n",
    "                    'fit.vutbr.cz', 'hec.ca', 'barvinograd.com', 'jakelee.net', 'maluuba.com',\n",
    "                    'nicta.com.au', 'poli.ufrj.br', 'barkalov.ru', 'allenai.org', 'usherbrooke.ca',\n",
    "                    'taehoonlee.com', 'bioinf.jku.at', 'nerdluecht.de', 'yosinski.com', 'tum.de',\n",
    "                    'enlnt.com', 'kottalam.net', 'jan-schlueter.de', 'iupr.com', 'uoguelph.ca',\n",
    "                    'marcodena.it', 'esimon.eu', 'stophr.be', 'jan-matthis.de', 'josephpcohen.com',\n",
    "                    'cwi.nl']\n",
    "researcher_domains_ends = ['edu', 'ens-cachan.fr', 'intra.cea.fr', 'ntnu.no', 'umontreal.ca', 'mcgill.ca', 'epita.fr']\n",
    "researcher_domains_contents = ['.ca.', 'research', '.ac.', '.uu.', 'edu', 'student', 'uni', 'etu']\n",
    "\n",
    "def is_researcher_address(domain):\n",
    "    for end in researcher_domains_ends:\n",
    "        if domain.endswith(end):\n",
    "            return True\n",
    "    \n",
    "    for content in researcher_domains_contents:\n",
    "        if content in domain:\n",
    "            return True\n",
    "        \n",
    "    return domain in researcher_domains\n",
    "\n",
    "all_contributors['HAS_RESEARCHER_EMAIL'] = all_contributors['AUTHOR_EMAIL'].apply(address_domain).apply(is_researcher_address)\n",
    "\n",
    "print('The approach with the mail addresses concluded that', len(all_contributors[all_contributors['HAS_RESEARCHER_EMAIL'] == True]), 'contributors (out of', len(all_contributors), 'contributors) are researchers.')"
   ]
  },
  {
   "cell_type": "markdown",
   "metadata": {},
   "source": [
    "### Approche avec un moteur de recherche d'articles scientifiques\n",
    "\n",
    "Nous cherchons le nom des contributeurs sur [Google Scholar](https://scholar.google.fr/). Il contient un très grand nombre de publications scientifiques sans limitation de domaine et dispose d'une API qui nous permet de l'interroger.\n",
    "\n",
    "Les autres moteurs de recherche que nous avons expérimenté n'étaient pas à jour (*arXiv.org*, ...), soit spécifiques à d'autres domaines (notamment le domaine médical), soit ne proposent pas d'API (*ResearchGate*, ...).\n",
    "\n",
    "Nous utilisons le module [scholarly](https://pypi.python.org/pypi/scholarly/0.2.3) qui pourvoie une API en Python pour consommer l'API de *Google Scholar*. Nous ne tenons compte que des contributeurs dont le nom est composé (au moins un prénom et un nom) et nous considérons qu'un contributeur est académique s'il existe un résultat à une requête d'auteur."
   ]
  },
  {
   "cell_type": "code",
   "execution_count": 5,
   "metadata": {},
   "outputs": [
    {
     "name": "stdout",
     "output_type": "stream",
     "text": [
      "There are 908 contributor(s) that are going to be fetched.\n"
     ]
    }
   ],
   "source": [
    "must_be_fetched = all_contributors['HAS_PUBLICATIONS'].isnull().value_counts()[True]\n",
    "\n",
    "print('There are', must_be_fetched, 'contributor(s) that are going to be fetched.')"
   ]
  },
  {
   "cell_type": "code",
   "execution_count": 6,
   "metadata": {},
   "outputs": [
    {
     "name": "stderr",
     "output_type": "stream",
     "text": [
      "100% (2520 of 2520) |#####################| Elapsed Time: 0:00:14 Time: 0:00:14\n"
     ]
    },
    {
     "name": "stdout",
     "output_type": "stream",
     "text": [
      "The approach with Google Scholar concluded that 1134 contributors (out of 2520 contributors) are not researchers.\n",
      "The approach with Google Scholar concluded that 479 contributors (out of 2520 contributors) are researchers.\n"
     ]
    }
   ],
   "source": [
    "with progressbar.ProgressBar(max_value = len(all_contributors)) as bar:\n",
    "    current = 0\n",
    "    is_captcha_activated = False\n",
    "    \n",
    "    def is_researcher_author(row):\n",
    "        global current\n",
    "        \n",
    "        try:\n",
    "            if math.isnan(row['HAS_PUBLICATIONS']):\n",
    "                row['HAS_PUBLICATIONS'] = is_researcher_author_by_name(row['AUTHOR_NAME'])\n",
    "            \n",
    "            return row   \n",
    "        finally:\n",
    "            bar.update(current)\n",
    "            current += 1\n",
    "            \n",
    "    def is_researcher_author_by_name(author_name):\n",
    "        global is_captcha_activated\n",
    "        \n",
    "        if is_captcha_activated:\n",
    "            return np.NaN\n",
    "        \n",
    "        if len(author_name.split()) < 2:\n",
    "            # It is more likely a nickname, so we cannot conclude.\n",
    "            return False\n",
    "        else:\n",
    "            try:\n",
    "                author = next(scholarly.search_author(author_name.title()), None)\n",
    "\n",
    "                return author != None\n",
    "            except Exception as exception:\n",
    "                is_captcha_activated = True\n",
    "                return np.NaN\n",
    "\n",
    "    all_contributors = all_contributors.apply(is_researcher_author, axis = 1)\n",
    "\n",
    "print('The approach with Google Scholar concluded that', len(all_contributors[all_contributors['HAS_PUBLICATIONS'] == False]), 'contributors (out of', len(all_contributors), 'contributors) are not researchers.')\n",
    "print('The approach with Google Scholar concluded that', len(all_contributors[all_contributors['HAS_PUBLICATIONS'] == True]), 'contributors (out of', len(all_contributors), 'contributors) are researchers.')"
   ]
  },
  {
   "cell_type": "code",
   "execution_count": 7,
   "metadata": {},
   "outputs": [
    {
     "data": {
      "text/html": [
       "<div>\n",
       "<style scoped>\n",
       "    .dataframe tbody tr th:only-of-type {\n",
       "        vertical-align: middle;\n",
       "    }\n",
       "\n",
       "    .dataframe tbody tr th {\n",
       "        vertical-align: top;\n",
       "    }\n",
       "\n",
       "    .dataframe thead th {\n",
       "        text-align: right;\n",
       "    }\n",
       "</style>\n",
       "<table border=\"1\" class=\"dataframe\">\n",
       "  <thead>\n",
       "    <tr style=\"text-align: right;\">\n",
       "      <th></th>\n",
       "      <th>AUTHOR_NAME</th>\n",
       "      <th>AUTHOR_EMAIL</th>\n",
       "      <th>HAS_RESEARCHER_EMAIL</th>\n",
       "      <th>HAS_PUBLICATIONS</th>\n",
       "    </tr>\n",
       "  </thead>\n",
       "  <tbody>\n",
       "    <tr>\n",
       "      <th>982</th>\n",
       "      <td>Mehul Ahuja</td>\n",
       "      <td>blackdragon0909@gmail.com</td>\n",
       "      <td>False</td>\n",
       "      <td>False</td>\n",
       "    </tr>\n",
       "    <tr>\n",
       "      <th>1363</th>\n",
       "      <td>mizdler</td>\n",
       "      <td>elahi2m@yahoo.com</td>\n",
       "      <td>False</td>\n",
       "      <td>False</td>\n",
       "    </tr>\n",
       "    <tr>\n",
       "      <th>2264</th>\n",
       "      <td>Anatoly Belikov</td>\n",
       "      <td>wormblood@gmail.com</td>\n",
       "      <td>False</td>\n",
       "      <td>NaN</td>\n",
       "    </tr>\n",
       "    <tr>\n",
       "      <th>741</th>\n",
       "      <td>Harizo Rajaona</td>\n",
       "      <td>harizo.rajaona@gmail.com</td>\n",
       "      <td>False</td>\n",
       "      <td>True</td>\n",
       "    </tr>\n",
       "    <tr>\n",
       "      <th>1410</th>\n",
       "      <td>Tom White</td>\n",
       "      <td>tom@sixdozen.com</td>\n",
       "      <td>False</td>\n",
       "      <td>NaN</td>\n",
       "    </tr>\n",
       "  </tbody>\n",
       "</table>\n",
       "</div>"
      ],
      "text/plain": [
       "          AUTHOR_NAME               AUTHOR_EMAIL  HAS_RESEARCHER_EMAIL  \\\n",
       "982       Mehul Ahuja  blackdragon0909@gmail.com                 False   \n",
       "1363          mizdler          elahi2m@yahoo.com                 False   \n",
       "2264  Anatoly Belikov        wormblood@gmail.com                 False   \n",
       "741    Harizo Rajaona   harizo.rajaona@gmail.com                 False   \n",
       "1410        Tom White           tom@sixdozen.com                 False   \n",
       "\n",
       "     HAS_PUBLICATIONS  \n",
       "982             False  \n",
       "1363            False  \n",
       "2264              NaN  \n",
       "741              True  \n",
       "1410              NaN  "
      ]
     },
     "execution_count": 7,
     "metadata": {},
     "output_type": "execute_result"
    }
   ],
   "source": [
    "all_contributors.sample(5)"
   ]
  },
  {
   "cell_type": "code",
   "execution_count": 8,
   "metadata": {},
   "outputs": [],
   "source": [
    "all_contributors.to_csv('study-results/contributors.csv', index = False)"
   ]
  },
  {
   "cell_type": "markdown",
   "metadata": {},
   "source": [
    "## Enrichissons les données\n",
    "\n",
    "Pour pouvoir répondre aux questions suivantes, il va nous falloir enrichir les sets de données que nous avons chargé.\n",
    "\n",
    "Nous allons ajouter les champs suivants :\n",
    "* **PROJECT** : le nom du projet (utile pour fusionner les sets de données pour comparaison).\n",
    "* **IS_RESEARCHER** : la contribution est-elle présumée venir d'un contributeur-chercheur ?"
   ]
  },
  {
   "cell_type": "code",
   "execution_count": 9,
   "metadata": {
    "collapsed": true
   },
   "outputs": [],
   "source": [
    "# Add PROJECT.\n",
    "scikit_dataset['PROJECT'] = 'Scikit-Learn'\n",
    "keras_dataset['PROJECT'] = 'Keras'\n",
    "theano_dataset['PROJECT'] = 'Theano'"
   ]
  },
  {
   "cell_type": "code",
   "execution_count": 10,
   "metadata": {
    "collapsed": true
   },
   "outputs": [],
   "source": [
    "def add_is_researcher(row):\n",
    "    name = row['AUTHOR_NAME']\n",
    "    email = row['AUTHOR_EMAIL']\n",
    "    \n",
    "    contributor = all_contributors[(all_contributors['AUTHOR_NAME'] == name) & (all_contributors['AUTHOR_EMAIL'] == email)].iloc[0]\n",
    "    \n",
    "    has_academic_email = contributor['HAS_RESEARCHER_EMAIL']\n",
    "    has_publications = contributor['HAS_PUBLICATIONS']\n",
    "    \n",
    "    if math.isnan(has_academic_email):\n",
    "        row['IS_RESEARCHER'] = has_publications\n",
    "    elif math.isnan(has_publications):\n",
    "        row['IS_RESEARCHER'] = has_academic_email\n",
    "    else:\n",
    "        row['IS_RESEARCHER'] = has_academic_email or has_publications\n",
    "    \n",
    "    return row\n",
    "\n",
    "# Add IS_ACADEMIC.\n",
    "scikit_dataset = scikit_dataset.apply(add_is_researcher, axis = 1)\n",
    "keras_dataset = keras_dataset.apply(add_is_researcher, axis = 1)\n",
    "theano_dataset = theano_dataset.apply(add_is_researcher, axis = 1)"
   ]
  },
  {
   "cell_type": "markdown",
   "metadata": {},
   "source": [
    "Nous créons un set de données collectant les données pour tous les projets étudiés."
   ]
  },
  {
   "cell_type": "code",
   "execution_count": 11,
   "metadata": {
    "collapsed": true
   },
   "outputs": [],
   "source": [
    "all_datasets = pd.concat([scikit_dataset, keras_dataset, theano_dataset])"
   ]
  },
  {
   "cell_type": "code",
   "execution_count": 12,
   "metadata": {},
   "outputs": [
    {
     "data": {
      "text/html": [
       "<div>\n",
       "<style scoped>\n",
       "    .dataframe tbody tr th:only-of-type {\n",
       "        vertical-align: middle;\n",
       "    }\n",
       "\n",
       "    .dataframe tbody tr th {\n",
       "        vertical-align: top;\n",
       "    }\n",
       "\n",
       "    .dataframe thead th {\n",
       "        text-align: right;\n",
       "    }\n",
       "</style>\n",
       "<table border=\"1\" class=\"dataframe\">\n",
       "  <thead>\n",
       "    <tr style=\"text-align: right;\">\n",
       "      <th></th>\n",
       "      <th>COMMIT_HASH</th>\n",
       "      <th>AUTHOR_NAME</th>\n",
       "      <th>AUTHOR_EMAIL</th>\n",
       "      <th>MODIFICATIONS_COUNT</th>\n",
       "      <th>TIMESTAMP</th>\n",
       "      <th>ADDED_LINES</th>\n",
       "      <th>DELETED_LINES</th>\n",
       "      <th>DELETED_FILES</th>\n",
       "      <th>PROJECT</th>\n",
       "      <th>IS_RESEARCHER</th>\n",
       "    </tr>\n",
       "  </thead>\n",
       "  <tbody>\n",
       "    <tr>\n",
       "      <th>15037</th>\n",
       "      <td>2312349b79e6cbe72ae8f5ed98d932c1051fef2d</td>\n",
       "      <td>Roy Xue</td>\n",
       "      <td>xljroy@gmail.com</td>\n",
       "      <td>1</td>\n",
       "      <td>1403585317000</td>\n",
       "      <td>67</td>\n",
       "      <td>77</td>\n",
       "      <td>0</td>\n",
       "      <td>Theano</td>\n",
       "      <td>False</td>\n",
       "    </tr>\n",
       "    <tr>\n",
       "      <th>4662</th>\n",
       "      <td>4391ac823fa4263656be62f1f756c6a0bfee24fb</td>\n",
       "      <td>Lars Buitinck</td>\n",
       "      <td>L.J.Buitinck@uva.nl</td>\n",
       "      <td>1</td>\n",
       "      <td>1309357150000</td>\n",
       "      <td>6</td>\n",
       "      <td>6</td>\n",
       "      <td>0</td>\n",
       "      <td>Scikit-Learn</td>\n",
       "      <td>True</td>\n",
       "    </tr>\n",
       "    <tr>\n",
       "      <th>20912</th>\n",
       "      <td>1ccf724390106049bd9abd346ad477e5ef2ba1a2</td>\n",
       "      <td>Frederic</td>\n",
       "      <td>nouiz@nouiz.org</td>\n",
       "      <td>3</td>\n",
       "      <td>1448288448000</td>\n",
       "      <td>47</td>\n",
       "      <td>45</td>\n",
       "      <td>0</td>\n",
       "      <td>Theano</td>\n",
       "      <td>False</td>\n",
       "    </tr>\n",
       "    <tr>\n",
       "      <th>22747</th>\n",
       "      <td>d45405183a2bb7edec52090659584e2f8e6b6052</td>\n",
       "      <td>Joel Nothman</td>\n",
       "      <td>joel.nothman@gmail.com</td>\n",
       "      <td>1</td>\n",
       "      <td>1481151919000</td>\n",
       "      <td>23</td>\n",
       "      <td>0</td>\n",
       "      <td>0</td>\n",
       "      <td>Scikit-Learn</td>\n",
       "      <td>True</td>\n",
       "    </tr>\n",
       "    <tr>\n",
       "      <th>9295</th>\n",
       "      <td>a44767b10f42b822f839495160323f75bbb806a3</td>\n",
       "      <td>Pascal Lamblin</td>\n",
       "      <td>lamblinp@iro.umontreal.ca</td>\n",
       "      <td>1</td>\n",
       "      <td>1334681997000</td>\n",
       "      <td>1</td>\n",
       "      <td>1</td>\n",
       "      <td>0</td>\n",
       "      <td>Theano</td>\n",
       "      <td>True</td>\n",
       "    </tr>\n",
       "  </tbody>\n",
       "</table>\n",
       "</div>"
      ],
      "text/plain": [
       "                                    COMMIT_HASH     AUTHOR_NAME  \\\n",
       "15037  2312349b79e6cbe72ae8f5ed98d932c1051fef2d         Roy Xue   \n",
       "4662   4391ac823fa4263656be62f1f756c6a0bfee24fb   Lars Buitinck   \n",
       "20912  1ccf724390106049bd9abd346ad477e5ef2ba1a2        Frederic   \n",
       "22747  d45405183a2bb7edec52090659584e2f8e6b6052    Joel Nothman   \n",
       "9295   a44767b10f42b822f839495160323f75bbb806a3  Pascal Lamblin   \n",
       "\n",
       "                    AUTHOR_EMAIL  MODIFICATIONS_COUNT      TIMESTAMP  \\\n",
       "15037           xljroy@gmail.com                    1  1403585317000   \n",
       "4662         L.J.Buitinck@uva.nl                    1  1309357150000   \n",
       "20912            nouiz@nouiz.org                    3  1448288448000   \n",
       "22747     joel.nothman@gmail.com                    1  1481151919000   \n",
       "9295   lamblinp@iro.umontreal.ca                    1  1334681997000   \n",
       "\n",
       "       ADDED_LINES  DELETED_LINES  DELETED_FILES       PROJECT  IS_RESEARCHER  \n",
       "15037           67             77              0        Theano          False  \n",
       "4662             6              6              0  Scikit-Learn           True  \n",
       "20912           47             45              0        Theano          False  \n",
       "22747           23              0              0  Scikit-Learn           True  \n",
       "9295             1              1              0        Theano           True  "
      ]
     },
     "execution_count": 12,
     "metadata": {},
     "output_type": "execute_result"
    }
   ],
   "source": [
    "# For example, let us take a look to the Scikit-Learn dataset after the change.\n",
    "all_datasets.sample(5)"
   ]
  },
  {
   "cell_type": "markdown",
   "metadata": {},
   "source": [
    "## Les contributeurs académiques sont-ils majoritaires ?"
   ]
  },
  {
   "cell_type": "code",
   "execution_count": 13,
   "metadata": {},
   "outputs": [
    {
     "data": {
      "image/png": "[encoded data removed]",
      "text/plain": [
       "<matplotlib.figure.Figure at 0x7fd7d57a14a8>"
      ]
     },
     "metadata": {},
     "output_type": "display_data"
    }
   ],
   "source": [
    "sns.countplot('IS_RESEARCHER', hue = 'PROJECT', data = all_datasets.drop_duplicates(['PROJECT', 'AUTHOR_NAME']))\n",
    "\n",
    "plt.title('Number of researchers contributors per project')\n",
    "plt.xlabel('Is the contributor a researcher?')\n",
    "plt.ylabel('Number of contributors');"
   ]
  },
  {
   "cell_type": "code",
   "execution_count": 14,
   "metadata": {},
   "outputs": [
    {
     "name": "stdout",
     "output_type": "stream",
     "text": [
      "Participation (in # of contributors) for project 'Scikit', there has been:\n",
      " -     Researcher contributors: 38.97%\n",
      " - Non researcher contributors: 61.03%\n",
      " -            Unknown category: 0.00%\n",
      "\n",
      "Participation (in # of contributors) for project 'Keras', there has been:\n",
      " -     Researcher contributors: 11.65%\n",
      " - Non researcher contributors: 88.35%\n",
      " -            Unknown category: 0.00%\n",
      "\n",
      "Participation (in # of contributors) for project 'Theano', there has been:\n",
      " -     Researcher contributors: 22.90%\n",
      " - Non researcher contributors: 77.10%\n",
      " -            Unknown category: 0.00%\n"
     ]
    }
   ],
   "source": [
    "def researcher_contributors(project_name, project_dataset):\n",
    "    without_duplicates = project_dataset.drop_duplicates(['AUTHOR_NAME'])\n",
    "    percents = 100 * without_duplicates.groupby(['IS_RESEARCHER'])['COMMIT_HASH'].count() / len(without_duplicates)\n",
    "    \n",
    "    researcher_contributors = '%.2f' % percents[True]\n",
    "    non_researcher_contributors = '%.2f' % percents[False]\n",
    "    unknown = '%.2f' % (100 - percents[True] - percents[False])\n",
    "    \n",
    "    print('Participation (in # of contributors) for project \\'' + project_name + '\\', there has been:')\n",
    "    print(' -     Researcher contributors:', researcher_contributors + '%')\n",
    "    print(' - Non researcher contributors:', non_researcher_contributors + '%')\n",
    "    print(' -            Unknown category:', unknown + '%')\n",
    "\n",
    "researcher_contributors('Scikit', scikit_dataset)\n",
    "print()\n",
    "researcher_contributors('Keras', keras_dataset)\n",
    "print()\n",
    "researcher_contributors('Theano', theano_dataset)"
   ]
  },
  {
   "cell_type": "markdown",
   "metadata": {},
   "source": [
    "## Les contributions viennent-elles majoritairement de contributeurs académiques ?"
   ]
  },
  {
   "cell_type": "markdown",
   "metadata": {},
   "source": [
    "### En nombre de *commits*"
   ]
  },
  {
   "cell_type": "code",
   "execution_count": 15,
   "metadata": {},
   "outputs": [
    {
     "data": {
      "image/png": "[encoded data removed]",
      "text/plain": [
       "<matplotlib.figure.Figure at 0x7fd7d4c2aba8>"
      ]
     },
     "metadata": {},
     "output_type": "display_data"
    }
   ],
   "source": [
    "sns.countplot('IS_RESEARCHER', hue = 'PROJECT', data = all_datasets)\n",
    "\n",
    "plt.title('Number of researcher contributions per project')\n",
    "plt.xlabel('Is the contribution from a researcher?')\n",
    "plt.ylabel('Number of contributions');"
   ]
  },
  {
   "cell_type": "code",
   "execution_count": 16,
   "metadata": {},
   "outputs": [
    {
     "name": "stdout",
     "output_type": "stream",
     "text": [
      "Participation (in # of commits) for project 'Scikit', there has been:\n",
      " -     Researcher contributors: 75.08%\n",
      " - Non researcher contributors: 24.92%\n",
      " -            Unknown category: -0.00%\n",
      "\n",
      "Participation (in # of commits) for project 'Keras', there has been:\n",
      " -     Researcher contributors: 6.07%\n",
      " - Non researcher contributors: 93.93%\n",
      " -            Unknown category: 0.00%\n",
      "\n",
      "Participation (in # of commits) for project 'Theano', there has been:\n",
      " -     Researcher contributors: 26.55%\n",
      " - Non researcher contributors: 73.45%\n",
      " -            Unknown category: 0.00%\n"
     ]
    }
   ],
   "source": [
    "def researcher_commits_contributions(project_name, project_dataset):\n",
    "    percents = 100 * project_dataset.groupby(['IS_RESEARCHER']).size() / len(project_dataset)\n",
    "    \n",
    "    researcher_contribution = '%.2f' % percents[True]\n",
    "    non_researcher_contribution = '%.2f' % percents[False]\n",
    "    unknown = '%.2f' % (100 - percents[True] - percents[False])\n",
    "    \n",
    "    print('Participation (in # of commits) for project \\'' + project_name + '\\', there has been:')\n",
    "    print(' -     Researcher contributors:', researcher_contribution + '%')\n",
    "    print(' - Non researcher contributors:', non_researcher_contribution + '%')\n",
    "    print(' -            Unknown category:', unknown + '%')\n",
    "\n",
    "researcher_commits_contributions('Scikit', scikit_dataset)\n",
    "print()\n",
    "researcher_commits_contributions('Keras', keras_dataset)\n",
    "print()\n",
    "researcher_commits_contributions('Theano', theano_dataset)"
   ]
  },
  {
   "cell_type": "markdown",
   "metadata": {},
   "source": [
    "### En nombre de lignes ajoutées/retirées"
   ]
  },
  {
   "cell_type": "code",
   "execution_count": 17,
   "metadata": {
    "scrolled": false
   },
   "outputs": [
    {
     "name": "stdout",
     "output_type": "stream",
     "text": [
      "Participation (in # of ADDED_LINES) for project 'Scikit', there has been:\n",
      " -     Researcher contributors: 81.24%\n",
      " - Non researcher contributors: 18.76%\n",
      " -            Unknown category: 0.00%\n",
      "\n",
      "Participation (in # of ADDED_LINES) for project 'Keras', there has been:\n",
      " -     Researcher contributors: 3.82%\n",
      " - Non researcher contributors: 96.18%\n",
      " -            Unknown category: 0.00%\n",
      "\n",
      "Participation (in # of ADDED_LINES) for project 'Theano', there has been:\n",
      " -     Researcher contributors: 39.13%\n",
      " - Non researcher contributors: 60.87%\n",
      " -            Unknown category: 0.00%\n",
      "\n",
      "\n",
      "Participation (in # of DELETED_LINES) for project 'Scikit', there has been:\n",
      " -     Researcher contributors: 78.45%\n",
      " - Non researcher contributors: 21.55%\n",
      " -            Unknown category: -0.00%\n",
      "\n",
      "Participation (in # of DELETED_LINES) for project 'Keras', there has been:\n",
      " -     Researcher contributors: 4.04%\n",
      " - Non researcher contributors: 95.96%\n",
      " -            Unknown category: 0.00%\n",
      "\n",
      "Participation (in # of DELETED_LINES) for project 'Theano', there has been:\n",
      " -     Researcher contributors: 36.20%\n",
      " - Non researcher contributors: 63.80%\n",
      " -            Unknown category: 0.00%\n"
     ]
    }
   ],
   "source": [
    "def researcher_lines_contributions(project_name, project_dataset, field):\n",
    "    percents = 100 * project_dataset.groupby(['IS_RESEARCHER'])[field].sum() / project_dataset[field].sum()\n",
    "    \n",
    "    researcher_contribution = '%.2f' % percents[True]\n",
    "    non_researcher_contribution = '%.2f' % percents[False]\n",
    "    unknown = '%.2f' % (100 - percents[True] - percents[False])\n",
    "    \n",
    "    print('Participation (in # of ' + field + ') for project \\'' + project_name + '\\', there has been:')\n",
    "    print(' -     Researcher contributors:', researcher_contribution + '%')\n",
    "    print(' - Non researcher contributors:', non_researcher_contribution + '%')\n",
    "    print(' -            Unknown category:', unknown + '%')\n",
    "\n",
    "def researcher_added_lines_contributions(project_name, project_dataset):\n",
    "    researcher_lines_contributions(project_name, project_dataset, 'ADDED_LINES')\n",
    "    \n",
    "def researcher_deleted_lines_contributions(project_name, project_dataset):\n",
    "    researcher_lines_contributions(project_name, project_dataset, 'DELETED_LINES')\n",
    "    \n",
    "researcher_added_lines_contributions('Scikit', scikit_dataset)\n",
    "print()\n",
    "researcher_added_lines_contributions('Keras', keras_dataset)\n",
    "print()\n",
    "researcher_added_lines_contributions('Theano', theano_dataset)\n",
    "\n",
    "print()\n",
    "print()\n",
    "\n",
    "researcher_deleted_lines_contributions('Scikit', scikit_dataset)\n",
    "print()\n",
    "researcher_deleted_lines_contributions('Keras', keras_dataset)\n",
    "print()\n",
    "researcher_deleted_lines_contributions('Theano', theano_dataset)"
   ]
  },
  {
   "cell_type": "markdown",
   "metadata": {},
   "source": [
    "## Les contributeurs académiques sont-ils les contributeurs qui contribuent le plus  individuellement ?"
   ]
  },
  {
   "cell_type": "markdown",
   "metadata": {},
   "source": [
    "### En nombre de *commits* par contributeur"
   ]
  },
  {
   "cell_type": "code",
   "execution_count": 18,
   "metadata": {
    "collapsed": true
   },
   "outputs": [],
   "source": [
    "# TODO"
   ]
  },
  {
   "cell_type": "markdown",
   "metadata": {
    "collapsed": true
   },
   "source": [
    "### En nombre de fichiers modifiés par *commit*"
   ]
  },
  {
   "cell_type": "code",
   "execution_count": 19,
   "metadata": {},
   "outputs": [
    {
     "data": {
      "image/png": "[encoded data removed]",
      "text/plain": [
       "<matplotlib.figure.Figure at 0x7fd7f3093dd8>"
      ]
     },
     "metadata": {},
     "output_type": "display_data"
    }
   ],
   "source": [
    "sns.barplot(x = 'IS_RESEARCHER', y = 'MODIFICATIONS_COUNT', hue = 'PROJECT', data = all_datasets)\n",
    "\n",
    "plt.title('Modified files depending on the contributor type')\n",
    "plt.xlabel('Is the contribution from a researcher?')\n",
    "plt.ylabel('Number of modified file in the contribution');"
   ]
  },
  {
   "cell_type": "code",
   "execution_count": 20,
   "metadata": {
    "scrolled": true
   },
   "outputs": [
    {
     "data": {
      "image/png": "[encoded data removed]",
      "text/plain": [
       "<matplotlib.figure.Figure at 0x7fd7d6a4ba58>"
      ]
     },
     "metadata": {},
     "output_type": "display_data"
    }
   ],
   "source": [
    "sns.barplot(x = 'IS_RESEARCHER', y = 'DELETED_FILES', hue = 'PROJECT', data = all_datasets)\n",
    "\n",
    "plt.title('Deleted files depending on the contributor type')\n",
    "plt.xlabel('Is the contribution from a researcher?')\n",
    "plt.ylabel('Number of deleted file in the contribution');"
   ]
  },
  {
   "cell_type": "markdown",
   "metadata": {},
   "source": [
    "### En nombre de lignes ajoutées/retirées par *commit*"
   ]
  },
  {
   "cell_type": "code",
   "execution_count": 21,
   "metadata": {
    "scrolled": true
   },
   "outputs": [
    {
     "data": {
      "image/png": "[encoded data removed]",
      "text/plain": [
       "<matplotlib.figure.Figure at 0x7fd7d568c828>"
      ]
     },
     "metadata": {},
     "output_type": "display_data"
    }
   ],
   "source": [
    "sns.barplot(x = 'IS_RESEARCHER', y = 'ADDED_LINES', hue = 'PROJECT', data = all_datasets)\n",
    "\n",
    "plt.title('Added lines depending on the contributor type')\n",
    "plt.xlabel('Is the contribution from a researcher?')\n",
    "plt.ylabel('Number of added lines in the contribution');"
   ]
  },
  {
   "cell_type": "code",
   "execution_count": 22,
   "metadata": {},
   "outputs": [
    {
     "data": {
      "image/png": "[encoded data removed]",
      "text/plain": [
       "<matplotlib.figure.Figure at 0x7fd7d72b67f0>"
      ]
     },
     "metadata": {},
     "output_type": "display_data"
    }
   ],
   "source": [
    "sns.barplot(x = 'IS_RESEARCHER', y = 'DELETED_LINES', hue = 'PROJECT', data = all_datasets)\n",
    "\n",
    "plt.title('Deleted lines depending on the contributor type')\n",
    "plt.xlabel('Is the contribution from a researcher?')\n",
    "plt.ylabel('Number of deleted lines in the contribution');"
   ]
  }
 ],
 "metadata": {
  "kernelspec": {
   "display_name": "Python 3",
   "language": "python",
   "name": "python3"
  },
  "language_info": {
   "codemirror_mode": {
    "name": "ipython",
    "version": 3
   },
   "file_extension": ".py",
   "mimetype": "text/x-python",
   "name": "python",
   "nbconvert_exporter": "python",
   "pygments_lexer": "ipython3",
   "version": "3.6.4"
  }
 },
 "nbformat": 4,
 "nbformat_minor": 2
}
