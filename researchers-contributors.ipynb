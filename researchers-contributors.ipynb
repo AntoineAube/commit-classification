{
 "cells": [
  {
   "cell_type": "markdown",
   "metadata": {},
   "source": [
    "# Présence du monde de la recherche dans les projets Open Source de Machine Learning : ces projets sont-ils faits par des chercheurs ?\n",
    "\n",
    "Dans le cadre de notre étude, nous nous interrogeons sur la participation du monde de la recherche au sein des projets Open Source de Machine Learning.\n",
    "\n",
    "Nos hypothèses sur la question sont les suivantes :\n",
    "* Les contributeurs ne sont pas majoritairement des chercheurs.\n",
    "* Les contributions viennent majoritairement de contributeurs-chercheurs (en nombre de *commits* et en nombre de lignes).\n",
    "* Les contributeurs-chercheurs sont les contributeurs qui contribuent le plus individuellement (en nombre de *commits* et en nombre de lignes).\n",
    "* La majorité des *commits* ajoutant des fonctionnalités proviennent de contributeurs-chercheurs.\n",
    "\n",
    "Les hypothèses de travail que nous posons concernent la bonne foi des contributeurs dans les informations de *commit*. En particulier :\n",
    "* Le nom/prénom est celui de l'auteur.\n",
    "* L'adresse mail appartient à l'auteur.\n",
    "\n",
    "Pour étudier ces hypothèses et tenter de les réfuter, nous allons nous pencher sur les contributions de trois projets :\n",
    "* [Scikit-Learn](http://scikit-learn.org/stable/) ([dépôt GitHub](https://github.com/scikit-learn/scikit-learn)).\n",
    "* [Keras](https://keras.io/) ([dépôt GitHub](https://github.com/keras-team/keras)).\n",
    "* [Theano](http://deeplearning.net/software/theano/) ([dépôt GitHub](https://github.com/Theano/Theano)).\n",
    "\n",
    "Les données que nous allons exploiter dans ce document sont issues d'une extraction depuis leur dépôt Git respectif grâce à Repodriller. L'étude est reproductible avec le code disponible sur [notre dépôt GitHub](https://github.com/AntoineAube/reace-study)."
   ]
  },
  {
   "cell_type": "code",
   "execution_count": 1,
   "metadata": {
    "collapsed": true
   },
   "outputs": [],
   "source": [
    "# Let us import some awesome libraries!\n",
    "import pandas as pd\n",
    "import seaborn as sns\n",
    "import matplotlib.pyplot as plt\n",
    "import numpy as np\n",
    "import math\n",
    "\n",
    "%matplotlib inline\n",
    "\n",
    "# Just a bit of style. ;)\n",
    "sns.set_palette(sns.color_palette('hls', 8))"
   ]
  },
  {
   "cell_type": "code",
   "execution_count": 2,
   "metadata": {},
   "outputs": [
    {
     "data": {
      "text/html": [
       "<div>\n",
       "<style scoped>\n",
       "    .dataframe tbody tr th:only-of-type {\n",
       "        vertical-align: middle;\n",
       "    }\n",
       "\n",
       "    .dataframe tbody tr th {\n",
       "        vertical-align: top;\n",
       "    }\n",
       "\n",
       "    .dataframe thead th {\n",
       "        text-align: right;\n",
       "    }\n",
       "</style>\n",
       "<table border=\"1\" class=\"dataframe\">\n",
       "  <thead>\n",
       "    <tr style=\"text-align: right;\">\n",
       "      <th></th>\n",
       "      <th>COMMIT_HASH</th>\n",
       "      <th>AUTHOR_NAME</th>\n",
       "      <th>AUTHOR_EMAIL</th>\n",
       "      <th>MODIFICATIONS_COUNT</th>\n",
       "      <th>TIMESTAMP</th>\n",
       "      <th>ADDED_LINES</th>\n",
       "      <th>DELETED_LINES</th>\n",
       "      <th>DELETED_FILES</th>\n",
       "      <th>PROJECT</th>\n",
       "    </tr>\n",
       "  </thead>\n",
       "  <tbody>\n",
       "    <tr>\n",
       "      <th>18007</th>\n",
       "      <td>66172bbb5b0bfb6e6eaa2ec52438b2e5ff2ccb85</td>\n",
       "      <td>Yaroslav Halchenko</td>\n",
       "      <td>debian@onerussian.com</td>\n",
       "      <td>127</td>\n",
       "      <td>1410048507000</td>\n",
       "      <td>1509</td>\n",
       "      <td>981</td>\n",
       "      <td>0</td>\n",
       "      <td>Scikit-Learn</td>\n",
       "    </tr>\n",
       "    <tr>\n",
       "      <th>19438</th>\n",
       "      <td>a19b1fce4fe6de51c8f0d97cf9a95e0d63fab8ff</td>\n",
       "      <td>Olivier Grisel</td>\n",
       "      <td>olivier.grisel@ensta.org</td>\n",
       "      <td>1</td>\n",
       "      <td>1428449505000</td>\n",
       "      <td>37</td>\n",
       "      <td>2</td>\n",
       "      <td>0</td>\n",
       "      <td>Scikit-Learn</td>\n",
       "    </tr>\n",
       "    <tr>\n",
       "      <th>20774</th>\n",
       "      <td>eea5ba3d7f801a9c65efb648bb5c0b03ed45571a</td>\n",
       "      <td>hlin117</td>\n",
       "      <td>hlin117@gmail.com</td>\n",
       "      <td>1</td>\n",
       "      <td>1445282490000</td>\n",
       "      <td>1</td>\n",
       "      <td>1</td>\n",
       "      <td>0</td>\n",
       "      <td>Scikit-Learn</td>\n",
       "    </tr>\n",
       "    <tr>\n",
       "      <th>13177</th>\n",
       "      <td>9a64bc19336a22efad5330a061b1dccb4e253bf0</td>\n",
       "      <td>Lars Buitinck</td>\n",
       "      <td>larsmans@gmail.com</td>\n",
       "      <td>45</td>\n",
       "      <td>1369083066000</td>\n",
       "      <td>0</td>\n",
       "      <td>0</td>\n",
       "      <td>0</td>\n",
       "      <td>Scikit-Learn</td>\n",
       "    </tr>\n",
       "    <tr>\n",
       "      <th>11659</th>\n",
       "      <td>72429084df9fa107264aa8c679b3041ef174e77c</td>\n",
       "      <td>Gilles Louppe</td>\n",
       "      <td>g.louppe@gmail.com</td>\n",
       "      <td>1</td>\n",
       "      <td>1355299162000</td>\n",
       "      <td>7</td>\n",
       "      <td>4</td>\n",
       "      <td>0</td>\n",
       "      <td>Scikit-Learn</td>\n",
       "    </tr>\n",
       "  </tbody>\n",
       "</table>\n",
       "</div>"
      ],
      "text/plain": [
       "                                    COMMIT_HASH         AUTHOR_NAME  \\\n",
       "18007  66172bbb5b0bfb6e6eaa2ec52438b2e5ff2ccb85  Yaroslav Halchenko   \n",
       "19438  a19b1fce4fe6de51c8f0d97cf9a95e0d63fab8ff      Olivier Grisel   \n",
       "20774  eea5ba3d7f801a9c65efb648bb5c0b03ed45571a             hlin117   \n",
       "13177  9a64bc19336a22efad5330a061b1dccb4e253bf0       Lars Buitinck   \n",
       "11659  72429084df9fa107264aa8c679b3041ef174e77c       Gilles Louppe   \n",
       "\n",
       "                   AUTHOR_EMAIL  MODIFICATIONS_COUNT      TIMESTAMP  \\\n",
       "18007     debian@onerussian.com                  127  1410048507000   \n",
       "19438  olivier.grisel@ensta.org                    1  1428449505000   \n",
       "20774         hlin117@gmail.com                    1  1445282490000   \n",
       "13177        larsmans@gmail.com                   45  1369083066000   \n",
       "11659        g.louppe@gmail.com                    1  1355299162000   \n",
       "\n",
       "       ADDED_LINES  DELETED_LINES  DELETED_FILES       PROJECT  \n",
       "18007         1509            981              0  Scikit-Learn  \n",
       "19438           37              2              0  Scikit-Learn  \n",
       "20774            1              1              0  Scikit-Learn  \n",
       "13177            0              0              0  Scikit-Learn  \n",
       "11659            7              4              0  Scikit-Learn  "
      ]
     },
     "execution_count": 2,
     "metadata": {},
     "output_type": "execute_result"
    }
   ],
   "source": [
    "# Let us load the datasets.\n",
    "scikit_commits = pd.read_csv('study-results/scikit-learn/exploration.csv')\n",
    "keras_commits = pd.read_csv('study-results/keras/exploration.csv')\n",
    "theano_commits = pd.read_csv('study-results/theano/exploration.csv')\n",
    "\n",
    "# Add PROJECT.\n",
    "scikit_commits['PROJECT'] = 'Scikit-Learn'\n",
    "keras_commits['PROJECT'] = 'Keras'\n",
    "theano_commits['PROJECT'] = 'Theano'\n",
    "\n",
    "# For example, let us take a look to the Scikit-Learn dataset.\n",
    "scikit_commits.sample(5)"
   ]
  },
  {
   "cell_type": "markdown",
   "metadata": {},
   "source": [
    "## Quels sont les contributeurs-chercheurs ?\n",
    "\n",
    "Nous considérons que les contributeurs \"chercheurs\" sont les contributeurs qui écrivent des articles scientifiques et dont la profession est de faire progresser la recherche, sans discrimination entre les chercheurs académiques et les chercheurs de l'industrie.\n",
    "\n",
    "Pour répondre à cette question, nous avons pensé à deux approches pour classifier les contributeurs selon qu'ils sont chercheurs ou pas, et les avons mises en oeuvre :\n",
    "* Utiliser le domaine de leur adresse mail : si le domaine de l'adresse appartient à une université ou bien spécifiquement à un chercheur, alors nous considérons que le contributeur est un chercheur. Si le domaine n'est pas celui d'un chercheur, on ne peut rien déduire.\n",
    "* Chercher l'existence de l'auteur dans un moteur de recherche d'articles scientifiques : s'il contient le profil du contributeur, alors il est considéré chercheur. Si la recherche aboutit à aucun résultat, alors le contributeur n'est pas chercheur.\n",
    "\n",
    "Nous nous attendons à une sélection plus dure avec la seconde approche (tout moteur de recherche ne recense pas tous les articles, ...) mais également plus rigoureuse (généralement, un contributeur non-chercheur ne publie pas d'article scientifique). La première approche est très peu précise (on ne peut rien déduire d'un domaine générique comme *gmail.com* donc il y aura inévitablement des faux négatifs).\n",
    "\n",
    "Le programme qui calcule chaque heuristique est situé dans le dépôt (*sum-up-contributors.py*).\n",
    "\n",
    "### Approche exploitant les adresses mail\n",
    "\n",
    "Nous étudions le domaine des adresses mail dans le but de déterminer si chaque adresse appartient à un chercheur ou non.\n",
    "\n",
    "Nous procédons avec une liste blanche de domaines dont nous jugeons les utilisateurs être des chercheurs.\n",
    "\n",
    "La constitution de cette liste est fastidieuse car manuelle, mais nous n'avons pas vraiment le choix. La nature manuelle de ce travail implique aussi qu'elle est sensibles aux erreurs humaines...\n",
    "\n",
    "### Approche avec un moteur de recherche d'articles scientifiques\n",
    "\n",
    "Nous cherchons le nom des contributeurs sur [Google Scholar](https://scholar.google.fr/). Il contient un très grand nombre de publications scientifiques sans limitation de domaine et dispose d'une API qui nous permet de l'interroger.\n",
    "\n",
    "Les autres moteurs de recherche que nous avons expérimenté n'étaient pas à jour (*arXiv.org*, ...), soit spécifiques à d'autres domaines (notamment le domaine médical), soit ne proposent pas d'API (*ResearchGate*, ...).\n",
    "\n",
    "Nous utilisons le module [scholarly](https://pypi.python.org/pypi/scholarly/0.2.3) qui pourvoie une API en Python pour consommer l'API de *Google Scholar*. Nous ne tenons compte que des contributeurs dont le nom est composé (au moins un prénom et un nom) et nous considérons qu'un contributeur est académique s'il existe un résultat à une requête d'auteur."
   ]
  },
  {
   "cell_type": "code",
   "execution_count": 3,
   "metadata": {},
   "outputs": [],
   "source": [
    "contributors_status = pd.read_csv('study-results/contributors-status.csv')"
   ]
  },
  {
   "cell_type": "code",
   "execution_count": 4,
   "metadata": {},
   "outputs": [
    {
     "data": {
      "text/html": [
       "<div>\n",
       "<style scoped>\n",
       "    .dataframe tbody tr th:only-of-type {\n",
       "        vertical-align: middle;\n",
       "    }\n",
       "\n",
       "    .dataframe tbody tr th {\n",
       "        vertical-align: top;\n",
       "    }\n",
       "\n",
       "    .dataframe thead th {\n",
       "        text-align: right;\n",
       "    }\n",
       "</style>\n",
       "<table border=\"1\" class=\"dataframe\">\n",
       "  <thead>\n",
       "    <tr style=\"text-align: right;\">\n",
       "      <th></th>\n",
       "      <th>HAS_RESEARCHER_EMAIL</th>\n",
       "      <th>HAS_PUBLICATION</th>\n",
       "      <th>IS_RESEARCHER</th>\n",
       "    </tr>\n",
       "    <tr>\n",
       "      <th>NAME</th>\n",
       "      <th></th>\n",
       "      <th></th>\n",
       "      <th></th>\n",
       "    </tr>\n",
       "  </thead>\n",
       "  <tbody>\n",
       "    <tr>\n",
       "      <th>Ondřej Filip</th>\n",
       "      <td>False</td>\n",
       "      <td>False</td>\n",
       "      <td>False</td>\n",
       "    </tr>\n",
       "    <tr>\n",
       "      <th>Rafael Carrascosa</th>\n",
       "      <td>False</td>\n",
       "      <td>False</td>\n",
       "      <td>False</td>\n",
       "    </tr>\n",
       "    <tr>\n",
       "      <th>tpsatish95</th>\n",
       "      <td>False</td>\n",
       "      <td>False</td>\n",
       "      <td>False</td>\n",
       "    </tr>\n",
       "    <tr>\n",
       "      <th>Pradeep Dasigi</th>\n",
       "      <td>False</td>\n",
       "      <td>True</td>\n",
       "      <td>True</td>\n",
       "    </tr>\n",
       "    <tr>\n",
       "      <th>Jim Holmström</th>\n",
       "      <td>False</td>\n",
       "      <td>False</td>\n",
       "      <td>False</td>\n",
       "    </tr>\n",
       "  </tbody>\n",
       "</table>\n",
       "</div>"
      ],
      "text/plain": [
       "                   HAS_RESEARCHER_EMAIL HAS_PUBLICATION  IS_RESEARCHER\n",
       "NAME                                                                  \n",
       "Ondřej Filip                      False           False          False\n",
       "Rafael Carrascosa                 False           False          False\n",
       "tpsatish95                        False           False          False\n",
       "Pradeep Dasigi                    False            True           True\n",
       "Jim Holmström                     False           False          False"
      ]
     },
     "execution_count": 4,
     "metadata": {},
     "output_type": "execute_result"
    }
   ],
   "source": [
    "def decide_if_researcher(row):\n",
    "    if math.isnan(row['HAS_RESEARCHER_EMAIL']):\n",
    "        row['IS_RESEARCHER'] = row['HAS_PUBLICATION']\n",
    "    elif math.isnan(row['HAS_PUBLICATION']):\n",
    "        row['IS_RESEARCHER'] = row['HAS_RESEARCHER_EMAIL']\n",
    "    else:\n",
    "        row['IS_RESEARCHER'] = row['HAS_PUBLICATION'] or row['HAS_RESEARCHER_EMAIL']\n",
    "        \n",
    "    return row\n",
    "\n",
    "contributors_status = contributors_status.apply(decide_if_researcher, axis = 1)\n",
    "\n",
    "contributors_status.set_index('NAME', inplace = True)\n",
    "\n",
    "contributors_status.sample(5)"
   ]
  },
  {
   "cell_type": "code",
   "execution_count": 5,
   "metadata": {},
   "outputs": [],
   "source": [
    "def decide_if_commit_made_by_researcher(row):\n",
    "    global contributors_status\n",
    "    \n",
    "    row['IS_RESEARCHER'] = contributors_status['IS_RESEARCHER'][row['AUTHOR_NAME']]\n",
    "    \n",
    "    return row\n",
    "\n",
    "scikit_commits = scikit_commits.apply(decide_if_commit_made_by_researcher, axis = 1)\n",
    "keras_commits = keras_commits.apply(decide_if_commit_made_by_researcher, axis = 1)\n",
    "theano_commits = theano_commits.apply(decide_if_commit_made_by_researcher, axis = 1)\n",
    "\n",
    "all_commits = pd.concat([scikit_commits, keras_commits, theano_commits])\n",
    "\n",
    "all_commits.sample(5)"
   ]
  },
  {
   "cell_type": "markdown",
   "metadata": {},
   "source": [
    "## Les contributeurs académiques sont-ils majoritaires ?"
   ]
  },
  {
   "cell_type": "code",
   "execution_count": 9,
   "metadata": {},
   "outputs": [
    {
     "data": {
      "image/png": "[encoded data removed]",
      "text/plain": [
       "<matplotlib.figure.Figure at 0x7f905443bc88>"
      ]
     },
     "metadata": {},
     "output_type": "display_data"
    }
   ],
   "source": [
    "sns.countplot('IS_RESEARCHER', hue = 'PROJECT', data = all_commits.drop_duplicates(['PROJECT', 'AUTHOR_NAME']))\n",
    "\n",
    "plt.title('Number of researchers contributors per project')\n",
    "plt.xlabel('Is the contributor a researcher?')\n",
    "plt.ylabel('Number of contributors');"
   ]
  },
  {
   "cell_type": "code",
   "execution_count": 10,
   "metadata": {},
   "outputs": [
    {
     "name": "stdout",
     "output_type": "stream",
     "text": [
      "Participation (in # of contributors) for project 'Scikit', there has been:\n",
      " -     Researcher contributors: 43.78%\n",
      " - Non researcher contributors: 56.22%\n",
      " -            Unknown category: 0.00%\n",
      "\n",
      "Participation (in # of contributors) for project 'Keras', there has been:\n",
      " -     Researcher contributors: 30.71%\n",
      " - Non researcher contributors: 69.29%\n",
      " -            Unknown category: 0.00%\n",
      "\n",
      "Participation (in # of contributors) for project 'Theano', there has been:\n",
      " -     Researcher contributors: 27.52%\n",
      " - Non researcher contributors: 72.48%\n",
      " -            Unknown category: 0.00%\n"
     ]
    }
   ],
   "source": [
    "def researcher_contributors(project_name, project_dataset):\n",
    "    without_duplicates = project_dataset.drop_duplicates(['AUTHOR_NAME'])\n",
    "    percents = 100 * without_duplicates.groupby(['IS_RESEARCHER'])['COMMIT_HASH'].count() / len(without_duplicates)\n",
    "    \n",
    "    researcher_contributors = '%.2f' % percents[True]\n",
    "    non_researcher_contributors = '%.2f' % percents[False]\n",
    "    unknown = '%.2f' % (100 - percents[True] - percents[False])\n",
    "    \n",
    "    print('Participation (in # of contributors) for project \\'' + project_name + '\\', there has been:')\n",
    "    print(' -     Researcher contributors:', researcher_contributors + '%')\n",
    "    print(' - Non researcher contributors:', non_researcher_contributors + '%')\n",
    "    print(' -            Unknown category:', unknown + '%')\n",
    "\n",
    "researcher_contributors('Scikit', scikit_commits)\n",
    "print()\n",
    "researcher_contributors('Keras', keras_commits)\n",
    "print()\n",
    "researcher_contributors('Theano', theano_commits)"
   ]
  },
  {
   "cell_type": "markdown",
   "metadata": {},
   "source": [
    "## Les contributions viennent-elles majoritairement de contributeurs académiques ?"
   ]
  },
  {
   "cell_type": "markdown",
   "metadata": {},
   "source": [
    "### En nombre de *commits*"
   ]
  },
  {
   "cell_type": "code",
   "execution_count": 11,
   "metadata": {},
   "outputs": [
    {
     "data": {
      "image/png": "[encoded data removed]",
      "text/plain": [
       "<matplotlib.figure.Figure at 0x7f90567d3f28>"
      ]
     },
     "metadata": {},
     "output_type": "display_data"
    }
   ],
   "source": [
    "sns.countplot('IS_RESEARCHER', hue = 'PROJECT', data = all_commits)\n",
    "\n",
    "plt.title('Number of researcher contributions per project')\n",
    "plt.xlabel('Is the contribution from a researcher?')\n",
    "plt.ylabel('Number of contributions');"
   ]
  },
  {
   "cell_type": "code",
   "execution_count": 12,
   "metadata": {},
   "outputs": [
    {
     "name": "stdout",
     "output_type": "stream",
     "text": [
      "Participation (in # of commits) for project 'Scikit', there has been:\n",
      " -     Researcher contributors: 83.37%\n",
      " - Non researcher contributors: 16.63%\n",
      " -            Unknown category: 0.00%\n",
      "\n",
      "Participation (in # of commits) for project 'Keras', there has been:\n",
      " -     Researcher contributors: 59.61%\n",
      " - Non researcher contributors: 40.39%\n",
      " -            Unknown category: 0.00%\n",
      "\n",
      "Participation (in # of commits) for project 'Theano', there has been:\n",
      " -     Researcher contributors: 51.24%\n",
      " - Non researcher contributors: 48.76%\n",
      " -            Unknown category: 0.00%\n"
     ]
    }
   ],
   "source": [
    "def researcher_commits_contributions(project_name, project_dataset):\n",
    "    percents = 100 * project_dataset.groupby(['IS_RESEARCHER']).size() / len(project_dataset)\n",
    "    \n",
    "    researcher_contribution = '%.2f' % percents[True]\n",
    "    non_researcher_contribution = '%.2f' % percents[False]\n",
    "    unknown = '%.2f' % (100 - percents[True] - percents[False])\n",
    "    \n",
    "    print('Participation (in # of commits) for project \\'' + project_name + '\\', there has been:')\n",
    "    print(' -     Researcher contributors:', researcher_contribution + '%')\n",
    "    print(' - Non researcher contributors:', non_researcher_contribution + '%')\n",
    "    print(' -            Unknown category:', unknown + '%')\n",
    "\n",
    "researcher_commits_contributions('Scikit', scikit_commits)\n",
    "print()\n",
    "researcher_commits_contributions('Keras', keras_commits)\n",
    "print()\n",
    "researcher_commits_contributions('Theano', theano_commits)"
   ]
  },
  {
   "cell_type": "markdown",
   "metadata": {},
   "source": [
    "### En nombre de lignes ajoutées/retirées"
   ]
  },
  {
   "cell_type": "code",
   "execution_count": 13,
   "metadata": {},
   "outputs": [
    {
     "name": "stdout",
     "output_type": "stream",
     "text": [
      "Participation (in # of ADDED_LINES) for project 'Scikit', there has been:\n",
      " -     Researcher contributors: 86.62%\n",
      " - Non researcher contributors: 13.38%\n",
      " -            Unknown category: 0.00%\n",
      "\n",
      "Participation (in # of ADDED_LINES) for project 'Keras', there has been:\n",
      " -     Researcher contributors: 65.13%\n",
      " - Non researcher contributors: 34.87%\n",
      " -            Unknown category: 0.00%\n",
      "\n",
      "Participation (in # of ADDED_LINES) for project 'Theano', there has been:\n",
      " -     Researcher contributors: 64.04%\n",
      " - Non researcher contributors: 35.96%\n",
      " -            Unknown category: 0.00%\n",
      "\n",
      "\n",
      "Participation (in # of DELETED_LINES) for project 'Scikit', there has been:\n",
      " -     Researcher contributors: 85.55%\n",
      " - Non researcher contributors: 14.45%\n",
      " -            Unknown category: 0.00%\n",
      "\n",
      "Participation (in # of DELETED_LINES) for project 'Keras', there has been:\n",
      " -     Researcher contributors: 69.17%\n",
      " - Non researcher contributors: 30.83%\n",
      " -            Unknown category: 0.00%\n",
      "\n",
      "Participation (in # of DELETED_LINES) for project 'Theano', there has been:\n",
      " -     Researcher contributors: 60.22%\n",
      " - Non researcher contributors: 39.78%\n",
      " -            Unknown category: 0.00%\n"
     ]
    }
   ],
   "source": [
    "def researcher_lines_contributions(project_name, project_dataset, field):\n",
    "    percents = 100 * project_dataset.groupby(['IS_RESEARCHER'])[field].sum() / project_dataset[field].sum()\n",
    "    \n",
    "    researcher_contribution = '%.2f' % percents[True]\n",
    "    non_researcher_contribution = '%.2f' % percents[False]\n",
    "    unknown = '%.2f' % (100 - percents[True] - percents[False])\n",
    "    \n",
    "    print('Participation (in # of ' + field + ') for project \\'' + project_name + '\\', there has been:')\n",
    "    print(' -     Researcher contributors:', researcher_contribution + '%')\n",
    "    print(' - Non researcher contributors:', non_researcher_contribution + '%')\n",
    "    print(' -            Unknown category:', unknown + '%')\n",
    "\n",
    "def researcher_added_lines_contributions(project_name, project_dataset):\n",
    "    researcher_lines_contributions(project_name, project_dataset, 'ADDED_LINES')\n",
    "    \n",
    "def researcher_deleted_lines_contributions(project_name, project_dataset):\n",
    "    researcher_lines_contributions(project_name, project_dataset, 'DELETED_LINES')\n",
    "    \n",
    "researcher_added_lines_contributions('Scikit', scikit_commits)\n",
    "print()\n",
    "researcher_added_lines_contributions('Keras', keras_commits)\n",
    "print()\n",
    "researcher_added_lines_contributions('Theano', theano_commits)\n",
    "\n",
    "print()\n",
    "print()\n",
    "\n",
    "researcher_deleted_lines_contributions('Scikit', scikit_commits)\n",
    "print()\n",
    "researcher_deleted_lines_contributions('Keras', keras_commits)\n",
    "print()\n",
    "researcher_deleted_lines_contributions('Theano', theano_commits)"
   ]
  },
  {
   "cell_type": "markdown",
   "metadata": {},
   "source": [
    "## Les contributeurs académiques sont-ils les contributeurs qui contribuent le plus  individuellement ?"
   ]
  },
  {
   "cell_type": "code",
   "execution_count": 15,
   "metadata": {},
   "outputs": [
    {
     "data": {
      "text/html": [
       "<div>\n",
       "<style scoped>\n",
       "    .dataframe tbody tr th:only-of-type {\n",
       "        vertical-align: middle;\n",
       "    }\n",
       "\n",
       "    .dataframe tbody tr th {\n",
       "        vertical-align: top;\n",
       "    }\n",
       "\n",
       "    .dataframe thead th {\n",
       "        text-align: right;\n",
       "    }\n",
       "</style>\n",
       "<table border=\"1\" class=\"dataframe\">\n",
       "  <thead>\n",
       "    <tr style=\"text-align: right;\">\n",
       "      <th></th>\n",
       "      <th>NAME</th>\n",
       "      <th>NUMBER_OF_COMMITS</th>\n",
       "      <th>ADDED_LINES</th>\n",
       "      <th>DELETED_LINES</th>\n",
       "    </tr>\n",
       "  </thead>\n",
       "  <tbody>\n",
       "    <tr>\n",
       "      <th>1040</th>\n",
       "      <td>Joris Van den Bossche</td>\n",
       "      <td>7</td>\n",
       "      <td>800</td>\n",
       "      <td>72</td>\n",
       "    </tr>\n",
       "    <tr>\n",
       "      <th>1119</th>\n",
       "      <td>Kumar Ashutosh</td>\n",
       "      <td>14</td>\n",
       "      <td>1134</td>\n",
       "      <td>853</td>\n",
       "    </tr>\n",
       "    <tr>\n",
       "      <th>813</th>\n",
       "      <td>Andrew Jackson</td>\n",
       "      <td>3</td>\n",
       "      <td>124</td>\n",
       "      <td>8</td>\n",
       "    </tr>\n",
       "    <tr>\n",
       "      <th>2093</th>\n",
       "      <td>Sirisha Rambhatla</td>\n",
       "      <td>2</td>\n",
       "      <td>24</td>\n",
       "      <td>17</td>\n",
       "    </tr>\n",
       "    <tr>\n",
       "      <th>488</th>\n",
       "      <td>Celeo</td>\n",
       "      <td>1</td>\n",
       "      <td>1</td>\n",
       "      <td>1</td>\n",
       "    </tr>\n",
       "  </tbody>\n",
       "</table>\n",
       "</div>"
      ],
      "text/plain": [
       "                       NAME  NUMBER_OF_COMMITS  ADDED_LINES  DELETED_LINES\n",
       "1040  Joris Van den Bossche                  7          800             72\n",
       "1119         Kumar Ashutosh                 14         1134            853\n",
       "813          Andrew Jackson                  3          124              8\n",
       "2093      Sirisha Rambhatla                  2           24             17\n",
       "488                   Celeo                  1            1              1"
      ]
     },
     "execution_count": 15,
     "metadata": {},
     "output_type": "execute_result"
    }
   ],
   "source": [
    "contributors_statistics = pd.read_csv('study-results/contributors-statistics.csv')\n",
    "\n",
    "contributors_statistics.sample(5)"
   ]
  },
  {
   "cell_type": "code",
   "execution_count": 41,
   "metadata": {
    "collapsed": true
   },
   "outputs": [],
   "source": [
    "def decide_if_commit_made_by_researcher(row):\n",
    "    global contributors_status\n",
    "    \n",
    "    row['IS_RESEARCHER'] = contributors_status['IS_RESEARCHER'][row['NAME']]\n",
    "    \n",
    "    return row\n",
    "\n",
    "def compute_contributors_statistics(commits):\n",
    "    statistics = pd.DataFrame(index = commits['AUTHOR_NAME'].unique())\n",
    "    \n",
    "    statistics['NUMBER_OF_COMMITS'] = 0\n",
    "    statistics['ADDED_LINES'] = 0\n",
    "    statistics['DELETED_LINES'] = 0\n",
    "    statistics['MODIFIED_LINES'] = 0\n",
    "    \n",
    "    for index, row in commits.iterrows():\n",
    "        name = row['AUTHOR_NAME']\n",
    "        \n",
    "        statistics['NUMBER_OF_COMMITS'][name] += 1\n",
    "        statistics['ADDED_LINES'][name] += row['ADDED_LINES']\n",
    "        statistics['DELETED_LINES'][name] += row['DELETED_LINES']\n",
    "        statistics['MODIFIED_LINES'][name] += row['ADDED_LINES'] + row['DELETED_LINES']\n",
    "        \n",
    "    statistics['NAME'] = statistics.index\n",
    "    \n",
    "    statistics = statistics.apply(decide_if_commit_made_by_researcher, axis = 1)\n",
    "    \n",
    "    statistics.reset_index(drop = True, inplace = True)\n",
    "        \n",
    "    return statistics"
   ]
  },
  {
   "cell_type": "code",
   "execution_count": 42,
   "metadata": {},
   "outputs": [
    {
     "data": {
      "text/html": [
       "<div>\n",
       "<style scoped>\n",
       "    .dataframe tbody tr th:only-of-type {\n",
       "        vertical-align: middle;\n",
       "    }\n",
       "\n",
       "    .dataframe tbody tr th {\n",
       "        vertical-align: top;\n",
       "    }\n",
       "\n",
       "    .dataframe thead th {\n",
       "        text-align: right;\n",
       "    }\n",
       "</style>\n",
       "<table border=\"1\" class=\"dataframe\">\n",
       "  <thead>\n",
       "    <tr style=\"text-align: right;\">\n",
       "      <th></th>\n",
       "      <th>NUMBER_OF_COMMITS</th>\n",
       "      <th>ADDED_LINES</th>\n",
       "      <th>DELETED_LINES</th>\n",
       "      <th>MODIFIED_LINES</th>\n",
       "      <th>NAME</th>\n",
       "      <th>IS_RESEARCHER</th>\n",
       "      <th>PROJECT</th>\n",
       "    </tr>\n",
       "  </thead>\n",
       "  <tbody>\n",
       "    <tr>\n",
       "      <th>325</th>\n",
       "      <td>2</td>\n",
       "      <td>14</td>\n",
       "      <td>16</td>\n",
       "      <td>30</td>\n",
       "      <td>Adithya Ganesh</td>\n",
       "      <td>True</td>\n",
       "      <td>Theano</td>\n",
       "    </tr>\n",
       "    <tr>\n",
       "      <th>197</th>\n",
       "      <td>2</td>\n",
       "      <td>2</td>\n",
       "      <td>2</td>\n",
       "      <td>4</td>\n",
       "      <td>sergii-gavrylov</td>\n",
       "      <td>False</td>\n",
       "      <td>Theano</td>\n",
       "    </tr>\n",
       "    <tr>\n",
       "      <th>484</th>\n",
       "      <td>1</td>\n",
       "      <td>46</td>\n",
       "      <td>0</td>\n",
       "      <td>46</td>\n",
       "      <td>Clara Eng</td>\n",
       "      <td>False</td>\n",
       "      <td>Keras</td>\n",
       "    </tr>\n",
       "    <tr>\n",
       "      <th>332</th>\n",
       "      <td>2</td>\n",
       "      <td>88</td>\n",
       "      <td>33</td>\n",
       "      <td>121</td>\n",
       "      <td>Leszek</td>\n",
       "      <td>False</td>\n",
       "      <td>Keras</td>\n",
       "    </tr>\n",
       "    <tr>\n",
       "      <th>189</th>\n",
       "      <td>1</td>\n",
       "      <td>15</td>\n",
       "      <td>3</td>\n",
       "      <td>18</td>\n",
       "      <td>jingzhehu</td>\n",
       "      <td>False</td>\n",
       "      <td>Keras</td>\n",
       "    </tr>\n",
       "  </tbody>\n",
       "</table>\n",
       "</div>"
      ],
      "text/plain": [
       "     NUMBER_OF_COMMITS  ADDED_LINES  DELETED_LINES  MODIFIED_LINES  \\\n",
       "325                  2           14             16              30   \n",
       "197                  2            2              2               4   \n",
       "484                  1           46              0              46   \n",
       "332                  2           88             33             121   \n",
       "189                  1           15              3              18   \n",
       "\n",
       "                NAME  IS_RESEARCHER PROJECT  \n",
       "325   Adithya Ganesh           True  Theano  \n",
       "197  sergii-gavrylov          False  Theano  \n",
       "484        Clara Eng          False   Keras  \n",
       "332           Leszek          False   Keras  \n",
       "189        jingzhehu          False   Keras  "
      ]
     },
     "execution_count": 42,
     "metadata": {},
     "output_type": "execute_result"
    }
   ],
   "source": [
    "scikit_contributors_stats = compute_contributors_statistics(scikit_commits)\n",
    "scikit_contributors_stats['PROJECT'] = 'Scikit-Learn'\n",
    "\n",
    "keras_contributors_stats = compute_contributors_statistics(keras_commits)\n",
    "keras_contributors_stats['PROJECT'] = 'Keras'\n",
    "\n",
    "theano_contributors_stats = compute_contributors_statistics(theano_commits)\n",
    "theano_contributors_stats['PROJECT'] = 'Theano'\n",
    "\n",
    "contributors_stats = pd.concat([scikit_contributors_stats, keras_contributors_stats, theano_contributors_stats])\n",
    "\n",
    "contributors_stats.sample(5)"
   ]
  },
  {
   "cell_type": "markdown",
   "metadata": {},
   "source": [
    "### En nombre de *commits* par contributeur"
   ]
  },
  {
   "cell_type": "code",
   "execution_count": 43,
   "metadata": {},
   "outputs": [
    {
     "data": {
      "text/plain": [
       "<matplotlib.axes._subplots.AxesSubplot at 0x7f905442ebe0>"
      ]
     },
     "execution_count": 43,
     "metadata": {},
     "output_type": "execute_result"
    },
    {
     "data": {
      "image/png": "[encoded data removed]",
      "text/plain": [
       "<matplotlib.figure.Figure at 0x7f90531d0710>"
      ]
     },
     "metadata": {},
     "output_type": "display_data"
    }
   ],
   "source": [
    "sns.barplot(x = 'IS_RESEARCHER', y = 'NUMBER_OF_COMMITS', hue = 'PROJECT', data = contributors_stats)"
   ]
  },
  {
   "cell_type": "markdown",
   "metadata": {},
   "source": [
    "### En nombre de lignes ajoutées/retirées par contributeur"
   ]
  },
  {
   "cell_type": "code",
   "execution_count": 44,
   "metadata": {},
   "outputs": [
    {
     "data": {
      "image/png": "[encoded data removed]",
      "text/plain": [
       "<matplotlib.figure.Figure at 0x7f9055fa4ba8>"
      ]
     },
     "metadata": {},
     "output_type": "display_data"
    }
   ],
   "source": [
    "sns.barplot(x = 'IS_RESEARCHER', y = 'ADDED_LINES', hue = 'PROJECT', data = contributors_stats)\n",
    "\n",
    "plt.title('Added lines depending on the contributor type')\n",
    "plt.xlabel('Is the contribution from a researcher?')\n",
    "plt.ylabel('Number of added lines in the contribution');"
   ]
  },
  {
   "cell_type": "code",
   "execution_count": 45,
   "metadata": {},
   "outputs": [
    {
     "data": {
      "image/png": "[encoded data removed]",
      "text/plain": [
       "<matplotlib.figure.Figure at 0x7f9054426fd0>"
      ]
     },
     "metadata": {},
     "output_type": "display_data"
    }
   ],
   "source": [
    "sns.barplot(x = 'IS_RESEARCHER', y = 'DELETED_LINES', hue = 'PROJECT', data = contributors_stats)\n",
    "\n",
    "plt.title('Deleted lines depending on the contributor type')\n",
    "plt.xlabel('Is the contribution from a researcher?')\n",
    "plt.ylabel('Number of deleted lines in the contribution');"
   ]
  }
 ],
 "metadata": {
  "kernelspec": {
   "display_name": "Python 3",
   "language": "python",
   "name": "python3"
  },
  "language_info": {
   "codemirror_mode": {
    "name": "ipython",
    "version": 3
   },
   "file_extension": ".py",
   "mimetype": "text/x-python",
   "name": "python",
   "nbconvert_exporter": "python",
   "pygments_lexer": "ipython3",
   "version": "3.6.4"
  }
 },
 "nbformat": 4,
 "nbformat_minor": 2
}
