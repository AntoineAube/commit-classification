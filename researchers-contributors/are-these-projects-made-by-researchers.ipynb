{
 "cells": [
  {
   "cell_type": "markdown",
   "metadata": {},
   "source": [
    "# Les projets Open Source de Machine Learning sont-ils menés par des chercheurs ?\n",
    "\n",
    "## Préambule\n",
    "\n",
    "Nous observons l'apparition fréquente de nouveaux algorithmes de Machine Learning et leur intégration à des bibliothèques Open Source.\n",
    "\n",
    "Nous pensons que de nombreux contributeurs hétéroclites participent à ces projets notamment une minorité de chercheurs qui effectuent des travaux dans le domaine de l'apprentissage automatique, mais que ce sont ces chercheurs qui contribuent majoritairement à l'avancée de ces projets.\n",
    "\n",
    "Nous souhaitons évaluer les hypothèses suivantes :\n",
    "* Les contributeurs sont majoritairement des chercheurs.\n",
    "* Les contributions viennent majoritairement de chercheurs.\n",
    "* Les chercheurs contribuent plus individuellement que les autres contributeurs.\n",
    "\n",
    "Nos hypothèses de travail définissent certaines notions et concernent la bonne foi des contributeurs dans les informations de *commit* :\n",
    "* Un chercheur possède une adresse mail d'une académie *ou* possède un profil d'auteur de publications sur Google Scholar.\n",
    "* Le nom/prénom spécifié dans chaque *commit* est celui de l'auteur.\n",
    "* L'adresse mail spécifiée dans chaque *commit* est celui de l'auteur.\n",
    "\n",
    "Pour avoir un horizon le plus large possible, nous allons mener l'étude sur trente-quatre projet open source de Machine Learning (voir la liste à la racine de notre [dépôt Git](https://github.com/AntoineAube/reace-study)).\n",
    "\n",
    "Les données que nous exploitons dans ce document sont issues de l'exécution de plusieurs scripts :\n",
    "* Extraction d'informations depuis le dépôt Git des projets avec Repodriller.\n",
    "* Classification des critères pour déterminer quels utilisateurs sont des chercheurs.\n",
    "Le nécessaire pour reproduire l'étude est disponible sur notre dépôt Git."
   ]
  },
  {
   "cell_type": "code",
   "execution_count": null,
   "metadata": {
    "collapsed": true
   },
   "outputs": [],
   "source": [
    "# Let us import some awesome libraries!\n",
    "import pandas as pd\n",
    "import numpy as np\n",
    "import math\n",
    "import os\n",
    "from operator import itemgetter\n",
    "import datetime\n",
    "\n",
    "import pygal\n",
    "\n",
    "# Definition of some constants.\n",
    "DATASETS_LOCATION = 'drilled-informations/commits-information'"
   ]
  },
  {
   "cell_type": "code",
   "execution_count": null,
   "metadata": {},
   "outputs": [],
   "source": [
    "# Let us load the commits datasets.\n",
    "\n",
    "projects_commits = {}\n",
    "\n",
    "for filename in map(lambda filename: filename.split('.csv')[0], os.listdir(DATASETS_LOCATION)):\n",
    "    commits = pd.read_csv(DATASETS_LOCATION + '/' + filename + '.csv')\n",
    "    \n",
    "    # Add a PROJECT column because they are going to be merged.\n",
    "    commits['PROJECT'] = filename\n",
    "    \n",
    "    # The generated timestamps are 1000 times to big for unknown reason.\n",
    "    commits['TIMESTAMP'] = commits['TIMESTAMP'].apply(lambda timestamp: datetime.datetime.fromtimestamp(timestamp / 1000))\n",
    "    \n",
    "    projects_commits[filename] = commits\n",
    "    \n",
    "projects_commits['scikit-learn'].sample(3)"
   ]
  },
  {
   "cell_type": "markdown",
   "metadata": {},
   "source": [
    "## Quels sont les contributeurs chercheurs ?\n",
    "\n",
    "Conformément à notre hypothèse de travail, nous avons retenu deux critères pour déterminer quel contributeur est un chercheur.\n",
    "\n",
    "Un script ultérieurement exécuté a constitué un set de données de la manière suivante :\n",
    "* À partir de la liste des *commits* de chaque projet, lister les contributeurs par leur nom ; pour chaque contributeur, lister ses adresses mail.\n",
    "* À partir d'une liste blanche de domaines d'adresses mail académiques, déterminer pour chaque contributeur s'il a au moins une adresse académique.\n",
    "* À partir du nom de chaque contributeur, faire une recherche d'auteur de publications sur Google Scholar pour déterminer s'il en est connu ou non."
   ]
  },
  {
   "cell_type": "code",
   "execution_count": null,
   "metadata": {},
   "outputs": [],
   "source": [
    "contributors_status = pd.read_csv('known-contributors.csv')\n",
    "\n",
    "contributors_status.sample(3)"
   ]
  },
  {
   "cell_type": "markdown",
   "metadata": {},
   "source": [
    "En conservant l'union des deux colonnes calculées, nous pouvons déterminer quels contributeurs nous considérons être des chercheurs."
   ]
  },
  {
   "cell_type": "code",
   "execution_count": null,
   "metadata": {},
   "outputs": [],
   "source": [
    "def decide_if_researcher(row):\n",
    "    if math.isnan(row['HAS_RESEARCHER_EMAIL']):\n",
    "        row['IS_RESEARCHER'] = row['HAS_PUBLICATION']\n",
    "    elif math.isnan(row['HAS_PUBLICATION']):\n",
    "        row['IS_RESEARCHER'] = row['HAS_RESEARCHER_EMAIL']\n",
    "    else:\n",
    "        row['IS_RESEARCHER'] = row['HAS_PUBLICATION'] or row['HAS_RESEARCHER_EMAIL']\n",
    "        \n",
    "    return row\n",
    "\n",
    "contributors_status = contributors_status.apply(decide_if_researcher, axis = 1)\n",
    "\n",
    "contributors_status.set_index('NAME', inplace = True)\n",
    "\n",
    "contributors_status.sample(3)"
   ]
  },
  {
   "cell_type": "code",
   "execution_count": null,
   "metadata": {},
   "outputs": [],
   "source": [
    "researchers_distribution = contributors_status['IS_RESEARCHER'].value_counts() / len(contributors_status)\n",
    "\n",
    "pie = pygal.Pie(inner_radius = .4)\n",
    "pie.title = 'Contributors professions in the studied project (in %)'\n",
    "pie.add('Researcher', researchers_distribution[True])\n",
    "pie.add('Not researcher', researchers_distribution[False])"
   ]
  },
  {
   "cell_type": "code",
   "execution_count": null,
   "metadata": {
    "collapsed": true
   },
   "outputs": [],
   "source": [
    "# Let us annotate the commits for future uses.\n",
    "def commit_has_been_made_by_researcher(row):\n",
    "    global contributors_status\n",
    "    \n",
    "    row['IS_RESEARCHER'] = contributors_status['IS_RESEARCHER'][row['AUTHOR_NAME']]\n",
    "    \n",
    "    return row\n",
    "\n",
    "for project_name in projects_commits.keys():\n",
    "    commits = projects_commits[project_name]\n",
    "    \n",
    "    projects_commits[project_name] = commits.apply(commit_has_been_made_by_researcher, axis = 1)"
   ]
  },
  {
   "cell_type": "markdown",
   "metadata": {},
   "source": [
    "## Questions de l'étude\n",
    "\n",
    "Les hypothèses de l'étude infèrent les sous-questions suivantes :\n",
    "* Les contributeurs sont-ils majoritairement des chercheurs ?\n",
    "* Les contributions sont-elles majoritairement produites par des chercheurs ?\n",
    "* Les chercheurs sont-ils les contributeurs qui contribuent le plus individuellement ?\n",
    "\n",
    "Les données que nous avons préparées vont nous permettre de répondre à ces questions. Quand il s'agit de comparer la quantité de contributions, nous prenons soin d'effectuer le comparatif sur le nombre de *commits* ainsi que sur le nombre de lignes ajoutées/retirées."
   ]
  },
  {
   "cell_type": "code",
   "execution_count": null,
   "metadata": {},
   "outputs": [],
   "source": [
    "commits = pd.concat(projects_commits.values())\n",
    "commits.reset_index(drop = True, inplace = True)\n",
    "\n",
    "commits.sample(3)"
   ]
  },
  {
   "cell_type": "markdown",
   "metadata": {},
   "source": [
    "### Les contributeurs sont-ils majoritairement des chercheurs ?"
   ]
  },
  {
   "cell_type": "code",
   "execution_count": null,
   "metadata": {},
   "outputs": [],
   "source": [
    "def compute_researchers(project_name):\n",
    "    global projects_commits\n",
    "    \n",
    "    project_commits = projects_commits[project_name].drop_duplicates(['PROJECT', 'AUTHOR_NAME'])\n",
    "    \n",
    "    return len(project_commits[project_commits['IS_RESEARCHER'] == True]) / len(project_commits)\n",
    "\n",
    "projects_to_researchers = []\n",
    "for name in projects_commits.keys():\n",
    "    researchers_count = compute_researchers(name)\n",
    "    projects_to_researchers.append([name, compute_researchers(name)])\n",
    "    \n",
    "projects_to_researchers = np.array(sorted(projects_to_researchers, key = itemgetter(1)))\n",
    "projects_names = projects_to_researchers[:, 0]\n",
    "\n",
    "bar = pygal.Bar(x_label_rotation = 50, show_legend = False)\n",
    "bar.title = 'Number of researchers per project (in %)'\n",
    "bar.x_title = 'Project\\'s name'\n",
    "bar.y_title = 'Proportion of researchers'\n",
    "bar.x_labels = projects_names\n",
    "bar.add('Researchers', np.array(list(map(float, list(projects_to_researchers[:, 1])))) * 100)"
   ]
  },
  {
   "cell_type": "markdown",
   "metadata": {},
   "source": [
    "### Les contributions sont-elles majoritairement produites par des chercheurs ?"
   ]
  },
  {
   "cell_type": "markdown",
   "metadata": {},
   "source": [
    "#### En nombre de *commits*"
   ]
  },
  {
   "cell_type": "code",
   "execution_count": null,
   "metadata": {},
   "outputs": [],
   "source": [
    "def compute_researchers(project_name):\n",
    "    global projects_commits\n",
    "    \n",
    "    project_commits = projects_commits[project_name]\n",
    "    \n",
    "    return len(project_commits[project_commits['IS_RESEARCHER'] == True]) / len(project_commits)\n",
    "\n",
    "projects_to_researchers = []\n",
    "for name in projects_commits.keys():\n",
    "    projects_to_researchers.append([name, compute_researchers(name)])\n",
    "    \n",
    "projects_to_researchers = np.array(sorted(projects_to_researchers, key = itemgetter(1)))\n",
    "projects_names = projects_to_researchers[:, 0]\n",
    "\n",
    "bar = pygal.Bar(x_label_rotation = 50, show_legend = False)\n",
    "bar.title = 'Commits of researchers per project (in %)'\n",
    "bar.x_title = 'Project\\'s name'\n",
    "bar.y_title = 'Proportion of researchers commits in all commits'\n",
    "bar.x_labels = projects_names\n",
    "bar.add('Researchers', np.array(list(map(float, list(projects_to_researchers[:, 1])))) * 100)"
   ]
  },
  {
   "cell_type": "markdown",
   "metadata": {},
   "source": [
    "#### En nombre de lignes ajoutées/retirées"
   ]
  },
  {
   "cell_type": "code",
   "execution_count": null,
   "metadata": {},
   "outputs": [],
   "source": [
    "def compute_researchers(project_name):\n",
    "    global projects_commits\n",
    "    \n",
    "    project_commits = projects_commits[project_name]\n",
    "    \n",
    "    return (project_commits['ADDED_LINES'][project_commits['IS_RESEARCHER'] == True].sum() + project_commits['DELETED_LINES'][project_commits['IS_RESEARCHER'] == True].sum()) / (project_commits['ADDED_LINES'].sum() + project_commits['DELETED_LINES'].sum())\n",
    "\n",
    "projects_to_researchers = []\n",
    "for name in projects_commits.keys():\n",
    "    projects_to_researchers.append([name, compute_researchers(name)])\n",
    "    \n",
    "projects_to_researchers = np.array(sorted(projects_to_researchers, key = itemgetter(1)))\n",
    "projects_names = projects_to_researchers[:, 0]\n",
    "\n",
    "bar = pygal.Bar(x_label_rotation = 50, show_legend = False)\n",
    "bar.title = 'Added and removed lines of researchers per project (in %)'\n",
    "bar.x_title = 'Project\\'s name'\n",
    "bar.y_title = 'Proportion of researchers modified lines in all modified lines'\n",
    "bar.x_labels = projects_names\n",
    "bar.add('Researchers', np.array(list(map(float, list(projects_to_researchers[:, 1])))) * 100)"
   ]
  },
  {
   "cell_type": "markdown",
   "metadata": {},
   "source": [
    "### Les chercheurs sont-ils les contributeurs qui contribuent le plus individuellement ?"
   ]
  },
  {
   "cell_type": "code",
   "execution_count": null,
   "metadata": {},
   "outputs": [],
   "source": [
    "def decide_if_commit_made_by_researcher(row):\n",
    "    global contributors_status\n",
    "    \n",
    "    row['IS_RESEARCHER'] = contributors_status['IS_RESEARCHER'][row['NAME']]\n",
    "    \n",
    "    return row\n",
    "\n",
    "def compute_contributors_statistics(commits):\n",
    "    statistics = pd.DataFrame(index = commits['AUTHOR_NAME'].unique())\n",
    "    \n",
    "    statistics['NUMBER_OF_COMMITS'] = 0\n",
    "    statistics['ADDED_LINES'] = 0\n",
    "    statistics['DELETED_LINES'] = 0\n",
    "    statistics['MODIFIED_LINES'] = 0\n",
    "    \n",
    "    for index, row in commits.iterrows():\n",
    "        name = row['AUTHOR_NAME']\n",
    "        \n",
    "        statistics['NUMBER_OF_COMMITS'][name] += 1\n",
    "        statistics['ADDED_LINES'][name] += row['ADDED_LINES']\n",
    "        statistics['DELETED_LINES'][name] += row['DELETED_LINES']\n",
    "        statistics['MODIFIED_LINES'][name] += row['ADDED_LINES'] + row['DELETED_LINES']\n",
    "        \n",
    "    statistics['NAME'] = statistics.index\n",
    "    \n",
    "    statistics = statistics.apply(decide_if_commit_made_by_researcher, axis = 1)\n",
    "    \n",
    "    statistics.reset_index(drop = True, inplace = True)\n",
    "        \n",
    "    return statistics\n",
    "\n",
    "projects_contributors = {}\n",
    "\n",
    "for project_name in projects_commits.keys():\n",
    "    contributors = compute_contributors_statistics(projects_commits[project_name])\n",
    "    contributors['PROJECT'] = project_name\n",
    "    \n",
    "    projects_contributors[project_name] = contributors\n",
    "    \n",
    "contributors = pd.concat(projects_contributors.values())\n",
    "contributors.reset_index(drop = True, inplace = True)\n",
    "\n",
    "contributors.sample(3)"
   ]
  },
  {
   "cell_type": "markdown",
   "metadata": {},
   "source": [
    "#### En nombre de *commits*"
   ]
  },
  {
   "cell_type": "code",
   "execution_count": null,
   "metadata": {
    "collapsed": true,
    "scrolled": false
   },
   "outputs": [],
   "source": [
    "sum_up_researchers = pd.DataFrame()\n",
    "sum_up_non_researchers = pd.DataFrame()\n",
    "\n",
    "for project_name in contributors['PROJECT'].unique():\n",
    "    project_contributors = contributors[contributors['PROJECT'] == project_name]\n",
    "    \n",
    "    project_commits = project_contributors['NUMBER_OF_COMMITS'].sum()\n",
    "    \n",
    "    sum_up_researchers = sum_up_researchers.append(project_contributors[project_contributors['IS_RESEARCHER'] == True]['NUMBER_OF_COMMITS'].describe() / project_commits, ignore_index = True)\n",
    "    sum_up_non_researchers = sum_up_non_researchers.append(project_contributors[project_contributors['IS_RESEARCHER'] == False]['NUMBER_OF_COMMITS'].describe() / project_commits, ignore_index = True)"
   ]
  },
  {
   "cell_type": "code",
   "execution_count": null,
   "metadata": {
    "collapsed": true
   },
   "outputs": [],
   "source": [
    "plot = pygal.Box(box_mode = 'stdev', legend_at_bottom = True)\n",
    "plot.title = 'Normalized number of commits per contributor (mean)'\n",
    "plot.x_title = 'Contributor type'\n",
    "plot.y_title = 'Mean of normalized number of commits'\n",
    "plot.add('Researchers', sum_up_researchers['mean'])\n",
    "plot.add('Non researchers', sum_up_non_researchers['mean'])"
   ]
  },
  {
   "cell_type": "code",
   "execution_count": null,
   "metadata": {},
   "outputs": [],
   "source": [
    "plot = pygal.Box(box_mode = 'stdev', legend_at_bottom = True)\n",
    "plot.title = 'Normalized number of commits per contributor (first quartile)'\n",
    "plot.x_title = 'Contributor type'\n",
    "plot.y_title = 'First quartile of normalized number of commits'\n",
    "plot.add('Researchers', sum_up_researchers['25%'])\n",
    "plot.add('Non researchers', sum_up_non_researchers['25%'])"
   ]
  },
  {
   "cell_type": "code",
   "execution_count": null,
   "metadata": {
    "collapsed": true
   },
   "outputs": [],
   "source": [
    "plot = pygal.Box(box_mode = 'stdev', legend_at_bottom = True)\n",
    "plot.title = 'Normalized number of commits per contributor (median)'\n",
    "plot.x_title = 'Contributor type'\n",
    "plot.y_title = 'Median of normalized number of commits'\n",
    "plot.add('Researchers', sum_up_researchers['50%'])\n",
    "plot.add('Non researchers', sum_up_non_researchers['50%'])"
   ]
  },
  {
   "cell_type": "code",
   "execution_count": null,
   "metadata": {
    "collapsed": true
   },
   "outputs": [],
   "source": [
    "plot = pygal.Box(box_mode = 'stdev', legend_at_bottom = True)\n",
    "plot.title = 'Normalized number of commits per contributor (third quartile)'\n",
    "plot.x_title = 'Contributor type'\n",
    "plot.y_title = 'Third quartile of normalized number of commits'\n",
    "plot.add('Researchers', sum_up_researchers['75%'])\n",
    "plot.add('Non researchers', sum_up_non_researchers['75%'])"
   ]
  },
  {
   "cell_type": "markdown",
   "metadata": {},
   "source": [
    "#### En nombre de lignes ajoutées/retirées"
   ]
  },
  {
   "cell_type": "code",
   "execution_count": null,
   "metadata": {},
   "outputs": [],
   "source": [
    "sum_up_researchers = pd.DataFrame()\n",
    "sum_up_non_researchers = pd.DataFrame()\n",
    "\n",
    "for project_name in contributors['PROJECT'].unique():\n",
    "    project_contributors = contributors[contributors['PROJECT'] == project_name]\n",
    "    \n",
    "    project_contributors['MODIFIED_LINES'] = project_contributors['ADDED_LINES'] + project_contributors['DELETED_LINES']\n",
    "    project_modified_lines = project_contributors['MODIFIED_LINES'].sum()\n",
    "    \n",
    "    sum_up_researchers = sum_up_researchers.append(project_contributors[project_contributors['IS_RESEARCHER'] == True]['MODIFIED_LINES'].describe() / project_modified_lines, ignore_index = True)\n",
    "    sum_up_non_researchers = sum_up_non_researchers.append(project_contributors[project_contributors['IS_RESEARCHER'] == False]['MODIFIED_LINES'].describe() / project_modified_lines, ignore_index = True)"
   ]
  },
  {
   "cell_type": "code",
   "execution_count": null,
   "metadata": {
    "collapsed": true
   },
   "outputs": [],
   "source": [
    "plot = pygal.Box(box_mode = 'stdev', legend_at_bottom = True)\n",
    "plot.title = 'Normalized number of modified lines per contributor (mean)'\n",
    "plot.x_title = 'Contributor type'\n",
    "plot.y_title = 'Mean of normalized number of modified lines'\n",
    "plot.add('Researchers', sum_up_researchers['mean'])\n",
    "plot.add('Non researchers', sum_up_non_researchers['mean'])"
   ]
  },
  {
   "cell_type": "code",
   "execution_count": null,
   "metadata": {},
   "outputs": [],
   "source": [
    "plot = pygal.Box(box_mode = 'stdev', legend_at_bottom = True)\n",
    "plot.title = 'Normalized number of modified lines per contributor (first quartile)'\n",
    "plot.x_title = 'Contributor type'\n",
    "plot.y_title = 'First quartile of normalized number of modified lines'\n",
    "plot.add('Researchers', sum_up_researchers['25%'])\n",
    "plot.add('Non researchers', sum_up_non_researchers['25%'])"
   ]
  },
  {
   "cell_type": "code",
   "execution_count": null,
   "metadata": {
    "collapsed": true
   },
   "outputs": [],
   "source": [
    "plot = pygal.Box(box_mode = 'stdev', legend_at_bottom = True)\n",
    "plot.title = 'Normalized number of modified lines per contributor (median)'\n",
    "plot.x_title = 'Contributor type'\n",
    "plot.y_title = 'Median of normalized number of modified lines'\n",
    "plot.add('Researchers', sum_up_researchers['50%'])\n",
    "plot.add('Non researchers', sum_up_non_researchers['50%'])"
   ]
  },
  {
   "cell_type": "code",
   "execution_count": null,
   "metadata": {
    "collapsed": true
   },
   "outputs": [],
   "source": [
    "plot = pygal.Box(box_mode = 'stdev', legend_at_bottom = True)\n",
    "plot.title = 'Normalized number of modified lines per contributor (third quartile)'\n",
    "plot.x_title = 'Contributor type'\n",
    "plot.y_title = 'Third quartile of normalized number of modified lines'\n",
    "plot.add('Researchers', sum_up_researchers['75%'])\n",
    "plot.add('Non researchers', sum_up_non_researchers['75%'])"
   ]
  }
 ],
 "metadata": {
  "kernelspec": {
   "display_name": "Python 3",
   "language": "python",
   "name": "python3"
  },
  "language_info": {
   "codemirror_mode": {
    "name": "ipython",
    "version": 3
   },
   "file_extension": ".py",
   "mimetype": "text/x-python",
   "name": "python",
   "nbconvert_exporter": "python",
   "pygments_lexer": "ipython3",
   "version": "3.6.4"
  }
 },
 "nbformat": 4,
 "nbformat_minor": 2
}
