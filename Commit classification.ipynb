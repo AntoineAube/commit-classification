{
 "cells": [
  {
   "cell_type": "code",
   "execution_count": 13,
   "metadata": {
    "collapsed": true
   },
   "outputs": [],
   "source": [
    "# Let us import some awesome libraries!\n",
    "import pandas as pd\n",
    "import seaborn as sns\n",
    "import matplotlib.pyplot as plt\n",
    "\n",
    "%matplotlib inline"
   ]
  },
  {
   "cell_type": "code",
   "execution_count": 2,
   "metadata": {
    "collapsed": true
   },
   "outputs": [],
   "source": [
    "# Let us load the datasets.\n",
    "\n",
    "# This one contains global informations on the commits and their commiters.\n",
    "exploration = pd.read_csv('results/exploration.csv')\n",
    "\n",
    "# This one is the result of a study of the 'git diff' commands for each of them, in order to put them in a category.\n",
    "classification = pd.read_csv('results/classification.csv')"
   ]
  },
  {
   "cell_type": "markdown",
   "metadata": {},
   "source": [
    "# Commits exploration\n",
    "\n",
    "The *exploration* dataset contains very basic informations on the commits: \n",
    "\n",
    "* **COMMIT_HASH** is the unique identifier of the commit on the repository.\n",
    "* **AUTHOR_NAME** and **AUTHOR_EMAIL** are the identity of the author of the commit.\n",
    "* **MODIFICATIONS_COUNT** is the number of modified files in the commit.\n",
    "* **TIMESTAMP** is the timestamp at which the commit has been made.\n",
    "\n",
    "Let us take a look on some of the lines. \n",
    "As we have build the datasets ourself, we already know that there is no missing value."
   ]
  },
  {
   "cell_type": "code",
   "execution_count": 3,
   "metadata": {},
   "outputs": [
    {
     "name": "stdout",
     "output_type": "stream",
     "text": [
      "The dataset contains informations about 24036 commits.\n"
     ]
    },
    {
     "data": {
      "text/html": [
       "<div>\n",
       "<style scoped>\n",
       "    .dataframe tbody tr th:only-of-type {\n",
       "        vertical-align: middle;\n",
       "    }\n",
       "\n",
       "    .dataframe tbody tr th {\n",
       "        vertical-align: top;\n",
       "    }\n",
       "\n",
       "    .dataframe thead th {\n",
       "        text-align: right;\n",
       "    }\n",
       "</style>\n",
       "<table border=\"1\" class=\"dataframe\">\n",
       "  <thead>\n",
       "    <tr style=\"text-align: right;\">\n",
       "      <th></th>\n",
       "      <th>COMMIT_HASH</th>\n",
       "      <th>AUTHOR_NAME</th>\n",
       "      <th>AUTHOR_EMAIL</th>\n",
       "      <th>MODIFICATIONS_COUNT</th>\n",
       "      <th>TIMESTAMP</th>\n",
       "    </tr>\n",
       "  </thead>\n",
       "  <tbody>\n",
       "    <tr>\n",
       "      <th>19553</th>\n",
       "      <td>e7bf670065eeae4f1ee0c0a8999173b8aa1786b4</td>\n",
       "      <td>Anthony Erlinger</td>\n",
       "      <td>aerlinger@gmail.com</td>\n",
       "      <td>1</td>\n",
       "      <td>1430239327000</td>\n",
       "    </tr>\n",
       "    <tr>\n",
       "      <th>10873</th>\n",
       "      <td>b321d4c89329d4314daba49f5a4fc04bf478745a</td>\n",
       "      <td>Peter Prettenhofer</td>\n",
       "      <td>peter.prettenhofer@gmail.com</td>\n",
       "      <td>1</td>\n",
       "      <td>1350546039000</td>\n",
       "    </tr>\n",
       "    <tr>\n",
       "      <th>1124</th>\n",
       "      <td>f6e9a2a1d86a008a187d6d3efdee2df3b3afa974</td>\n",
       "      <td>Yaroslav Halchenko</td>\n",
       "      <td>debian@onerussian.com</td>\n",
       "      <td>1</td>\n",
       "      <td>1279556548000</td>\n",
       "    </tr>\n",
       "    <tr>\n",
       "      <th>20022</th>\n",
       "      <td>9207639e5727ed25a0851449940dee50ba51c532</td>\n",
       "      <td>Andreas Mueller</td>\n",
       "      <td>amueller@nyu.edu</td>\n",
       "      <td>1</td>\n",
       "      <td>1438295849000</td>\n",
       "    </tr>\n",
       "    <tr>\n",
       "      <th>10652</th>\n",
       "      <td>10b8b13fd58bfa8eca758047009d7d17c80af0af</td>\n",
       "      <td>Jaques Grobler</td>\n",
       "      <td>jaquesgrobler@gmail.com</td>\n",
       "      <td>1</td>\n",
       "      <td>1348662033000</td>\n",
       "    </tr>\n",
       "    <tr>\n",
       "      <th>23658</th>\n",
       "      <td>d8ec63075f61a12b6b639a390cb3023e2190d956</td>\n",
       "      <td>Joel Nothman</td>\n",
       "      <td>joel.nothman@gmail.com</td>\n",
       "      <td>1</td>\n",
       "      <td>1505697099000</td>\n",
       "    </tr>\n",
       "    <tr>\n",
       "      <th>6543</th>\n",
       "      <td>77ec530a699d5925ff4019fd0b552a37dc658c0f</td>\n",
       "      <td>Robert Layton</td>\n",
       "      <td>robertlayton@gmail.com</td>\n",
       "      <td>1</td>\n",
       "      <td>1319188016000</td>\n",
       "    </tr>\n",
       "    <tr>\n",
       "      <th>1398</th>\n",
       "      <td>35146dc81b70b1989e4fe56812e1dad0e67e3f01</td>\n",
       "      <td>Alexandre Gramfort</td>\n",
       "      <td>alexandre.gramfort@inria.fr</td>\n",
       "      <td>1</td>\n",
       "      <td>1282212768000</td>\n",
       "    </tr>\n",
       "    <tr>\n",
       "      <th>3664</th>\n",
       "      <td>208915f8b7eed4128b404da892eba8e5a59b1f6c</td>\n",
       "      <td>Olivier Grisel</td>\n",
       "      <td>olivier.grisel@ensta.org</td>\n",
       "      <td>1</td>\n",
       "      <td>1302478334000</td>\n",
       "    </tr>\n",
       "    <tr>\n",
       "      <th>5275</th>\n",
       "      <td>d814dbf0d247542dbf3cd9fb8102536c7dcec3da</td>\n",
       "      <td>Clay Woolam</td>\n",
       "      <td>clay@woolam.org</td>\n",
       "      <td>3</td>\n",
       "      <td>1312783893000</td>\n",
       "    </tr>\n",
       "  </tbody>\n",
       "</table>\n",
       "</div>"
      ],
      "text/plain": [
       "                                    COMMIT_HASH         AUTHOR_NAME  \\\n",
       "19553  e7bf670065eeae4f1ee0c0a8999173b8aa1786b4    Anthony Erlinger   \n",
       "10873  b321d4c89329d4314daba49f5a4fc04bf478745a  Peter Prettenhofer   \n",
       "1124   f6e9a2a1d86a008a187d6d3efdee2df3b3afa974  Yaroslav Halchenko   \n",
       "20022  9207639e5727ed25a0851449940dee50ba51c532     Andreas Mueller   \n",
       "10652  10b8b13fd58bfa8eca758047009d7d17c80af0af      Jaques Grobler   \n",
       "23658  d8ec63075f61a12b6b639a390cb3023e2190d956        Joel Nothman   \n",
       "6543   77ec530a699d5925ff4019fd0b552a37dc658c0f       Robert Layton   \n",
       "1398   35146dc81b70b1989e4fe56812e1dad0e67e3f01  Alexandre Gramfort   \n",
       "3664   208915f8b7eed4128b404da892eba8e5a59b1f6c      Olivier Grisel   \n",
       "5275   d814dbf0d247542dbf3cd9fb8102536c7dcec3da         Clay Woolam   \n",
       "\n",
       "                       AUTHOR_EMAIL  MODIFICATIONS_COUNT      TIMESTAMP  \n",
       "19553           aerlinger@gmail.com                    1  1430239327000  \n",
       "10873  peter.prettenhofer@gmail.com                    1  1350546039000  \n",
       "1124          debian@onerussian.com                    1  1279556548000  \n",
       "20022              amueller@nyu.edu                    1  1438295849000  \n",
       "10652       jaquesgrobler@gmail.com                    1  1348662033000  \n",
       "23658        joel.nothman@gmail.com                    1  1505697099000  \n",
       "6543         robertlayton@gmail.com                    1  1319188016000  \n",
       "1398    alexandre.gramfort@inria.fr                    1  1282212768000  \n",
       "3664       olivier.grisel@ensta.org                    1  1302478334000  \n",
       "5275                clay@woolam.org                    3  1312783893000  "
      ]
     },
     "execution_count": 3,
     "metadata": {},
     "output_type": "execute_result"
    }
   ],
   "source": [
    "print('The dataset contains informations about', len(exploration), 'commits.')\n",
    "\n",
    "exploration.sample(10)"
   ]
  },
  {
   "cell_type": "markdown",
   "metadata": {},
   "source": [
    "## What can we infer...\n",
    "\n",
    "### ... about the authors?\n",
    "\n",
    "#### How many unique contributors have worked on this repository?"
   ]
  },
  {
   "cell_type": "code",
   "execution_count": 40,
   "metadata": {},
   "outputs": [
    {
     "name": "stdout",
     "output_type": "stream",
     "text": [
      "There is 1225 unique contributors on the repository.\n"
     ]
    }
   ],
   "source": [
    "authors = exploration['AUTHOR_NAME'].value_counts()\n",
    "\n",
    "print('There is', len(authors), 'unique contributors on the repository.')"
   ]
  },
  {
   "cell_type": "markdown",
   "metadata": {},
   "source": [
    "#### Who are the persons who committed the most?"
   ]
  },
  {
   "cell_type": "code",
   "execution_count": 41,
   "metadata": {},
   "outputs": [
    {
     "data": {
      "text/plain": [
       "Olivier Grisel        2287\n",
       "Andreas Mueller       2091\n",
       "Fabian Pedregosa      1674\n",
       "Lars Buitinck         1283\n",
       "Alexandre Gramfort    1078\n",
       "Gilles Louppe          942\n",
       "Gael Varoquaux         884\n",
       "Peter Prettenhofer     868\n",
       "Mathieu Blondel        784\n",
       "Gael varoquaux         654\n",
       "Name: AUTHOR_NAME, dtype: int64"
      ]
     },
     "execution_count": 41,
     "metadata": {},
     "output_type": "execute_result"
    }
   ],
   "source": [
    "top_committers.head(10)"
   ]
  },
  {
   "cell_type": "markdown",
   "metadata": {},
   "source": [
    "#### Do contributors commit once?"
   ]
  },
  {
   "cell_type": "code",
   "execution_count": 43,
   "metadata": {},
   "outputs": [
    {
     "data": {
      "text/plain": [
       "count    1225.000000\n",
       "mean       19.621224\n",
       "std       128.629878\n",
       "min         1.000000\n",
       "25%         1.000000\n",
       "50%         2.000000\n",
       "75%         4.000000\n",
       "max      2287.000000\n",
       "Name: AUTHOR_NAME, dtype: float64"
      ]
     },
     "execution_count": 43,
     "metadata": {},
     "output_type": "execute_result"
    }
   ],
   "source": [
    "top_committers.describe()"
   ]
  },
  {
   "cell_type": "markdown",
   "metadata": {},
   "source": [
    "### ... about the number of modifications per commit?"
   ]
  },
  {
   "cell_type": "markdown",
   "metadata": {},
   "source": [
    "#### Is there a lot of files modified in a commit?"
   ]
  },
  {
   "cell_type": "code",
   "execution_count": 6,
   "metadata": {},
   "outputs": [
    {
     "data": {
      "text/plain": [
       "count    24036.000000\n",
       "mean         4.843859\n",
       "std         27.531903\n",
       "min          0.000000\n",
       "25%          1.000000\n",
       "50%          1.000000\n",
       "75%          2.000000\n",
       "max        911.000000\n",
       "Name: MODIFICATIONS_COUNT, dtype: float64"
      ]
     },
     "execution_count": 6,
     "metadata": {},
     "output_type": "execute_result"
    }
   ],
   "source": [
    "exploration['MODIFICATIONS_COUNT'].describe()"
   ]
  },
  {
   "cell_type": "code",
   "execution_count": 22,
   "metadata": {},
   "outputs": [
    {
     "data": {
      "image/png": "[encoded data removed]",
      "text/plain": [
       "<matplotlib.figure.Figure at 0x7fde8f380c88>"
      ]
     },
     "metadata": {},
     "output_type": "display_data"
    }
   ],
   "source": [
    "sns.distplot(exploration['MODIFICATIONS_COUNT'], kde = False)\n",
    "plt.title('Modified files per commit')\n",
    "plt.xlabel('Number of modified files')\n",
    "plt.ylabel('Number of commits');"
   ]
  },
  {
   "cell_type": "markdown",
   "metadata": {},
   "source": [
    "### Was there bigger commits at the project start?"
   ]
  },
  {
   "cell_type": "code",
   "execution_count": 28,
   "metadata": {},
   "outputs": [
    {
     "data": {
      "image/png": "[encoded data removed]",
      "text/plain": [
       "<matplotlib.figure.Figure at 0x7fde8f292828>"
      ]
     },
     "metadata": {},
     "output_type": "display_data"
    }
   ],
   "source": [
    "sns.jointplot(x = 'TIMESTAMP', y = 'MODIFICATIONS_COUNT', data = exploration);"
   ]
  },
  {
   "cell_type": "code",
   "execution_count": null,
   "metadata": {
    "collapsed": true
   },
   "outputs": [],
   "source": []
  }
 ],
 "metadata": {
  "kernelspec": {
   "display_name": "Python 3",
   "language": "python",
   "name": "python3"
  },
  "language_info": {
   "codemirror_mode": {
    "name": "ipython",
    "version": 3
   },
   "file_extension": ".py",
   "mimetype": "text/x-python",
   "name": "python",
   "nbconvert_exporter": "python",
   "pygments_lexer": "ipython3",
   "version": "3.6.4"
  }
 },
 "nbformat": 4,
 "nbformat_minor": 2
}
