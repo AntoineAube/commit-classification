{
 "cells": [
  {
   "cell_type": "code",
   "execution_count": 1,
   "metadata": {
    "collapsed": true
   },
   "outputs": [],
   "source": [
    "# Let us import some awesome libraries!\n",
    "import pandas as pd\n",
    "import seaborn as sns\n",
    "import matplotlib.pyplot as plt\n",
    "\n",
    "%matplotlib inline"
   ]
  },
  {
   "cell_type": "code",
   "execution_count": 2,
   "metadata": {
    "collapsed": true
   },
   "outputs": [],
   "source": [
    "# Let us load the datasets.\n",
    "\n",
    "# This one contains global informations on the commits and their commiters.\n",
    "exploration = pd.read_csv('results/exploration.csv')\n",
    "\n",
    "# This one is the result of a study of the 'git diff' commands for each of them, in order to put them in a category.\n",
    "classification = pd.read_csv('results/classification.csv')"
   ]
  },
  {
   "cell_type": "code",
   "execution_count": 3,
   "metadata": {},
   "outputs": [],
   "source": [
    "# Just a bit of style. ;)\n",
    "sns.set_palette(sns.color_palette(\"hls\", 8));"
   ]
  },
  {
   "cell_type": "markdown",
   "metadata": {},
   "source": [
    "# Commits exploration\n",
    "\n",
    "The *exploration* dataset contains very basic informations on the commits: \n",
    "\n",
    "* **COMMIT_HASH** is the unique identifier of the commit on the repository.\n",
    "* **AUTHOR_NAME** and **AUTHOR_EMAIL** are the identity of the author of the commit.\n",
    "* **MODIFICATIONS_COUNT** is the number of modified files in the commit.\n",
    "* **TIMESTAMP** is the timestamp at which the commit has been made.\n",
    "\n",
    "Let us take a look on some of the lines. \n",
    "As we have build the datasets ourself, we already know that there is no missing value."
   ]
  },
  {
   "cell_type": "code",
   "execution_count": 4,
   "metadata": {},
   "outputs": [
    {
     "name": "stdout",
     "output_type": "stream",
     "text": [
      "The dataset contains informations about 24036 commits.\n"
     ]
    },
    {
     "data": {
      "text/html": [
       "<div>\n",
       "<style scoped>\n",
       "    .dataframe tbody tr th:only-of-type {\n",
       "        vertical-align: middle;\n",
       "    }\n",
       "\n",
       "    .dataframe tbody tr th {\n",
       "        vertical-align: top;\n",
       "    }\n",
       "\n",
       "    .dataframe thead th {\n",
       "        text-align: right;\n",
       "    }\n",
       "</style>\n",
       "<table border=\"1\" class=\"dataframe\">\n",
       "  <thead>\n",
       "    <tr style=\"text-align: right;\">\n",
       "      <th></th>\n",
       "      <th>COMMIT_HASH</th>\n",
       "      <th>AUTHOR_NAME</th>\n",
       "      <th>AUTHOR_EMAIL</th>\n",
       "      <th>MODIFICATIONS_COUNT</th>\n",
       "      <th>TIMESTAMP</th>\n",
       "    </tr>\n",
       "  </thead>\n",
       "  <tbody>\n",
       "    <tr>\n",
       "      <th>16079</th>\n",
       "      <td>5ea9aad7ecb3d907ee2dbaeb14f25cda3768e698</td>\n",
       "      <td>Manoj-Kumar-S</td>\n",
       "      <td>manojkumarsivaraj334@gmail.com</td>\n",
       "      <td>2</td>\n",
       "      <td>1390482707000</td>\n",
       "    </tr>\n",
       "    <tr>\n",
       "      <th>7257</th>\n",
       "      <td>e9f432a3c49742c0cbf42dcfd0364fb7d3223ddd</td>\n",
       "      <td>Vlad Niculae</td>\n",
       "      <td>vlad@vene.ro</td>\n",
       "      <td>2</td>\n",
       "      <td>1324340029000</td>\n",
       "    </tr>\n",
       "    <tr>\n",
       "      <th>4429</th>\n",
       "      <td>8526ab686c16136a39693da3a4a605c8198b3363</td>\n",
       "      <td>Lars Buitinck</td>\n",
       "      <td>larsmans@gmail.com</td>\n",
       "      <td>1</td>\n",
       "      <td>1307788517000</td>\n",
       "    </tr>\n",
       "    <tr>\n",
       "      <th>23942</th>\n",
       "      <td>bdc20edf8692195ce0f817af0082c5ede1e35f4a</td>\n",
       "      <td>Guillaume Lemaitre</td>\n",
       "      <td>g.lemaitre58@gmail.com</td>\n",
       "      <td>1</td>\n",
       "      <td>1512993891000</td>\n",
       "    </tr>\n",
       "    <tr>\n",
       "      <th>4684</th>\n",
       "      <td>e17ae1fd0461d06393aac38a171021381207c6b5</td>\n",
       "      <td>Fabian Pedregosa</td>\n",
       "      <td>fabian.pedregosa@inria.fr</td>\n",
       "      <td>1</td>\n",
       "      <td>1305529856000</td>\n",
       "    </tr>\n",
       "    <tr>\n",
       "      <th>8939</th>\n",
       "      <td>d452cde4a1e31b59f003e77cc51dc32f2f2249f4</td>\n",
       "      <td>Peter Prettenhofer</td>\n",
       "      <td>peter.prettenhofer@gmail.com</td>\n",
       "      <td>11</td>\n",
       "      <td>1332451705000</td>\n",
       "    </tr>\n",
       "    <tr>\n",
       "      <th>13896</th>\n",
       "      <td>44b7be193c698ea94f93e401ef555839db3f09b2</td>\n",
       "      <td>Yann N. Dauphin</td>\n",
       "      <td>dhaemon@gmail.com</td>\n",
       "      <td>1</td>\n",
       "      <td>1366054967000</td>\n",
       "    </tr>\n",
       "    <tr>\n",
       "      <th>7705</th>\n",
       "      <td>9a46722a862832701deff8206aef720fbc5079f6</td>\n",
       "      <td>Olivier Grisel</td>\n",
       "      <td>olivier.grisel@ensta.org</td>\n",
       "      <td>1</td>\n",
       "      <td>1325250816000</td>\n",
       "    </tr>\n",
       "    <tr>\n",
       "      <th>993</th>\n",
       "      <td>53daf5e2bb0887dafd6cd5ad2aa2daa8b40137a6</td>\n",
       "      <td>Fabian Pedregosa</td>\n",
       "      <td>fabian.pedregosa@inria.fr</td>\n",
       "      <td>2</td>\n",
       "      <td>1277556473000</td>\n",
       "    </tr>\n",
       "    <tr>\n",
       "      <th>3949</th>\n",
       "      <td>455ad649f9e8c870dd6f213d5181b3f1aaf92bb8</td>\n",
       "      <td>Peter Prettenhofer</td>\n",
       "      <td>peter.prettenhofer@gmail.com</td>\n",
       "      <td>2</td>\n",
       "      <td>1304527955000</td>\n",
       "    </tr>\n",
       "  </tbody>\n",
       "</table>\n",
       "</div>"
      ],
      "text/plain": [
       "                                    COMMIT_HASH         AUTHOR_NAME  \\\n",
       "16079  5ea9aad7ecb3d907ee2dbaeb14f25cda3768e698       Manoj-Kumar-S   \n",
       "7257   e9f432a3c49742c0cbf42dcfd0364fb7d3223ddd        Vlad Niculae   \n",
       "4429   8526ab686c16136a39693da3a4a605c8198b3363       Lars Buitinck   \n",
       "23942  bdc20edf8692195ce0f817af0082c5ede1e35f4a  Guillaume Lemaitre   \n",
       "4684   e17ae1fd0461d06393aac38a171021381207c6b5    Fabian Pedregosa   \n",
       "8939   d452cde4a1e31b59f003e77cc51dc32f2f2249f4  Peter Prettenhofer   \n",
       "13896  44b7be193c698ea94f93e401ef555839db3f09b2     Yann N. Dauphin   \n",
       "7705   9a46722a862832701deff8206aef720fbc5079f6      Olivier Grisel   \n",
       "993    53daf5e2bb0887dafd6cd5ad2aa2daa8b40137a6    Fabian Pedregosa   \n",
       "3949   455ad649f9e8c870dd6f213d5181b3f1aaf92bb8  Peter Prettenhofer   \n",
       "\n",
       "                         AUTHOR_EMAIL  MODIFICATIONS_COUNT      TIMESTAMP  \n",
       "16079  manojkumarsivaraj334@gmail.com                    2  1390482707000  \n",
       "7257                     vlad@vene.ro                    2  1324340029000  \n",
       "4429               larsmans@gmail.com                    1  1307788517000  \n",
       "23942          g.lemaitre58@gmail.com                    1  1512993891000  \n",
       "4684        fabian.pedregosa@inria.fr                    1  1305529856000  \n",
       "8939     peter.prettenhofer@gmail.com                   11  1332451705000  \n",
       "13896               dhaemon@gmail.com                    1  1366054967000  \n",
       "7705         olivier.grisel@ensta.org                    1  1325250816000  \n",
       "993         fabian.pedregosa@inria.fr                    2  1277556473000  \n",
       "3949     peter.prettenhofer@gmail.com                    2  1304527955000  "
      ]
     },
     "execution_count": 4,
     "metadata": {},
     "output_type": "execute_result"
    }
   ],
   "source": [
    "print('The dataset contains informations about', len(exploration), 'commits.')\n",
    "\n",
    "exploration.sample(10)"
   ]
  },
  {
   "cell_type": "markdown",
   "metadata": {},
   "source": [
    "## What can we infer...\n",
    "\n",
    "### ... about the authors?\n",
    "\n",
    "#### How many unique contributors have worked on this repository?"
   ]
  },
  {
   "cell_type": "code",
   "execution_count": 5,
   "metadata": {},
   "outputs": [
    {
     "name": "stdout",
     "output_type": "stream",
     "text": [
      "There is 1225 unique contributors on the repository.\n"
     ]
    }
   ],
   "source": [
    "authors = exploration['AUTHOR_NAME'].value_counts()\n",
    "\n",
    "print('There is', len(authors), 'unique contributors on the repository.')"
   ]
  },
  {
   "cell_type": "markdown",
   "metadata": {},
   "source": [
    "#### Who are the persons who committed the most?"
   ]
  },
  {
   "cell_type": "code",
   "execution_count": 14,
   "metadata": {},
   "outputs": [
    {
     "data": {
      "text/plain": [
       "Olivier Grisel        2287\n",
       "Andreas Mueller       2091\n",
       "Fabian Pedregosa      1674\n",
       "Lars Buitinck         1283\n",
       "Alexandre Gramfort    1078\n",
       "Name: AUTHOR_NAME, dtype: int64"
      ]
     },
     "execution_count": 14,
     "metadata": {},
     "output_type": "execute_result"
    }
   ],
   "source": [
    "authors.head(5)"
   ]
  },
  {
   "cell_type": "markdown",
   "metadata": {},
   "source": [
    "#### Do contributors commit once?"
   ]
  },
  {
   "cell_type": "code",
   "execution_count": 7,
   "metadata": {},
   "outputs": [
    {
     "data": {
      "text/plain": [
       "count    1225.000000\n",
       "mean       19.621224\n",
       "std       128.629878\n",
       "min         1.000000\n",
       "25%         1.000000\n",
       "50%         2.000000\n",
       "75%         4.000000\n",
       "max      2287.000000\n",
       "Name: AUTHOR_NAME, dtype: float64"
      ]
     },
     "execution_count": 7,
     "metadata": {},
     "output_type": "execute_result"
    }
   ],
   "source": [
    "authors.describe()"
   ]
  },
  {
   "cell_type": "markdown",
   "metadata": {},
   "source": [
    "### ... about the number of modifications per commit?"
   ]
  },
  {
   "cell_type": "markdown",
   "metadata": {},
   "source": [
    "#### Is there a lot of files modified in a commit?"
   ]
  },
  {
   "cell_type": "code",
   "execution_count": 8,
   "metadata": {},
   "outputs": [
    {
     "data": {
      "text/plain": [
       "count    24036.000000\n",
       "mean         4.843859\n",
       "std         27.531903\n",
       "min          0.000000\n",
       "25%          1.000000\n",
       "50%          1.000000\n",
       "75%          2.000000\n",
       "max        911.000000\n",
       "Name: MODIFICATIONS_COUNT, dtype: float64"
      ]
     },
     "execution_count": 8,
     "metadata": {},
     "output_type": "execute_result"
    }
   ],
   "source": [
    "exploration['MODIFICATIONS_COUNT'].describe()"
   ]
  },
  {
   "cell_type": "code",
   "execution_count": 9,
   "metadata": {},
   "outputs": [
    {
     "data": {
      "image/png": "[encoded data removed]",
      "text/plain": [
       "<matplotlib.figure.Figure at 0x7f01dff0a5f8>"
      ]
     },
     "metadata": {},
     "output_type": "display_data"
    }
   ],
   "source": [
    "sns.distplot(exploration['MODIFICATIONS_COUNT'], kde = False)\n",
    "plt.title('Modified files per commit')\n",
    "plt.xlabel('Number of modified files')\n",
    "plt.ylabel('Number of commits');"
   ]
  },
  {
   "cell_type": "markdown",
   "metadata": {},
   "source": [
    "### Did the commits modify more files at the project start?"
   ]
  },
  {
   "cell_type": "code",
   "execution_count": 10,
   "metadata": {},
   "outputs": [
    {
     "data": {
      "image/png": "[encoded data removed]",
      "text/plain": [
       "<matplotlib.figure.Figure at 0x7f01e0ddc0f0>"
      ]
     },
     "metadata": {},
     "output_type": "display_data"
    }
   ],
   "source": [
    "sns.jointplot(x = 'TIMESTAMP', y = 'MODIFICATIONS_COUNT', data = exploration);"
   ]
  },
  {
   "cell_type": "markdown",
   "metadata": {},
   "source": [
    "### ... about the timestamps?\n",
    "\n",
    "#### Was there more commits at the project start?"
   ]
  },
  {
   "cell_type": "code",
   "execution_count": 49,
   "metadata": {},
   "outputs": [
    {
     "data": {
      "text/plain": [
       "<matplotlib.axes._subplots.AxesSubplot at 0x7f01df56c7f0>"
      ]
     },
     "execution_count": 49,
     "metadata": {},
     "output_type": "execute_result"
    },
    {
     "data": {
      "image/png": "[encoded data removed]",
      "text/plain": [
       "<matplotlib.figure.Figure at 0x7f01df293ba8>"
      ]
     },
     "metadata": {},
     "output_type": "display_data"
    }
   ],
   "source": [
    "sns.distplot(exploration['TIMESTAMP'])"
   ]
  },
  {
   "cell_type": "markdown",
   "metadata": {
    "collapsed": true
   },
   "source": [
    "# Commits classification\n",
    "\n",
    "The *classification* dataset is the output of the *git diff*s analysis.\n",
    "\n",
    "For now, we classify commits in three categories :\n",
    "* **DOCUMENTATION** for the commits which add commentaries and add/modify documentation files.\n",
    "* **FEATURE_ADD** for the commits which add new functionalities.\n",
    "* **MAINTENANCE** for the commits which do refactor, performance enhancement, ...\n",
    "\n",
    "For each category, we try to define relevant metrics knowing that some metrics may be shared by two categories. For each, we produce a coefficient which represent more or less the number of lines which fit the category (a same line may be count several time if it fits several metrics for one category, ...). If all coefficients are zero, we put **UNKNOWN** as commit category.\n",
    "\n",
    "There is fewer commits than at the exploration phase because some metrics use the diff and it is source of bugs for now."
   ]
  },
  {
   "cell_type": "code",
   "execution_count": 11,
   "metadata": {},
   "outputs": [
    {
     "name": "stdout",
     "output_type": "stream",
     "text": [
      "The dataset contains informations about 23580 commits.\n"
     ]
    },
    {
     "data": {
      "text/html": [
       "<div>\n",
       "<style scoped>\n",
       "    .dataframe tbody tr th:only-of-type {\n",
       "        vertical-align: middle;\n",
       "    }\n",
       "\n",
       "    .dataframe tbody tr th {\n",
       "        vertical-align: top;\n",
       "    }\n",
       "\n",
       "    .dataframe thead th {\n",
       "        text-align: right;\n",
       "    }\n",
       "</style>\n",
       "<table border=\"1\" class=\"dataframe\">\n",
       "  <thead>\n",
       "    <tr style=\"text-align: right;\">\n",
       "      <th></th>\n",
       "      <th>COMMIT_HASH</th>\n",
       "      <th>PREDICTED</th>\n",
       "      <th>DOCUMENTATION</th>\n",
       "      <th>FEATURE_ADD</th>\n",
       "      <th>MAINTENANCE</th>\n",
       "    </tr>\n",
       "  </thead>\n",
       "  <tbody>\n",
       "    <tr>\n",
       "      <th>17176</th>\n",
       "      <td>f887cce6e33346cc3764b71d897b2cf209be8c47</td>\n",
       "      <td>UNKNOWN</td>\n",
       "      <td>0</td>\n",
       "      <td>0</td>\n",
       "      <td>0</td>\n",
       "    </tr>\n",
       "    <tr>\n",
       "      <th>19991</th>\n",
       "      <td>e103c317b302b16cb912c65f6206b98b9168c887</td>\n",
       "      <td>UNKNOWN</td>\n",
       "      <td>0</td>\n",
       "      <td>0</td>\n",
       "      <td>0</td>\n",
       "    </tr>\n",
       "    <tr>\n",
       "      <th>14752</th>\n",
       "      <td>f7026b04f5e5909aa15848b25de2becd675871a9</td>\n",
       "      <td>UNKNOWN</td>\n",
       "      <td>0</td>\n",
       "      <td>0</td>\n",
       "      <td>0</td>\n",
       "    </tr>\n",
       "    <tr>\n",
       "      <th>16580</th>\n",
       "      <td>2c836780222a9ab8dd9ce1b59448e7f1c3bfb01b</td>\n",
       "      <td>UNKNOWN</td>\n",
       "      <td>0</td>\n",
       "      <td>0</td>\n",
       "      <td>0</td>\n",
       "    </tr>\n",
       "    <tr>\n",
       "      <th>8972</th>\n",
       "      <td>b93105e8febec3981e5b3521ed301e9e3ea6fd1b</td>\n",
       "      <td>FEATURE_ADD</td>\n",
       "      <td>1</td>\n",
       "      <td>9</td>\n",
       "      <td>0</td>\n",
       "    </tr>\n",
       "    <tr>\n",
       "      <th>9690</th>\n",
       "      <td>da968171cfaebb411ca7e781b29052fe068657e4</td>\n",
       "      <td>UNKNOWN</td>\n",
       "      <td>0</td>\n",
       "      <td>0</td>\n",
       "      <td>0</td>\n",
       "    </tr>\n",
       "    <tr>\n",
       "      <th>16989</th>\n",
       "      <td>7f49bc178142b08001682449de1d134eed7abdef</td>\n",
       "      <td>DOCUMENTATION</td>\n",
       "      <td>2</td>\n",
       "      <td>1</td>\n",
       "      <td>0</td>\n",
       "    </tr>\n",
       "    <tr>\n",
       "      <th>18445</th>\n",
       "      <td>a2c8d1214a99ef36fcb81107c420dd7b24fe6c11</td>\n",
       "      <td>DOCUMENTATION</td>\n",
       "      <td>20</td>\n",
       "      <td>14</td>\n",
       "      <td>0</td>\n",
       "    </tr>\n",
       "    <tr>\n",
       "      <th>8233</th>\n",
       "      <td>f758445479a28e2c169789f38011834cf27f3d41</td>\n",
       "      <td>UNKNOWN</td>\n",
       "      <td>0</td>\n",
       "      <td>0</td>\n",
       "      <td>0</td>\n",
       "    </tr>\n",
       "    <tr>\n",
       "      <th>22592</th>\n",
       "      <td>e19bb7ce5a0c8d1d2a2575d4a3181aec18494509</td>\n",
       "      <td>DOCUMENTATION</td>\n",
       "      <td>2</td>\n",
       "      <td>2</td>\n",
       "      <td>0</td>\n",
       "    </tr>\n",
       "  </tbody>\n",
       "</table>\n",
       "</div>"
      ],
      "text/plain": [
       "                                    COMMIT_HASH      PREDICTED  DOCUMENTATION  \\\n",
       "17176  f887cce6e33346cc3764b71d897b2cf209be8c47        UNKNOWN              0   \n",
       "19991  e103c317b302b16cb912c65f6206b98b9168c887        UNKNOWN              0   \n",
       "14752  f7026b04f5e5909aa15848b25de2becd675871a9        UNKNOWN              0   \n",
       "16580  2c836780222a9ab8dd9ce1b59448e7f1c3bfb01b        UNKNOWN              0   \n",
       "8972   b93105e8febec3981e5b3521ed301e9e3ea6fd1b    FEATURE_ADD              1   \n",
       "9690   da968171cfaebb411ca7e781b29052fe068657e4        UNKNOWN              0   \n",
       "16989  7f49bc178142b08001682449de1d134eed7abdef  DOCUMENTATION              2   \n",
       "18445  a2c8d1214a99ef36fcb81107c420dd7b24fe6c11  DOCUMENTATION             20   \n",
       "8233   f758445479a28e2c169789f38011834cf27f3d41        UNKNOWN              0   \n",
       "22592  e19bb7ce5a0c8d1d2a2575d4a3181aec18494509  DOCUMENTATION              2   \n",
       "\n",
       "       FEATURE_ADD  MAINTENANCE  \n",
       "17176            0            0  \n",
       "19991            0            0  \n",
       "14752            0            0  \n",
       "16580            0            0  \n",
       "8972             9            0  \n",
       "9690             0            0  \n",
       "16989            1            0  \n",
       "18445           14            0  \n",
       "8233             0            0  \n",
       "22592            2            0  "
      ]
     },
     "execution_count": 11,
     "metadata": {},
     "output_type": "execute_result"
    }
   ],
   "source": [
    "print('The dataset contains informations about', len(classification), 'commits.')\n",
    "\n",
    "classification.sample(10)"
   ]
  },
  {
   "cell_type": "markdown",
   "metadata": {},
   "source": [
    "#### Predicted categories"
   ]
  },
  {
   "cell_type": "code",
   "execution_count": 31,
   "metadata": {},
   "outputs": [
    {
     "data": {
      "text/plain": [
       "Text(0,0.5,'Number of commits')"
      ]
     },
     "execution_count": 31,
     "metadata": {},
     "output_type": "execute_result"
    },
    {
     "data": {
      "image/png": "[encoded data removed]",
      "text/plain": [
       "<matplotlib.figure.Figure at 0x7f01e0e17940>"
      ]
     },
     "metadata": {},
     "output_type": "display_data"
    }
   ],
   "source": [
    "sns.countplot(classification['PREDICTED'])\n",
    "plt.title('Number of commits per predicted category')\n",
    "plt.xlabel('Predicted category')\n",
    "plt.ylabel('Number of commits')"
   ]
  },
  {
   "cell_type": "markdown",
   "metadata": {},
   "source": [
    "#### Correlation between coefficients"
   ]
  },
  {
   "cell_type": "code",
   "execution_count": 39,
   "metadata": {},
   "outputs": [
    {
     "data": {
      "image/png": "[encoded data removed]",
      "text/plain": [
       "<matplotlib.figure.Figure at 0x7f01e00bf128>"
      ]
     },
     "metadata": {},
     "output_type": "display_data"
    }
   ],
   "source": [
    "sns.jointplot(x = 'DOCUMENTATION', y = 'FEATURE_ADD', data = classification);"
   ]
  },
  {
   "cell_type": "code",
   "execution_count": 41,
   "metadata": {},
   "outputs": [
    {
     "data": {
      "image/png": "[encoded data removed]",
      "text/plain": [
       "<matplotlib.figure.Figure at 0x7f01dfbe8cc0>"
      ]
     },
     "metadata": {},
     "output_type": "display_data"
    }
   ],
   "source": [
    "sns.jointplot(x = 'DOCUMENTATION', y = 'MAINTENANCE', data = classification);"
   ]
  },
  {
   "cell_type": "code",
   "execution_count": 42,
   "metadata": {},
   "outputs": [
    {
     "data": {
      "image/png": "[encoded data removed]",
      "text/plain": [
       "<matplotlib.figure.Figure at 0x7f01dfbe0940>"
      ]
     },
     "metadata": {},
     "output_type": "display_data"
    }
   ],
   "source": [
    "sns.jointplot(x = 'FEATURE_ADD', y = 'MAINTENANCE', data = classification);"
   ]
  },
  {
   "cell_type": "code",
   "execution_count": null,
   "metadata": {
    "collapsed": true
   },
   "outputs": [],
   "source": []
  }
 ],
 "metadata": {
  "kernelspec": {
   "display_name": "Python 3",
   "language": "python",
   "name": "python3"
  },
  "language_info": {
   "codemirror_mode": {
    "name": "ipython",
    "version": 3
   },
   "file_extension": ".py",
   "mimetype": "text/x-python",
   "name": "python",
   "nbconvert_exporter": "python",
   "pygments_lexer": "ipython3",
   "version": "3.6.4"
  }
 },
 "nbformat": 4,
 "nbformat_minor": 2
}
